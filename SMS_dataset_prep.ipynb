{
  "cells": [
    {
      "cell_type": "markdown",
      "metadata": {
        "colab_type": "text",
        "id": "view-in-github"
      },
      "source": [
        "<a href=\"https://colab.research.google.com/github/AI4GoodE1/AI4GoodE1/blob/main/SMS_dataset_prep.ipynb\" target=\"_parent\"><img src=\"https://colab.research.google.com/assets/colab-badge.svg\" alt=\"Open In Colab\"/></a>"
      ]
    },
    {
      "cell_type": "code",
      "execution_count": 44,
      "metadata": {
        "colab": {
          "base_uri": "https://localhost:8080/"
        },
        "id": "poEmvp4T3Jz5",
        "outputId": "21a0d072-1aa8-48e6-c707-0e5a553ea736"
      },
      "outputs": [
        {
          "name": "stdout",
          "output_type": "stream",
          "text": [
            "Requirement already satisfied: datasets in c:\\users\\shane\\anaconda3\\envs\\ai4goodlab\\lib\\site-packages (2.2.2)\n",
            "Requirement already satisfied: responses<0.19 in c:\\users\\shane\\anaconda3\\envs\\ai4goodlab\\lib\\site-packages (from datasets) (0.18.0)\n",
            "Requirement already satisfied: xxhash in c:\\users\\shane\\anaconda3\\envs\\ai4goodlab\\lib\\site-packages (from datasets) (3.0.0)\n",
            "Requirement already satisfied: numpy>=1.17 in c:\\users\\shane\\anaconda3\\envs\\ai4goodlab\\lib\\site-packages (from datasets) (1.21.5)\n",
            "Requirement already satisfied: multiprocess in c:\\users\\shane\\anaconda3\\envs\\ai4goodlab\\lib\\site-packages (from datasets) (0.70.12.2)\n",
            "Requirement already satisfied: aiohttp in c:\\users\\shane\\anaconda3\\envs\\ai4goodlab\\lib\\site-packages (from datasets) (3.8.1)\n",
            "Requirement already satisfied: fsspec[http]>=2021.05.0 in c:\\users\\shane\\anaconda3\\envs\\ai4goodlab\\lib\\site-packages (from datasets) (2022.5.0)\n",
            "Requirement already satisfied: huggingface-hub<1.0.0,>=0.1.0 in c:\\users\\shane\\anaconda3\\envs\\ai4goodlab\\lib\\site-packages (from datasets) (0.7.0)\n",
            "Requirement already satisfied: pandas in c:\\users\\shane\\anaconda3\\envs\\ai4goodlab\\lib\\site-packages (from datasets) (1.4.2)\n",
            "Requirement already satisfied: tqdm>=4.62.1 in c:\\users\\shane\\anaconda3\\envs\\ai4goodlab\\lib\\site-packages (from datasets) (4.64.0)\n",
            "Requirement already satisfied: dill<0.3.5 in c:\\users\\shane\\anaconda3\\envs\\ai4goodlab\\lib\\site-packages (from datasets) (0.3.4)\n",
            "Requirement already satisfied: pyarrow>=6.0.0 in c:\\users\\shane\\anaconda3\\envs\\ai4goodlab\\lib\\site-packages (from datasets) (8.0.0)\n",
            "Requirement already satisfied: packaging in c:\\users\\shane\\anaconda3\\envs\\ai4goodlab\\lib\\site-packages (from datasets) (21.3)\n",
            "Requirement already satisfied: requests>=2.19.0 in c:\\users\\shane\\anaconda3\\envs\\ai4goodlab\\lib\\site-packages (from datasets) (2.27.1)\n",
            "Requirement already satisfied: typing-extensions>=3.7.4.3 in c:\\users\\shane\\anaconda3\\envs\\ai4goodlab\\lib\\site-packages (from huggingface-hub<1.0.0,>=0.1.0->datasets) (4.2.0)\n",
            "Requirement already satisfied: pyyaml>=5.1 in c:\\users\\shane\\anaconda3\\envs\\ai4goodlab\\lib\\site-packages (from huggingface-hub<1.0.0,>=0.1.0->datasets) (6.0)\n",
            "Requirement already satisfied: filelock in c:\\users\\shane\\anaconda3\\envs\\ai4goodlab\\lib\\site-packages (from huggingface-hub<1.0.0,>=0.1.0->datasets) (3.7.1)\n",
            "Requirement already satisfied: pyparsing!=3.0.5,>=2.0.2 in c:\\users\\shane\\anaconda3\\envs\\ai4goodlab\\lib\\site-packages (from packaging->datasets) (3.0.4)\n",
            "Requirement already satisfied: certifi>=2017.4.17 in c:\\users\\shane\\anaconda3\\envs\\ai4goodlab\\lib\\site-packages (from requests>=2.19.0->datasets) (2022.5.18.1)\n",
            "Requirement already satisfied: charset-normalizer~=2.0.0 in c:\\users\\shane\\anaconda3\\envs\\ai4goodlab\\lib\\site-packages (from requests>=2.19.0->datasets) (2.0.12)\n",
            "Requirement already satisfied: urllib3<1.27,>=1.21.1 in c:\\users\\shane\\anaconda3\\envs\\ai4goodlab\\lib\\site-packages (from requests>=2.19.0->datasets) (1.26.9)\n",
            "Requirement already satisfied: idna<4,>=2.5 in c:\\users\\shane\\anaconda3\\envs\\ai4goodlab\\lib\\site-packages (from requests>=2.19.0->datasets) (3.3)\n",
            "Requirement already satisfied: colorama in c:\\users\\shane\\anaconda3\\envs\\ai4goodlab\\lib\\site-packages (from tqdm>=4.62.1->datasets) (0.4.4)\n",
            "Requirement already satisfied: async-timeout<5.0,>=4.0.0a3 in c:\\users\\shane\\anaconda3\\envs\\ai4goodlab\\lib\\site-packages (from aiohttp->datasets) (4.0.2)\n",
            "Requirement already satisfied: attrs>=17.3.0 in c:\\users\\shane\\anaconda3\\envs\\ai4goodlab\\lib\\site-packages (from aiohttp->datasets) (21.4.0)\n",
            "Requirement already satisfied: yarl<2.0,>=1.0 in c:\\users\\shane\\anaconda3\\envs\\ai4goodlab\\lib\\site-packages (from aiohttp->datasets) (1.7.2)\n",
            "Requirement already satisfied: aiosignal>=1.1.2 in c:\\users\\shane\\anaconda3\\envs\\ai4goodlab\\lib\\site-packages (from aiohttp->datasets) (1.2.0)\n",
            "Requirement already satisfied: frozenlist>=1.1.1 in c:\\users\\shane\\anaconda3\\envs\\ai4goodlab\\lib\\site-packages (from aiohttp->datasets) (1.3.0)\n",
            "Requirement already satisfied: multidict<7.0,>=4.5 in c:\\users\\shane\\anaconda3\\envs\\ai4goodlab\\lib\\site-packages (from aiohttp->datasets) (6.0.2)\n",
            "Requirement already satisfied: python-dateutil>=2.8.1 in c:\\users\\shane\\anaconda3\\envs\\ai4goodlab\\lib\\site-packages (from pandas->datasets) (2.8.2)\n",
            "Requirement already satisfied: pytz>=2020.1 in c:\\users\\shane\\anaconda3\\envs\\ai4goodlab\\lib\\site-packages (from pandas->datasets) (2021.3)\n",
            "Requirement already satisfied: six>=1.5 in c:\\users\\shane\\anaconda3\\envs\\ai4goodlab\\lib\\site-packages (from python-dateutil>=2.8.1->pandas->datasets) (1.16.0)\n"
          ]
        }
      ],
      "source": [
        "!pip install datasets"
      ]
    },
    {
      "cell_type": "code",
      "execution_count": 45,
      "metadata": {
        "id": "Vl8xCHUd-Urf"
      },
      "outputs": [],
      "source": [
        "#imports\n",
        "import numpy as np\n",
        "import pandas as pd\n",
        "\n",
        "#Huggingface\n",
        "from datasets import load_dataset\n",
        "\n",
        "# Libraries needed for NLP\n",
        "import nltk\n",
        "from nltk.corpus import stopwords\n",
        "from nltk.stem import WordNetLemmatizer\n",
        "import re"
      ]
    },
    {
      "cell_type": "markdown",
      "metadata": {
        "id": "IR7qsTI68IIV"
      },
      "source": [
        "The SMS dataset: **Cleaning**"
      ]
    },
    {
      "cell_type": "code",
      "execution_count": 46,
      "metadata": {
        "colab": {
          "base_uri": "https://localhost:8080/",
          "height": 86,
          "referenced_widgets": [
            "dd77e87bd0d84d928d933e7c99904ffd",
            "a1a4f3977891423383ae805212ea1d55",
            "79ac693d88594c6ca1e1334cad4b6900",
            "bda99aabe03a411c9f54a886629cfa65",
            "492ee9da39f4449bae2456a169b6f712",
            "5e8a99c2314f4049bb77f263afb5c8f1",
            "e7661b462a1a4d26858b4b64bea48fd7",
            "3cff6dba9c0e48d8a5435e942bf718ef",
            "39d4be29b7404f0da35dba0207f5d07d",
            "acc760d3bc7d4172a0faa446e803838a",
            "1e46fb2a17224f9d9427e2e538092d30"
          ]
        },
        "id": "i7lqWfHP2qt2",
        "outputId": "d1b319b6-0e74-4acb-bb9b-cafa9d267745"
      },
      "outputs": [
        {
          "name": "stderr",
          "output_type": "stream",
          "text": [
            "Reusing dataset sms_spam (C:\\Users\\shane\\.cache\\huggingface\\datasets\\sms_spam\\plain_text\\1.0.0\\53f051d3b5f62d99d61792c91acefe4f1577ad3e4c216fb0ad39e30b9f20019c)\n",
            "100%|██████████| 1/1 [00:00<00:00, 432.49it/s]\n"
          ]
        }
      ],
      "source": [
        "dataset = load_dataset(\"sms_spam\")"
      ]
    },
    {
      "cell_type": "code",
      "execution_count": 47,
      "metadata": {
        "colab": {
          "base_uri": "https://localhost:8080/"
        },
        "id": "pWGcb5pX3Xl9",
        "outputId": "300ce196-2fad-494a-df03-facda1354663"
      },
      "outputs": [
        {
          "data": {
            "text/plain": [
              "DatasetDict({\n",
              "    train: Dataset({\n",
              "        features: ['sms', 'label'],\n",
              "        num_rows: 5574\n",
              "    })\n",
              "})"
            ]
          },
          "execution_count": 47,
          "metadata": {},
          "output_type": "execute_result"
        }
      ],
      "source": [
        "dataset"
      ]
    },
    {
      "cell_type": "code",
      "execution_count": 48,
      "metadata": {
        "colab": {
          "base_uri": "https://localhost:8080/"
        },
        "id": "glABjK8J3rUH",
        "outputId": "aa1a758a-4edb-4db4-e4d4-ac2d88040dbb"
      },
      "outputs": [
        {
          "data": {
            "text/plain": [
              "DatasetDict({\n",
              "    train: Dataset({\n",
              "        features: ['Text', 'Class'],\n",
              "        num_rows: 5574\n",
              "    })\n",
              "})"
            ]
          },
          "execution_count": 48,
          "metadata": {},
          "output_type": "execute_result"
        }
      ],
      "source": [
        "dataset = dataset.rename_column(\"sms\", \"Text\")\n",
        "dataset = dataset.rename_column(\"label\", \"Class\")\n",
        "dataset"
      ]
    },
    {
      "cell_type": "code",
      "execution_count": 49,
      "metadata": {
        "id": "Fk2g_rrq40FP"
      },
      "outputs": [],
      "source": [
        "dataset = dataset[\"train\"]"
      ]
    },
    {
      "cell_type": "code",
      "execution_count": 50,
      "metadata": {
        "colab": {
          "base_uri": "https://localhost:8080/",
          "height": 66,
          "referenced_widgets": [
            "39c41d94ee8e4486b3ec63b8457dc759",
            "e2adcf06c3ea4d2786231a9fcae21d35",
            "42fb17047c594949964c4915444f7c8a",
            "b4c2d6bcc05846159ecfa41e0005d45a",
            "6715e1cdccfd4bed8f1f5b0c0d2fd764",
            "2ae1fe96759f4732af2b95fb047e1403",
            "807fd00171f74aef93da426e3c8f3d3c",
            "a9d1eaf6800340eaad699870eb8cd9df",
            "daf563f812064a5a96923cd3345b7d89",
            "8b0cee1162124034aaad4396ad95aabf",
            "8d20898d5e694306bc83ea0c16d67422"
          ]
        },
        "id": "QUDjnJr_6ATG",
        "outputId": "c8a0d2a3-ab4b-4303-a3b2-e6fe5092f907"
      },
      "outputs": [
        {
          "name": "stderr",
          "output_type": "stream",
          "text": [
            "Creating CSV from Arrow format: 100%|██████████| 1/1 [00:00<00:00, 26.56ba/s]\n"
          ]
        },
        {
          "data": {
            "text/plain": [
              "488667"
            ]
          },
          "execution_count": 50,
          "metadata": {},
          "output_type": "execute_result"
        }
      ],
      "source": [
        "dataset.to_csv('dataset/sms_dataset_raw.csv', index=False)"
      ]
    },
    {
      "cell_type": "code",
      "execution_count": 51,
      "metadata": {
        "colab": {
          "base_uri": "https://localhost:8080/",
          "height": 424
        },
        "id": "zpk5Zdp--HyT",
        "outputId": "ffc186ce-0a8b-4309-b80e-2bb528524fc4"
      },
      "outputs": [
        {
          "data": {
            "text/html": [
              "<div>\n",
              "<style scoped>\n",
              "    .dataframe tbody tr th:only-of-type {\n",
              "        vertical-align: middle;\n",
              "    }\n",
              "\n",
              "    .dataframe tbody tr th {\n",
              "        vertical-align: top;\n",
              "    }\n",
              "\n",
              "    .dataframe thead th {\n",
              "        text-align: right;\n",
              "    }\n",
              "</style>\n",
              "<table border=\"1\" class=\"dataframe\">\n",
              "  <thead>\n",
              "    <tr style=\"text-align: right;\">\n",
              "      <th></th>\n",
              "      <th>Text</th>\n",
              "      <th>Class</th>\n",
              "    </tr>\n",
              "  </thead>\n",
              "  <tbody>\n",
              "    <tr>\n",
              "      <th>0</th>\n",
              "      <td>Go until jurong point, crazy.. Available only ...</td>\n",
              "      <td>0</td>\n",
              "    </tr>\n",
              "    <tr>\n",
              "      <th>1</th>\n",
              "      <td>Ok lar... Joking wif u oni...\\n</td>\n",
              "      <td>0</td>\n",
              "    </tr>\n",
              "    <tr>\n",
              "      <th>2</th>\n",
              "      <td>Free entry in 2 a wkly comp to win FA Cup fina...</td>\n",
              "      <td>1</td>\n",
              "    </tr>\n",
              "    <tr>\n",
              "      <th>3</th>\n",
              "      <td>U dun say so early hor... U c already then say...</td>\n",
              "      <td>0</td>\n",
              "    </tr>\n",
              "    <tr>\n",
              "      <th>4</th>\n",
              "      <td>Nah I don't think he goes to usf, he lives aro...</td>\n",
              "      <td>0</td>\n",
              "    </tr>\n",
              "    <tr>\n",
              "      <th>...</th>\n",
              "      <td>...</td>\n",
              "      <td>...</td>\n",
              "    </tr>\n",
              "    <tr>\n",
              "      <th>5569</th>\n",
              "      <td>This is the 2nd time we have tried 2 contact u...</td>\n",
              "      <td>1</td>\n",
              "    </tr>\n",
              "    <tr>\n",
              "      <th>5570</th>\n",
              "      <td>Will ü b going to esplanade fr home?\\n</td>\n",
              "      <td>0</td>\n",
              "    </tr>\n",
              "    <tr>\n",
              "      <th>5571</th>\n",
              "      <td>Pity, * was in mood for that. So...any other s...</td>\n",
              "      <td>0</td>\n",
              "    </tr>\n",
              "    <tr>\n",
              "      <th>5572</th>\n",
              "      <td>The guy did some bitching but I acted like i'd...</td>\n",
              "      <td>0</td>\n",
              "    </tr>\n",
              "    <tr>\n",
              "      <th>5573</th>\n",
              "      <td>Rofl. Its true to its name\\n</td>\n",
              "      <td>0</td>\n",
              "    </tr>\n",
              "  </tbody>\n",
              "</table>\n",
              "<p>5574 rows × 2 columns</p>\n",
              "</div>"
            ],
            "text/plain": [
              "                                                   Text  Class\n",
              "0     Go until jurong point, crazy.. Available only ...      0\n",
              "1                       Ok lar... Joking wif u oni...\\n      0\n",
              "2     Free entry in 2 a wkly comp to win FA Cup fina...      1\n",
              "3     U dun say so early hor... U c already then say...      0\n",
              "4     Nah I don't think he goes to usf, he lives aro...      0\n",
              "...                                                 ...    ...\n",
              "5569  This is the 2nd time we have tried 2 contact u...      1\n",
              "5570             Will ü b going to esplanade fr home?\\n      0\n",
              "5571  Pity, * was in mood for that. So...any other s...      0\n",
              "5572  The guy did some bitching but I acted like i'd...      0\n",
              "5573                       Rofl. Its true to its name\\n      0\n",
              "\n",
              "[5574 rows x 2 columns]"
            ]
          },
          "execution_count": 51,
          "metadata": {},
          "output_type": "execute_result"
        }
      ],
      "source": [
        "df = pd.read_csv('dataset/sms_dataset_raw.csv')\n",
        "df"
      ]
    },
    {
      "cell_type": "code",
      "execution_count": 52,
      "metadata": {
        "colab": {
          "base_uri": "https://localhost:8080/",
          "height": 49
        },
        "id": "885IZ8oX-GuW",
        "outputId": "58b63d1c-11de-42e9-9ef4-49abc71a93ab"
      },
      "outputs": [
        {
          "data": {
            "text/html": [
              "<div>\n",
              "<style scoped>\n",
              "    .dataframe tbody tr th:only-of-type {\n",
              "        vertical-align: middle;\n",
              "    }\n",
              "\n",
              "    .dataframe tbody tr th {\n",
              "        vertical-align: top;\n",
              "    }\n",
              "\n",
              "    .dataframe thead th {\n",
              "        text-align: right;\n",
              "    }\n",
              "</style>\n",
              "<table border=\"1\" class=\"dataframe\">\n",
              "  <thead>\n",
              "    <tr style=\"text-align: right;\">\n",
              "      <th></th>\n",
              "      <th>Text</th>\n",
              "      <th>Class</th>\n",
              "    </tr>\n",
              "  </thead>\n",
              "  <tbody>\n",
              "  </tbody>\n",
              "</table>\n",
              "</div>"
            ],
            "text/plain": [
              "Empty DataFrame\n",
              "Columns: [Text, Class]\n",
              "Index: []"
            ]
          },
          "execution_count": 52,
          "metadata": {},
          "output_type": "execute_result"
        }
      ],
      "source": [
        "# Check for NaN values in data\n",
        "df1 = df[df.isna().any(axis=1)]\n",
        "df1"
      ]
    },
    {
      "cell_type": "code",
      "execution_count": 53,
      "metadata": {
        "colab": {
          "base_uri": "https://localhost:8080/"
        },
        "id": "nxESVW4i-dKl",
        "outputId": "cf1bd001-2749-4888-9ce2-de26054cdb72"
      },
      "outputs": [
        {
          "name": "stdout",
          "output_type": "stream",
          "text": [
            "Total: 5574\n",
            "Unique: 5171\n"
          ]
        }
      ],
      "source": [
        "# Check for duplicates in data\n",
        "print(\"Total: \" + str(len(df)))\n",
        "print(\"Unique: \" + str(df[\"Text\"].nunique()))"
      ]
    },
    {
      "cell_type": "code",
      "execution_count": 54,
      "metadata": {
        "colab": {
          "base_uri": "https://localhost:8080/"
        },
        "id": "OgMl6oVU-iNS",
        "outputId": "169a4c41-7c8d-4b40-f645-843497f3b908"
      },
      "outputs": [
        {
          "name": "stdout",
          "output_type": "stream",
          "text": [
            "Target 5171\n",
            "Before 5574\n",
            "After 5171\n"
          ]
        }
      ],
      "source": [
        "#Remove Duplicates\n",
        "print(\"Target\",df[\"Text\"].nunique())\n",
        "print(\"Before\",len(df))\n",
        "#pd.set_option(\"max_rows\", None)\n",
        "df_unique = df.drop_duplicates(subset = \"Text\", keep='first')\n",
        "print(\"After\",len(df_unique))"
      ]
    },
    {
      "cell_type": "code",
      "execution_count": 55,
      "metadata": {
        "id": "tT7zxcJf-lkP"
      },
      "outputs": [],
      "source": [
        "# Export cleaned dataset to csv\n",
        "df_unique.to_csv('dataset/sms_cleaned_no_dups.csv', index = False)"
      ]
    },
    {
      "cell_type": "markdown",
      "metadata": {
        "id": "wf5yPdVw-sxf"
      },
      "source": [
        "SMS Dataset: **Pre-processing**"
      ]
    },
    {
      "cell_type": "code",
      "execution_count": 56,
      "metadata": {
        "colab": {
          "base_uri": "https://localhost:8080/"
        },
        "id": "JmcoKfMo-sDV",
        "outputId": "c85d7860-5fb0-47fa-9df6-f952087a920f"
      },
      "outputs": [
        {
          "name": "stderr",
          "output_type": "stream",
          "text": [
            "[nltk_data] Downloading package stopwords to\n",
            "[nltk_data]     C:\\Users\\shane\\AppData\\Roaming\\nltk_data...\n",
            "[nltk_data]   Package stopwords is already up-to-date!\n",
            "[nltk_data] Downloading package punkt to\n",
            "[nltk_data]     C:\\Users\\shane\\AppData\\Roaming\\nltk_data...\n",
            "[nltk_data]   Package punkt is already up-to-date!\n",
            "[nltk_data] Downloading package wordnet to\n",
            "[nltk_data]     C:\\Users\\shane\\AppData\\Roaming\\nltk_data...\n",
            "[nltk_data]   Package wordnet is already up-to-date!\n",
            "[nltk_data] Downloading package omw-1.4 to\n",
            "[nltk_data]     C:\\Users\\shane\\AppData\\Roaming\\nltk_data...\n",
            "[nltk_data]   Package omw-1.4 is already up-to-date!\n"
          ]
        }
      ],
      "source": [
        "# Stopwords\n",
        "nltk.download('stopwords')\n",
        "nltk.download('punkt')\n",
        "stop_words = set(stopwords.words('english'))\n",
        "# Lemmatizer\n",
        "nltk.download('wordnet')\n",
        "nltk.download('omw-1.4')\n",
        "lemmatizer = WordNetLemmatizer()"
      ]
    },
    {
      "cell_type": "code",
      "execution_count": 57,
      "metadata": {
        "colab": {
          "base_uri": "https://localhost:8080/"
        },
        "id": "MEjOcaMP_e1J",
        "outputId": "609c87e2-d505-4a68-f773-4b943723da50"
      },
      "outputs": [
        {
          "name": "stderr",
          "output_type": "stream",
          "text": [
            "C:\\Users\\shane\\AppData\\Local\\Temp\\ipykernel_21612\\260097670.py:4: FutureWarning: The default value of regex will change from True to False in a future version.\n",
            "  df['Text'] = df['Text'].str.replace(r'(<?)([A-Za-z0-9.]{1,30})@([A-Za-z0-9.]{1,30}).([a-z]{2,3})(>?)', 'emailaddress')\n",
            "C:\\Users\\shane\\AppData\\Local\\Temp\\ipykernel_21612\\260097670.py:7: FutureWarning: The default value of regex will change from True to False in a future version.\n",
            "  df['Text'] = df['Text'].str.replace(r\"(https?:)(.?)(([^\\s]+)|$)|(www.)(.?)(([^\\s]+)|$)|(news.)(.*?)(([^\\s]+)|$)\", 'webaddress')\n",
            "C:\\Users\\shane\\AppData\\Local\\Temp\\ipykernel_21612\\260097670.py:10: FutureWarning: The default value of regex will change from True to False in a future version.\n",
            "  df['Text'] = df['Text'].str.replace(r'^\\(?[\\d]{3}\\)?[\\s-]?[\\d]{3}[\\s-]?[\\d]{4}$', 'phone-number')\n",
            "C:\\Users\\shane\\AppData\\Local\\Temp\\ipykernel_21612\\260097670.py:13: FutureWarning: The default value of regex will change from True to False in a future version.\n",
            "  df['Text'] = df['Text'].str.replace(r'\\d+(\\.\\d+)?', 'number')\n",
            "C:\\Users\\shane\\AppData\\Local\\Temp\\ipykernel_21612\\260097670.py:16: FutureWarning: The default value of regex will change from True to False in a future version.\n",
            "  df['Text'] = df['Text'].str.replace(r'(qzsoft)(\\S+)', ' qzsoft')\n",
            "C:\\Users\\shane\\AppData\\Local\\Temp\\ipykernel_21612\\260097670.py:19: FutureWarning: The default value of regex will change from True to False in a future version.\n",
            "  df['Text'] = df['Text'].str.replace(r'([\\S]{250,})', 'brokenmime')\n",
            "C:\\Users\\shane\\AppData\\Local\\Temp\\ipykernel_21612\\260097670.py:22: FutureWarning: The default value of regex will change from True to False in a future version.\n",
            "  df['Text'] = df['Text'].str.replace(r'\\s+', ' ')\n",
            "C:\\Users\\shane\\AppData\\Local\\Temp\\ipykernel_21612\\260097670.py:25: FutureWarning: The default value of regex will change from True to False in a future version.\n",
            "  df['Text'] = df['Text'].str.replace(r'^\\s+|\\s*?$', ' ')\n",
            "C:\\Users\\shane\\AppData\\Local\\Temp\\ipykernel_21612\\260097670.py:28: FutureWarning: The default value of regex will change from True to False in a future version.\n",
            "  df['Text'] = df['Text'].str.replace(r\"<(\\\"[^\\\"]*\\\"|'[^']*'|[^'\\\">])*>\", ' formatting ')\n",
            "C:\\Users\\shane\\AppData\\Local\\Temp\\ipykernel_21612\\260097670.py:29: FutureWarning: The default value of regex will change from True to False in a future version.\n",
            "  df['Text'] = df['Text'].str.replace(r\"(&nbsp;)\", ' formatting ')\n",
            "C:\\Users\\shane\\AppData\\Local\\Temp\\ipykernel_21612\\260097670.py:31: FutureWarning: The default value of regex will change from True to False in a future version.\n",
            "  df['Text'] = df['Text'].str.replace(r\"[_]{1,}\", 'blankLines')\n",
            "C:\\Users\\shane\\AppData\\Local\\Temp\\ipykernel_21612\\260097670.py:34: FutureWarning: The default value of regex will change from True to False in a future version.\n",
            "  df['Text'] = df['Text'].str.replace(r'[^\\w\\d\\s]', ' ')\n"
          ]
        }
      ],
      "source": [
        "# Cleanup\n",
        "\n",
        "# replace email address with 'emailaddress'\n",
        "df['Text'] = df['Text'].str.replace(r'(<?)([A-Za-z0-9.]{1,30})@([A-Za-z0-9.]{1,30}).([a-z]{2,3})(>?)', 'emailaddress')\n",
        "\n",
        "# replace urls with 'webaddress'\n",
        "df['Text'] = df['Text'].str.replace(r\"(https?:)(.?)(([^\\s]+)|$)|(www.)(.?)(([^\\s]+)|$)|(news.)(.*?)(([^\\s]+)|$)\", 'webaddress')\n",
        "\n",
        "# replace 10 digit phone number with 'phone-number'\n",
        "df['Text'] = df['Text'].str.replace(r'^\\(?[\\d]{3}\\)?[\\s-]?[\\d]{3}[\\s-]?[\\d]{4}$', 'phone-number')\n",
        "\n",
        "# replace normal number with 'number'\n",
        "df['Text'] = df['Text'].str.replace(r'\\d+(\\.\\d+)?', 'number')\n",
        "\n",
        "# replace qzsoft strings\n",
        "df['Text'] = df['Text'].str.replace(r'(qzsoft)(\\S+)', ' qzsoft')\n",
        "\n",
        "# replace broken MIME\n",
        "df['Text'] = df['Text'].str.replace(r'([\\S]{250,})', 'brokenmime')\n",
        "\n",
        "# remove whitespace between terms with single space\n",
        "df['Text'] = df['Text'].str.replace(r'\\s+', ' ')\n",
        "\n",
        "# remove leading and trailing whitespace\n",
        "df['Text'] = df['Text'].str.replace(r'^\\s+|\\s*?$', ' ')\n",
        "\n",
        "# # replace html tags with 'format'\n",
        "df['Text'] = df['Text'].str.replace(r\"<(\\\"[^\\\"]*\\\"|'[^']*'|[^'\\\">])*>\", ' formatting ')\n",
        "df['Text'] = df['Text'].str.replace(r\"(&nbsp;)\", ' formatting ')\n",
        "\n",
        "df['Text'] = df['Text'].str.replace(r\"[_]{1,}\", 'blankLines')\n",
        "\n",
        "# remove punctuation\n",
        "df['Text'] = df['Text'].str.replace(r'[^\\w\\d\\s]', ' ')\n",
        "\n",
        "# change words to lower case\n",
        "df['Text'] = df['Text'].str.lower()"
      ]
    },
    {
      "cell_type": "code",
      "execution_count": 58,
      "metadata": {
        "id": "J6ZPCPyu_iMb"
      },
      "outputs": [],
      "source": [
        "# Applying English Stopwords\n",
        "df['Text'] = df['Text'].apply(lambda x: ' '.join(term for term in x.split() if term not in stop_words))\n",
        "# Applying Wordnet Lemmatizer\n",
        "df['Text'] = df['Text'].apply(lambda x: ' '.join(lemmatizer.lemmatize(term) for term in x.split()))"
      ]
    },
    {
      "cell_type": "code",
      "execution_count": 59,
      "metadata": {
        "colab": {
          "base_uri": "https://localhost:8080/"
        },
        "id": "o6fC_LZa_mlO",
        "outputId": "a9f5357e-581d-454b-9367-1f9f95cf34d2"
      },
      "outputs": [
        {
          "name": "stdout",
          "output_type": "stream",
          "text": [
            "ow u dey paid number numberthousad told u would call\n",
            "0\n",
            "-----------------------------------------------------------\n",
            "\n",
            "want explicit sex number sec ring number cost numberp min gsex pobox number wcnumbern numberxx\n",
            "1\n",
            "-----------------------------------------------------------\n",
            "\n",
            "k yan jiu liao sat go number bugis vill one frm number number den hop parco number nb sun go cine frm number number den hop orc mrt number hip hop number\n",
            "0\n",
            "-----------------------------------------------------------\n",
            "\n",
            "dear hero leaving qatar tonite apt opportunity pls keep touch lt email gt kerala\n",
            "0\n",
            "-----------------------------------------------------------\n",
            "\n",
            "probs hon u doinat mo\n",
            "0\n",
            "-----------------------------------------------------------\n",
            "\n",
            "sexy single waiting text age followed gender wither f e g numberf gay men text age followed g e g numberg\n",
            "1\n",
            "-----------------------------------------------------------\n",
            "\n",
            "remains bro amongst bros\n",
            "0\n",
            "-----------------------------------------------------------\n",
            "\n",
            "leave around four ok\n",
            "0\n",
            "-----------------------------------------------------------\n",
            "\n",
            "wan early lei outside wun b home early neva mind\n",
            "0\n",
            "-----------------------------------------------------------\n",
            "\n",
            "monthly amount terrible pay anything till numbermonths finishing school\n",
            "0\n",
            "-----------------------------------------------------------\n",
            "\n"
          ]
        }
      ],
      "source": [
        "# Random sampling of data to investigate dataset\n",
        "for i in range(0,10):\n",
        "  v = df.sample()\n",
        "  # print(v.iloc[0])\n",
        "  print(v.iloc[0][\"Text\"])\n",
        "  print(v.iloc[0][\"Class\"])\n",
        "  print(\"-----------------------------------------------------------\\n\")"
      ]
    },
    {
      "cell_type": "code",
      "execution_count": 60,
      "metadata": {
        "id": "1UJ8-zRI_7aG"
      },
      "outputs": [],
      "source": [
        "#Export\n",
        "# Export cleaned dataset to csv\n",
        "df.to_csv('dataset/fraud_sms_preprocessed.csv', index = False)"
      ]
    }
  ],
  "metadata": {
    "colab": {
      "authorship_tag": "ABX9TyOnAXQl3i2gU1xqkdbOXDfW",
      "include_colab_link": true,
      "name": "SMS_dataset_prep.ipynb",
      "provenance": []
    },
    "interpreter": {
      "hash": "bb43443fa454556f18816e979c43a6320d4342298f866d13f108c6970b0d4f17"
    },
    "kernelspec": {
      "display_name": "Python 3.9.12 ('AI4Goodlab')",
      "language": "python",
      "name": "python3"
    },
    "language_info": {
      "codemirror_mode": {
        "name": "ipython",
        "version": 3
      },
      "file_extension": ".py",
      "mimetype": "text/x-python",
      "name": "python",
      "nbconvert_exporter": "python",
      "pygments_lexer": "ipython3",
      "version": "3.9.12"
    },
    "widgets": {
      "application/vnd.jupyter.widget-state+json": {
        "1e46fb2a17224f9d9427e2e538092d30": {
          "model_module": "@jupyter-widgets/controls",
          "model_module_version": "1.5.0",
          "model_name": "DescriptionStyleModel",
          "state": {
            "_model_module": "@jupyter-widgets/controls",
            "_model_module_version": "1.5.0",
            "_model_name": "DescriptionStyleModel",
            "_view_count": null,
            "_view_module": "@jupyter-widgets/base",
            "_view_module_version": "1.2.0",
            "_view_name": "StyleView",
            "description_width": ""
          }
        },
        "2ae1fe96759f4732af2b95fb047e1403": {
          "model_module": "@jupyter-widgets/base",
          "model_module_version": "1.2.0",
          "model_name": "LayoutModel",
          "state": {
            "_model_module": "@jupyter-widgets/base",
            "_model_module_version": "1.2.0",
            "_model_name": "LayoutModel",
            "_view_count": null,
            "_view_module": "@jupyter-widgets/base",
            "_view_module_version": "1.2.0",
            "_view_name": "LayoutView",
            "align_content": null,
            "align_items": null,
            "align_self": null,
            "border": null,
            "bottom": null,
            "display": null,
            "flex": null,
            "flex_flow": null,
            "grid_area": null,
            "grid_auto_columns": null,
            "grid_auto_flow": null,
            "grid_auto_rows": null,
            "grid_column": null,
            "grid_gap": null,
            "grid_row": null,
            "grid_template_areas": null,
            "grid_template_columns": null,
            "grid_template_rows": null,
            "height": null,
            "justify_content": null,
            "justify_items": null,
            "left": null,
            "margin": null,
            "max_height": null,
            "max_width": null,
            "min_height": null,
            "min_width": null,
            "object_fit": null,
            "object_position": null,
            "order": null,
            "overflow": null,
            "overflow_x": null,
            "overflow_y": null,
            "padding": null,
            "right": null,
            "top": null,
            "visibility": null,
            "width": null
          }
        },
        "39c41d94ee8e4486b3ec63b8457dc759": {
          "model_module": "@jupyter-widgets/controls",
          "model_module_version": "1.5.0",
          "model_name": "HBoxModel",
          "state": {
            "_dom_classes": [],
            "_model_module": "@jupyter-widgets/controls",
            "_model_module_version": "1.5.0",
            "_model_name": "HBoxModel",
            "_view_count": null,
            "_view_module": "@jupyter-widgets/controls",
            "_view_module_version": "1.5.0",
            "_view_name": "HBoxView",
            "box_style": "",
            "children": [
              "IPY_MODEL_e2adcf06c3ea4d2786231a9fcae21d35",
              "IPY_MODEL_42fb17047c594949964c4915444f7c8a",
              "IPY_MODEL_b4c2d6bcc05846159ecfa41e0005d45a"
            ],
            "layout": "IPY_MODEL_6715e1cdccfd4bed8f1f5b0c0d2fd764"
          }
        },
        "39d4be29b7404f0da35dba0207f5d07d": {
          "model_module": "@jupyter-widgets/controls",
          "model_module_version": "1.5.0",
          "model_name": "ProgressStyleModel",
          "state": {
            "_model_module": "@jupyter-widgets/controls",
            "_model_module_version": "1.5.0",
            "_model_name": "ProgressStyleModel",
            "_view_count": null,
            "_view_module": "@jupyter-widgets/base",
            "_view_module_version": "1.2.0",
            "_view_name": "StyleView",
            "bar_color": null,
            "description_width": ""
          }
        },
        "3cff6dba9c0e48d8a5435e942bf718ef": {
          "model_module": "@jupyter-widgets/base",
          "model_module_version": "1.2.0",
          "model_name": "LayoutModel",
          "state": {
            "_model_module": "@jupyter-widgets/base",
            "_model_module_version": "1.2.0",
            "_model_name": "LayoutModel",
            "_view_count": null,
            "_view_module": "@jupyter-widgets/base",
            "_view_module_version": "1.2.0",
            "_view_name": "LayoutView",
            "align_content": null,
            "align_items": null,
            "align_self": null,
            "border": null,
            "bottom": null,
            "display": null,
            "flex": null,
            "flex_flow": null,
            "grid_area": null,
            "grid_auto_columns": null,
            "grid_auto_flow": null,
            "grid_auto_rows": null,
            "grid_column": null,
            "grid_gap": null,
            "grid_row": null,
            "grid_template_areas": null,
            "grid_template_columns": null,
            "grid_template_rows": null,
            "height": null,
            "justify_content": null,
            "justify_items": null,
            "left": null,
            "margin": null,
            "max_height": null,
            "max_width": null,
            "min_height": null,
            "min_width": null,
            "object_fit": null,
            "object_position": null,
            "order": null,
            "overflow": null,
            "overflow_x": null,
            "overflow_y": null,
            "padding": null,
            "right": null,
            "top": null,
            "visibility": null,
            "width": null
          }
        },
        "42fb17047c594949964c4915444f7c8a": {
          "model_module": "@jupyter-widgets/controls",
          "model_module_version": "1.5.0",
          "model_name": "FloatProgressModel",
          "state": {
            "_dom_classes": [],
            "_model_module": "@jupyter-widgets/controls",
            "_model_module_version": "1.5.0",
            "_model_name": "FloatProgressModel",
            "_view_count": null,
            "_view_module": "@jupyter-widgets/controls",
            "_view_module_version": "1.5.0",
            "_view_name": "ProgressView",
            "bar_style": "success",
            "description": "",
            "description_tooltip": null,
            "layout": "IPY_MODEL_a9d1eaf6800340eaad699870eb8cd9df",
            "max": 1,
            "min": 0,
            "orientation": "horizontal",
            "style": "IPY_MODEL_daf563f812064a5a96923cd3345b7d89",
            "value": 1
          }
        },
        "492ee9da39f4449bae2456a169b6f712": {
          "model_module": "@jupyter-widgets/base",
          "model_module_version": "1.2.0",
          "model_name": "LayoutModel",
          "state": {
            "_model_module": "@jupyter-widgets/base",
            "_model_module_version": "1.2.0",
            "_model_name": "LayoutModel",
            "_view_count": null,
            "_view_module": "@jupyter-widgets/base",
            "_view_module_version": "1.2.0",
            "_view_name": "LayoutView",
            "align_content": null,
            "align_items": null,
            "align_self": null,
            "border": null,
            "bottom": null,
            "display": null,
            "flex": null,
            "flex_flow": null,
            "grid_area": null,
            "grid_auto_columns": null,
            "grid_auto_flow": null,
            "grid_auto_rows": null,
            "grid_column": null,
            "grid_gap": null,
            "grid_row": null,
            "grid_template_areas": null,
            "grid_template_columns": null,
            "grid_template_rows": null,
            "height": null,
            "justify_content": null,
            "justify_items": null,
            "left": null,
            "margin": null,
            "max_height": null,
            "max_width": null,
            "min_height": null,
            "min_width": null,
            "object_fit": null,
            "object_position": null,
            "order": null,
            "overflow": null,
            "overflow_x": null,
            "overflow_y": null,
            "padding": null,
            "right": null,
            "top": null,
            "visibility": null,
            "width": null
          }
        },
        "5e8a99c2314f4049bb77f263afb5c8f1": {
          "model_module": "@jupyter-widgets/base",
          "model_module_version": "1.2.0",
          "model_name": "LayoutModel",
          "state": {
            "_model_module": "@jupyter-widgets/base",
            "_model_module_version": "1.2.0",
            "_model_name": "LayoutModel",
            "_view_count": null,
            "_view_module": "@jupyter-widgets/base",
            "_view_module_version": "1.2.0",
            "_view_name": "LayoutView",
            "align_content": null,
            "align_items": null,
            "align_self": null,
            "border": null,
            "bottom": null,
            "display": null,
            "flex": null,
            "flex_flow": null,
            "grid_area": null,
            "grid_auto_columns": null,
            "grid_auto_flow": null,
            "grid_auto_rows": null,
            "grid_column": null,
            "grid_gap": null,
            "grid_row": null,
            "grid_template_areas": null,
            "grid_template_columns": null,
            "grid_template_rows": null,
            "height": null,
            "justify_content": null,
            "justify_items": null,
            "left": null,
            "margin": null,
            "max_height": null,
            "max_width": null,
            "min_height": null,
            "min_width": null,
            "object_fit": null,
            "object_position": null,
            "order": null,
            "overflow": null,
            "overflow_x": null,
            "overflow_y": null,
            "padding": null,
            "right": null,
            "top": null,
            "visibility": null,
            "width": null
          }
        },
        "6715e1cdccfd4bed8f1f5b0c0d2fd764": {
          "model_module": "@jupyter-widgets/base",
          "model_module_version": "1.2.0",
          "model_name": "LayoutModel",
          "state": {
            "_model_module": "@jupyter-widgets/base",
            "_model_module_version": "1.2.0",
            "_model_name": "LayoutModel",
            "_view_count": null,
            "_view_module": "@jupyter-widgets/base",
            "_view_module_version": "1.2.0",
            "_view_name": "LayoutView",
            "align_content": null,
            "align_items": null,
            "align_self": null,
            "border": null,
            "bottom": null,
            "display": null,
            "flex": null,
            "flex_flow": null,
            "grid_area": null,
            "grid_auto_columns": null,
            "grid_auto_flow": null,
            "grid_auto_rows": null,
            "grid_column": null,
            "grid_gap": null,
            "grid_row": null,
            "grid_template_areas": null,
            "grid_template_columns": null,
            "grid_template_rows": null,
            "height": null,
            "justify_content": null,
            "justify_items": null,
            "left": null,
            "margin": null,
            "max_height": null,
            "max_width": null,
            "min_height": null,
            "min_width": null,
            "object_fit": null,
            "object_position": null,
            "order": null,
            "overflow": null,
            "overflow_x": null,
            "overflow_y": null,
            "padding": null,
            "right": null,
            "top": null,
            "visibility": null,
            "width": null
          }
        },
        "79ac693d88594c6ca1e1334cad4b6900": {
          "model_module": "@jupyter-widgets/controls",
          "model_module_version": "1.5.0",
          "model_name": "FloatProgressModel",
          "state": {
            "_dom_classes": [],
            "_model_module": "@jupyter-widgets/controls",
            "_model_module_version": "1.5.0",
            "_model_name": "FloatProgressModel",
            "_view_count": null,
            "_view_module": "@jupyter-widgets/controls",
            "_view_module_version": "1.5.0",
            "_view_name": "ProgressView",
            "bar_style": "success",
            "description": "",
            "description_tooltip": null,
            "layout": "IPY_MODEL_3cff6dba9c0e48d8a5435e942bf718ef",
            "max": 1,
            "min": 0,
            "orientation": "horizontal",
            "style": "IPY_MODEL_39d4be29b7404f0da35dba0207f5d07d",
            "value": 1
          }
        },
        "807fd00171f74aef93da426e3c8f3d3c": {
          "model_module": "@jupyter-widgets/controls",
          "model_module_version": "1.5.0",
          "model_name": "DescriptionStyleModel",
          "state": {
            "_model_module": "@jupyter-widgets/controls",
            "_model_module_version": "1.5.0",
            "_model_name": "DescriptionStyleModel",
            "_view_count": null,
            "_view_module": "@jupyter-widgets/base",
            "_view_module_version": "1.2.0",
            "_view_name": "StyleView",
            "description_width": ""
          }
        },
        "8b0cee1162124034aaad4396ad95aabf": {
          "model_module": "@jupyter-widgets/base",
          "model_module_version": "1.2.0",
          "model_name": "LayoutModel",
          "state": {
            "_model_module": "@jupyter-widgets/base",
            "_model_module_version": "1.2.0",
            "_model_name": "LayoutModel",
            "_view_count": null,
            "_view_module": "@jupyter-widgets/base",
            "_view_module_version": "1.2.0",
            "_view_name": "LayoutView",
            "align_content": null,
            "align_items": null,
            "align_self": null,
            "border": null,
            "bottom": null,
            "display": null,
            "flex": null,
            "flex_flow": null,
            "grid_area": null,
            "grid_auto_columns": null,
            "grid_auto_flow": null,
            "grid_auto_rows": null,
            "grid_column": null,
            "grid_gap": null,
            "grid_row": null,
            "grid_template_areas": null,
            "grid_template_columns": null,
            "grid_template_rows": null,
            "height": null,
            "justify_content": null,
            "justify_items": null,
            "left": null,
            "margin": null,
            "max_height": null,
            "max_width": null,
            "min_height": null,
            "min_width": null,
            "object_fit": null,
            "object_position": null,
            "order": null,
            "overflow": null,
            "overflow_x": null,
            "overflow_y": null,
            "padding": null,
            "right": null,
            "top": null,
            "visibility": null,
            "width": null
          }
        },
        "8d20898d5e694306bc83ea0c16d67422": {
          "model_module": "@jupyter-widgets/controls",
          "model_module_version": "1.5.0",
          "model_name": "DescriptionStyleModel",
          "state": {
            "_model_module": "@jupyter-widgets/controls",
            "_model_module_version": "1.5.0",
            "_model_name": "DescriptionStyleModel",
            "_view_count": null,
            "_view_module": "@jupyter-widgets/base",
            "_view_module_version": "1.2.0",
            "_view_name": "StyleView",
            "description_width": ""
          }
        },
        "a1a4f3977891423383ae805212ea1d55": {
          "model_module": "@jupyter-widgets/controls",
          "model_module_version": "1.5.0",
          "model_name": "HTMLModel",
          "state": {
            "_dom_classes": [],
            "_model_module": "@jupyter-widgets/controls",
            "_model_module_version": "1.5.0",
            "_model_name": "HTMLModel",
            "_view_count": null,
            "_view_module": "@jupyter-widgets/controls",
            "_view_module_version": "1.5.0",
            "_view_name": "HTMLView",
            "description": "",
            "description_tooltip": null,
            "layout": "IPY_MODEL_5e8a99c2314f4049bb77f263afb5c8f1",
            "placeholder": "​",
            "style": "IPY_MODEL_e7661b462a1a4d26858b4b64bea48fd7",
            "value": "100%"
          }
        },
        "a9d1eaf6800340eaad699870eb8cd9df": {
          "model_module": "@jupyter-widgets/base",
          "model_module_version": "1.2.0",
          "model_name": "LayoutModel",
          "state": {
            "_model_module": "@jupyter-widgets/base",
            "_model_module_version": "1.2.0",
            "_model_name": "LayoutModel",
            "_view_count": null,
            "_view_module": "@jupyter-widgets/base",
            "_view_module_version": "1.2.0",
            "_view_name": "LayoutView",
            "align_content": null,
            "align_items": null,
            "align_self": null,
            "border": null,
            "bottom": null,
            "display": null,
            "flex": null,
            "flex_flow": null,
            "grid_area": null,
            "grid_auto_columns": null,
            "grid_auto_flow": null,
            "grid_auto_rows": null,
            "grid_column": null,
            "grid_gap": null,
            "grid_row": null,
            "grid_template_areas": null,
            "grid_template_columns": null,
            "grid_template_rows": null,
            "height": null,
            "justify_content": null,
            "justify_items": null,
            "left": null,
            "margin": null,
            "max_height": null,
            "max_width": null,
            "min_height": null,
            "min_width": null,
            "object_fit": null,
            "object_position": null,
            "order": null,
            "overflow": null,
            "overflow_x": null,
            "overflow_y": null,
            "padding": null,
            "right": null,
            "top": null,
            "visibility": null,
            "width": null
          }
        },
        "acc760d3bc7d4172a0faa446e803838a": {
          "model_module": "@jupyter-widgets/base",
          "model_module_version": "1.2.0",
          "model_name": "LayoutModel",
          "state": {
            "_model_module": "@jupyter-widgets/base",
            "_model_module_version": "1.2.0",
            "_model_name": "LayoutModel",
            "_view_count": null,
            "_view_module": "@jupyter-widgets/base",
            "_view_module_version": "1.2.0",
            "_view_name": "LayoutView",
            "align_content": null,
            "align_items": null,
            "align_self": null,
            "border": null,
            "bottom": null,
            "display": null,
            "flex": null,
            "flex_flow": null,
            "grid_area": null,
            "grid_auto_columns": null,
            "grid_auto_flow": null,
            "grid_auto_rows": null,
            "grid_column": null,
            "grid_gap": null,
            "grid_row": null,
            "grid_template_areas": null,
            "grid_template_columns": null,
            "grid_template_rows": null,
            "height": null,
            "justify_content": null,
            "justify_items": null,
            "left": null,
            "margin": null,
            "max_height": null,
            "max_width": null,
            "min_height": null,
            "min_width": null,
            "object_fit": null,
            "object_position": null,
            "order": null,
            "overflow": null,
            "overflow_x": null,
            "overflow_y": null,
            "padding": null,
            "right": null,
            "top": null,
            "visibility": null,
            "width": null
          }
        },
        "b4c2d6bcc05846159ecfa41e0005d45a": {
          "model_module": "@jupyter-widgets/controls",
          "model_module_version": "1.5.0",
          "model_name": "HTMLModel",
          "state": {
            "_dom_classes": [],
            "_model_module": "@jupyter-widgets/controls",
            "_model_module_version": "1.5.0",
            "_model_name": "HTMLModel",
            "_view_count": null,
            "_view_module": "@jupyter-widgets/controls",
            "_view_module_version": "1.5.0",
            "_view_name": "HTMLView",
            "description": "",
            "description_tooltip": null,
            "layout": "IPY_MODEL_8b0cee1162124034aaad4396ad95aabf",
            "placeholder": "​",
            "style": "IPY_MODEL_8d20898d5e694306bc83ea0c16d67422",
            "value": " 1/1 [00:00&lt;00:00,  9.81ba/s]"
          }
        },
        "bda99aabe03a411c9f54a886629cfa65": {
          "model_module": "@jupyter-widgets/controls",
          "model_module_version": "1.5.0",
          "model_name": "HTMLModel",
          "state": {
            "_dom_classes": [],
            "_model_module": "@jupyter-widgets/controls",
            "_model_module_version": "1.5.0",
            "_model_name": "HTMLModel",
            "_view_count": null,
            "_view_module": "@jupyter-widgets/controls",
            "_view_module_version": "1.5.0",
            "_view_name": "HTMLView",
            "description": "",
            "description_tooltip": null,
            "layout": "IPY_MODEL_acc760d3bc7d4172a0faa446e803838a",
            "placeholder": "​",
            "style": "IPY_MODEL_1e46fb2a17224f9d9427e2e538092d30",
            "value": " 1/1 [00:00&lt;00:00, 15.13it/s]"
          }
        },
        "daf563f812064a5a96923cd3345b7d89": {
          "model_module": "@jupyter-widgets/controls",
          "model_module_version": "1.5.0",
          "model_name": "ProgressStyleModel",
          "state": {
            "_model_module": "@jupyter-widgets/controls",
            "_model_module_version": "1.5.0",
            "_model_name": "ProgressStyleModel",
            "_view_count": null,
            "_view_module": "@jupyter-widgets/base",
            "_view_module_version": "1.2.0",
            "_view_name": "StyleView",
            "bar_color": null,
            "description_width": ""
          }
        },
        "dd77e87bd0d84d928d933e7c99904ffd": {
          "model_module": "@jupyter-widgets/controls",
          "model_module_version": "1.5.0",
          "model_name": "HBoxModel",
          "state": {
            "_dom_classes": [],
            "_model_module": "@jupyter-widgets/controls",
            "_model_module_version": "1.5.0",
            "_model_name": "HBoxModel",
            "_view_count": null,
            "_view_module": "@jupyter-widgets/controls",
            "_view_module_version": "1.5.0",
            "_view_name": "HBoxView",
            "box_style": "",
            "children": [
              "IPY_MODEL_a1a4f3977891423383ae805212ea1d55",
              "IPY_MODEL_79ac693d88594c6ca1e1334cad4b6900",
              "IPY_MODEL_bda99aabe03a411c9f54a886629cfa65"
            ],
            "layout": "IPY_MODEL_492ee9da39f4449bae2456a169b6f712"
          }
        },
        "e2adcf06c3ea4d2786231a9fcae21d35": {
          "model_module": "@jupyter-widgets/controls",
          "model_module_version": "1.5.0",
          "model_name": "HTMLModel",
          "state": {
            "_dom_classes": [],
            "_model_module": "@jupyter-widgets/controls",
            "_model_module_version": "1.5.0",
            "_model_name": "HTMLModel",
            "_view_count": null,
            "_view_module": "@jupyter-widgets/controls",
            "_view_module_version": "1.5.0",
            "_view_name": "HTMLView",
            "description": "",
            "description_tooltip": null,
            "layout": "IPY_MODEL_2ae1fe96759f4732af2b95fb047e1403",
            "placeholder": "​",
            "style": "IPY_MODEL_807fd00171f74aef93da426e3c8f3d3c",
            "value": "Creating CSV from Arrow format: 100%"
          }
        },
        "e7661b462a1a4d26858b4b64bea48fd7": {
          "model_module": "@jupyter-widgets/controls",
          "model_module_version": "1.5.0",
          "model_name": "DescriptionStyleModel",
          "state": {
            "_model_module": "@jupyter-widgets/controls",
            "_model_module_version": "1.5.0",
            "_model_name": "DescriptionStyleModel",
            "_view_count": null,
            "_view_module": "@jupyter-widgets/base",
            "_view_module_version": "1.2.0",
            "_view_name": "StyleView",
            "description_width": ""
          }
        }
      }
    }
  },
  "nbformat": 4,
  "nbformat_minor": 0
}
