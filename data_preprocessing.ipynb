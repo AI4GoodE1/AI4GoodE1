{
 "cells": [
  {
   "cell_type": "code",
   "execution_count": null,
   "metadata": {},
   "outputs": [],
   "source": [
    "#imports\n",
    "import numpy as np\n",
    "import pandas as pd\n",
    "import matplotlib.pyplot as plt\n",
    "import seaborn as sb\n",
    "import io\n",
    "\n",
    "# Libraries needed for NLP\n",
    "import nltk\n",
    "from nltk.corpus import stopwords\n",
    "from nltk.stem import WordNetLemmatizer\n",
    "import re"
   ]
  },
  {
   "cell_type": "code",
   "execution_count": null,
   "metadata": {},
   "outputs": [],
   "source": [
    "# Get data\n",
    "df = pd.read_csv('https://raw.githubusercontent.com/AI4GoodE1/AI4GoodE1/main/fraud_email_cleaned_no_dups.csv')\n",
    "#df"
   ]
  },
  {
   "cell_type": "code",
   "execution_count": null,
   "metadata": {},
   "outputs": [],
   "source": [
    "# Stopwords\n",
    "nltk.download('stopwords')\n",
    "nltk.download('punkt')\n",
    "stop_words = set(stopwords.words('english'))\n",
    "# Lemmatizer\n",
    "nltk.download('wordnet')\n",
    "nltk.download('omw-1.4')\n",
    "lemmatizer = WordNetLemmatizer()"
   ]
  },
  {
   "cell_type": "code",
   "execution_count": null,
   "metadata": {},
   "outputs": [],
   "source": [
    "# Cleanup\n",
    "\n",
    "# replace email address with 'emailaddress'\n",
    "#df['Text'] = df['Text'].str.replace(r'^.+@[^\\.].*\\.[a-z]{2,}$', 'emailaddress')\n",
    "\n",
    "# replace urls with 'webaddress'\n",
    "#df['Text'] = df['Text'].str.replace(r'^http\\://[a-zA-Z0-9\\-\\.]+\\.[a-zA-Z]{2,3}(/\\S*)?$', 'webaddress')\n",
    "df['Text'] = df['Text'].str.replace(r\"(?i)\\b((?:[a-z][\\w-]+:(?:/{1,3}|[a-z0-9%])|www\\d{0,3}[.]|[a-z0-9.\\-]+[.][a-z]{2,4}/)(?:[^\\s()<>]+|\\(([^\\s()<>]+|(\\([^\\s()<>]+\\)))*\\))+(?:\\(([^\\s()<>]+|(\\([^\\s()<>]+\\)))*\\)|[^\\s`!()\\[\\]{};:'\\\".,<>?«»“”‘’]))$\", 'webaddress')\n",
    "\n",
    "# replace money symbol with 'money-symbol'\n",
    "#df['SMS'] = df['SMS'].str.replace(r'£|\\$', 'money-symbol')\n",
    "\n",
    "# replace 10 digit phone number with 'phone-number'\n",
    "df['Text'] = df['Text'].str.replace(r'^\\(?[\\d]{3}\\)?[\\s-]?[\\d]{3}[\\s-]?[\\d]{4}$', 'phone-number')\n",
    "\n",
    "# replace normal number with 'number'\n",
    "#df['SMS'] = df['SMS'].str.replace(r'\\d+(\\.\\d+)?', 'number')\n",
    "\n",
    "# remove punctuation\n",
    "#df['Text'] = df['Text'].str.replace(r'[^\\w\\d\\s]', ' ')\n",
    "\n",
    "# remove whitespace between terms with single space\n",
    "df['Text'] = df['Text'].str.replace(r'\\s+', ' ')\n",
    "\n",
    "# remove leading and trailing whitespace\n",
    "df['Text'] = df['Text'].str.replace(r'^\\s+|\\s*?$', ' ')\n",
    "\n",
    "# change words to lower case\n",
    "df['Text'] = df['Text'].str.lower()"
   ]
  },
  {
   "cell_type": "code",
   "execution_count": null,
   "metadata": {},
   "outputs": [],
   "source": [
    "# Applying English Stopwords\n",
    "#df['Text'] = df['Text'].apply(lambda x: ' '.join(term for term in x.split() if term not in stop_words))"
   ]
  },
  {
   "cell_type": "code",
   "execution_count": null,
   "metadata": {},
   "outputs": [],
   "source": [
    "# Applying Wordnet Lemmatizer\n",
    "#df['Text'] = df['Text'].apply(lambda x: ' '.join(lemmatizer.lemmatize(term) for term in x.split()))"
   ]
  },
  {
   "cell_type": "code",
   "execution_count": null,
   "metadata": {},
   "outputs": [],
   "source": [
    "# Random sampling of data to investigate dataset\n",
    "for i in range(0,10):\n",
    "  v = df.sample()\n",
    "  print(v.iloc[0])\n",
    "  #print(v.iloc[0][\"Text\"])\n",
    "  #print(v.iloc[0][\"Class\"])\n",
    "  print(\"-----------------------------------------------------------\\n\")"
   ]
  }
 ],
 "metadata": {
  "interpreter": {
   "hash": "88714c931dc9ee7d21a92e9b68b181aa118eefc9169ccebda9a1e2ed7482c505"
  },
  "kernelspec": {
   "display_name": "Python 3.8.13 ('ai4good': conda)",
   "language": "python",
   "name": "python3"
  },
  "language_info": {
   "codemirror_mode": {
    "name": "ipython",
    "version": 3
   },
   "file_extension": ".py",
   "mimetype": "text/x-python",
   "name": "python",
   "nbconvert_exporter": "python",
   "pygments_lexer": "ipython3",
   "version": "3.8.13"
  },
  "orig_nbformat": 4
 },
 "nbformat": 4,
 "nbformat_minor": 2
}
