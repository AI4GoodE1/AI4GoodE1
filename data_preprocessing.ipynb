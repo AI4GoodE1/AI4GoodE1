{
  "cells": [
    {
      "cell_type": "code",
      "execution_count": 1,
      "metadata": {
        "id": "shA7AmXKjUsO"
      },
      "outputs": [],
      "source": [
        "#imports\n",
        "import numpy as np\n",
        "import pandas as pd\n",
        "import matplotlib.pyplot as plt\n",
        "import seaborn as sb\n",
        "import io\n",
        "\n",
        "# Libraries needed for NLP\n",
        "import nltk\n",
        "from nltk.corpus import stopwords\n",
        "from nltk.stem import WordNetLemmatizer\n",
        "import re"
      ]
    },
    {
      "cell_type": "code",
      "execution_count": 2,
      "metadata": {
        "id": "5hSKUo06jUsQ"
      },
      "outputs": [],
      "source": [
        "# Get data\n",
        "df = pd.read_csv('https://raw.githubusercontent.com/AI4GoodE1/AI4GoodE1/main/fraud_email_cleaned_no_dups.csv')\n",
        "#df"
      ]
    },
    {
      "cell_type": "code",
      "execution_count": 3,
      "metadata": {
        "id": "9RaBYdANjUsR",
        "outputId": "c00d6a33-39d8-4e02-92fd-3b6362b95e63",
        "colab": {
          "base_uri": "https://localhost:8080/"
        }
      },
      "outputs": [
        {
          "output_type": "stream",
          "name": "stdout",
          "text": [
            "[nltk_data] Downloading package stopwords to /root/nltk_data...\n",
            "[nltk_data]   Package stopwords is already up-to-date!\n",
            "[nltk_data] Downloading package punkt to /root/nltk_data...\n",
            "[nltk_data]   Package punkt is already up-to-date!\n",
            "[nltk_data] Downloading package wordnet to /root/nltk_data...\n",
            "[nltk_data]   Package wordnet is already up-to-date!\n",
            "[nltk_data] Downloading package omw-1.4 to /root/nltk_data...\n",
            "[nltk_data]   Package omw-1.4 is already up-to-date!\n"
          ]
        }
      ],
      "source": [
        "# Stopwords\n",
        "nltk.download('stopwords')\n",
        "nltk.download('punkt')\n",
        "stop_words = set(stopwords.words('english'))\n",
        "# Lemmatizer\n",
        "nltk.download('wordnet')\n",
        "nltk.download('omw-1.4')\n",
        "lemmatizer = WordNetLemmatizer()"
      ]
    },
    {
      "cell_type": "code",
      "execution_count": 4,
      "metadata": {
        "id": "Kg5Onhz-jUsT",
        "outputId": "99ae182c-e576-4451-85b5-89721c45a9bd",
        "colab": {
          "base_uri": "https://localhost:8080/"
        }
      },
      "outputs": [
        {
          "output_type": "stream",
          "name": "stderr",
          "text": [
            "/usr/local/lib/python3.7/dist-packages/ipykernel_launcher.py:4: FutureWarning: The default value of regex will change from True to False in a future version.\n",
            "  after removing the cwd from sys.path.\n",
            "/usr/local/lib/python3.7/dist-packages/ipykernel_launcher.py:7: FutureWarning: The default value of regex will change from True to False in a future version.\n",
            "  import sys\n",
            "/usr/local/lib/python3.7/dist-packages/ipykernel_launcher.py:10: FutureWarning: The default value of regex will change from True to False in a future version.\n",
            "  # Remove the CWD from sys.path while we load stuff.\n",
            "/usr/local/lib/python3.7/dist-packages/ipykernel_launcher.py:13: FutureWarning: The default value of regex will change from True to False in a future version.\n",
            "  del sys.path[0]\n",
            "/usr/local/lib/python3.7/dist-packages/ipykernel_launcher.py:16: FutureWarning: The default value of regex will change from True to False in a future version.\n",
            "  app.launch_new_instance()\n",
            "/usr/local/lib/python3.7/dist-packages/ipykernel_launcher.py:19: FutureWarning: The default value of regex will change from True to False in a future version.\n",
            "/usr/local/lib/python3.7/dist-packages/ipykernel_launcher.py:22: FutureWarning: The default value of regex will change from True to False in a future version.\n",
            "/usr/local/lib/python3.7/dist-packages/ipykernel_launcher.py:25: FutureWarning: The default value of regex will change from True to False in a future version.\n",
            "/usr/local/lib/python3.7/dist-packages/ipykernel_launcher.py:28: FutureWarning: The default value of regex will change from True to False in a future version.\n",
            "/usr/local/lib/python3.7/dist-packages/ipykernel_launcher.py:29: FutureWarning: The default value of regex will change from True to False in a future version.\n",
            "/usr/local/lib/python3.7/dist-packages/ipykernel_launcher.py:31: FutureWarning: The default value of regex will change from True to False in a future version.\n",
            "/usr/local/lib/python3.7/dist-packages/ipykernel_launcher.py:34: FutureWarning: The default value of regex will change from True to False in a future version.\n"
          ]
        }
      ],
      "source": [
        "# Cleanup\n",
        "\n",
        "# replace email address with 'emailaddress'\n",
        "df['Text'] = df['Text'].str.replace(r'(<?)([A-Za-z0-9.]{1,30})@([A-Za-z0-9.]{1,30}).([a-z]{2,3})(>?)', 'emailaddress')\n",
        "\n",
        "# replace urls with 'webaddress'\n",
        "df['Text'] = df['Text'].str.replace(r\"(https?:)(.?)(([^\\s]+)|$)|(www.)(.?)(([^\\s]+)|$)|(news.)(.*?)(([^\\s]+)|$)\", 'webaddress')\n",
        "\n",
        "# replace 10 digit phone number with 'phone-number'\n",
        "df['Text'] = df['Text'].str.replace(r'^\\(?[\\d]{3}\\)?[\\s-]?[\\d]{3}[\\s-]?[\\d]{4}$', 'phone-number')\n",
        "\n",
        "# replace normal number with 'number'\n",
        "df['Text'] = df['Text'].str.replace(r'\\d+(\\.\\d+)?', 'number')\n",
        "\n",
        "# replace qzsoft strings\n",
        "df['Text'] = df['Text'].str.replace(r'(qzsoft)(\\S+)', ' qzsoft')\n",
        "\n",
        "# replace broken MIME\n",
        "df['Text'] = df['Text'].str.replace(r'([\\S]{250,})', 'brokenmime')\n",
        "\n",
        "# remove whitespace between terms with single space\n",
        "df['Text'] = df['Text'].str.replace(r'\\s+', ' ')\n",
        "\n",
        "# remove leading and trailing whitespace\n",
        "df['Text'] = df['Text'].str.replace(r'^\\s+|\\s*?$', ' ')\n",
        "\n",
        "# # replace html tags with 'format'\n",
        "df['Text'] = df['Text'].str.replace(r\"<(\\\"[^\\\"]*\\\"|'[^']*'|[^'\\\">])*>\", ' formatting ')\n",
        "df['Text'] = df['Text'].str.replace(r\"(&nbsp;)\", ' formatting ')\n",
        "\n",
        "df['Text'] = df['Text'].str.replace(r\"[_]{1,}\", 'blankLines')\n",
        "\n",
        "# remove punctuation\n",
        "df['Text'] = df['Text'].str.replace(r'[^\\w\\d\\s]', ' ')\n",
        "\n",
        "# change words to lower case\n",
        "df['Text'] = df['Text'].str.lower()"
      ]
    },
    {
      "cell_type": "code",
      "execution_count": 5,
      "metadata": {
        "id": "UkGOCg6TjUsU"
      },
      "outputs": [],
      "source": [
        "# Applying English Stopwords\n",
        "df['Text'] = df['Text'].apply(lambda x: ' '.join(term for term in x.split() if term not in stop_words))"
      ]
    },
    {
      "cell_type": "code",
      "execution_count": 6,
      "metadata": {
        "id": "BJeBkD9MjUsV"
      },
      "outputs": [],
      "source": [
        "# Applying Wordnet Lemmatizer\n",
        "df['Text'] = df['Text'].apply(lambda x: ' '.join(lemmatizer.lemmatize(term) for term in x.split()))"
      ]
    },
    {
      "cell_type": "code",
      "execution_count": 7,
      "metadata": {
        "id": "xBKRAdyHjUsV",
        "outputId": "5188dd98-32ea-4e40-e271-d8548c96315c",
        "colab": {
          "base_uri": "https://localhost:8080/"
        }
      },
      "outputs": [
        {
          "output_type": "stream",
          "name": "stdout",
          "text": [
            "number\n",
            "0\n",
            "-----------------------------------------------------------\n",
            "\n",
            "also hope soon moving back center action\n",
            "0\n",
            "-----------------------------------------------------------\n",
            "\n",
            "bnumbermonday august number number number number pmh killed younis sidhrc memo killed younis number docx hrc memo killed younis number docxaugust number numberfor hillary\n",
            "0\n",
            "-----------------------------------------------------------\n",
            "\n",
            "dear friend mr lord luke first bank nigeria plc lagos branch got contact internet urgent confidentialbusiness proposal january number number america oil consultant contractor nigerian national petroleum corporation mr charles ballassi made numbered time fixed deposit twelve calendarmonths valued u number number number nine million seven hundred thousand dollar branch upon maturity sent rountine notification forwarded address got reply month sent reminder finally discovered contract employer nigerian national petroleum corporation mr charles ballassi died plane crash number october number egyptian number passenger aboard confirm via website webaddress investigation found died without making attempt trace next kin fruitless therefore made investigation discovered mr charles ballassi declare next kin relation official document including bank deposit paperwork bank sum ofus number number number still bank interest rolled principal sum end year one ever come forward claim according nigerian law expiration seven year money revert ownershipof nigerian government nobody applies claim fund consequently proposal like foreigner stand next kin mr charles ballassi fruit old man labour get hand corrupt government official simple like provide immediately full name address attorney prepare necessary document affidavit put place next kin shall employ service attorney drafting notarization obtain necessary document letter probate administration favour transfer bank account part world provide facilitate transfer money beneficiaryext kin money paid account u share ratio number number risk paperwork transaction done attorney position branch manager guarantee successful execution transaction interested please reply immediately via private email address upon responce shall provide detail relevant document help understand transaction please observe utmost confidentiality rest assured transaction would profitable u shall require assitance invest share country please upon reciept mail message send following enable start process fund bank account number full name addressnumber bank name addressnumber account number account beneficiary namenumber private telephone fax numbersthanks regardsmr lord luke manager first bank nigeria\n",
            "1\n",
            "-----------------------------------------------------------\n",
            "\n",
            "fyi reid shelby hold nomineesfriday feb number numbersen richard shelby r ala placed blanket hold executive nomination senate calendar effortto win concession obama administration pentagon variety front affecting home state accordingto aide senate majority leader reid reid spokeswoman regan lachapelle said shelby blocking number pending nomination reid force voteon nomination filing cloture time required vote multiple nomination senate process nomination unanimousconsent one senator block nomination objecting unanimous consent request take nomination remain stalled unless reid file cloture hold frequent senate aide said blanket hold represents far aggressive use power isnormal holding number plus nominee parochial issue democratic aide said qualified theyshould moving forward disclosure blanket hold came two day top democrat voiced mounting frustration republicanholds executive nominee got huge backlog folk unanimously viewed well qualified nobody specific objection tothem end hold completely unrelated piece business president obamasaid wednesday televised meeting senate democrat senate floor thursday reid senate majority whip durbin senate judiciary chairman patrick leahy andsenate armed service chairman carl levin ripped republican hold national security nominee judge reid kept senate pro forma session recent holiday prevent former president george w bush frommaking recess appointment said grown frustrated might advocate appointment presidentcan make senate session alternative reid said floor thursday alternative earlier day spokesman shelby said senator placed hold several pending nominee due tounaddressed national security concern including frustration air force handling competition anaerial refueling tanker spokesman respond later request comment blanket hold northrop grumman corp eads european consortium behind airbus boeing co vying high stake contract potentially worth number billion northrop eads team would build plane mobile ala hasthreatened pull competition unless air force make change draft request proposal nearly number year u air force announced plan replace aging tanker fleet still atransparent fair acquisition process move forward spokesman said department defense mustrecognize draft request proposal need significantly substantively changed defense secretary gate wednesday told house lawmaker pentagon plan issue final request proposalssoon proceed program whether competition obviously would like competition hope company agree participate wewill move forward gate said new tanker addition tanker issue shelby spokesman said frustrated obama administration build analabama based fbi center analyze improvised explosive device shelby secured number million earmark fynumber omnibus appropriation bill terrorist explosive device analyticalcenter set army redstone arsenal sen shelby continue work fbi give capability coordinate intelligence well forensicand technical exploitation related ied administration coddling terrorist make uphill effort thespokesman said made administration aware concern willing discus time also thursday vice president biden said frustrated republican foot dragging consideringwhether senate rule changed little disappointment seems like way business anymore supermajorityon almost everything biden said moment swearing sen scott brown r mass give republican numbervotes enough filibuster issue spending lot time staff go back scrub know use thefilibuster worked biden said constitutional requirement biden defended number vote requirement calling useful tool legitimate perspective servedhere elected seven time never seen time become sort standard operating procedure requiring supermajority good way business dan friedman megan scully\n",
            "0\n",
            "-----------------------------------------------------------\n",
            "\n",
            "tender committeedepartment mineral energy pretoria south africa numberdear friend great pleasure writing letter behalf colleag ues information given member south african expo rt promotion council saepc federal government delegation trip country bilateral conference talk encourage eign investor decided seek aconfidential co operation execution deal describedhere benefit party hope keep confide ntial nature businesswithin department mineral energy work director udit project implementation co operation two top official possession overduepayment u fund said fund represent certain percentage total contract value ex ecuted behalf department foreigncontracting firm official invoiced amount u number number numberdollars though actual contract cost paid iginal contractor leaving excess balance unclaimed since present elected government determined pay foreign contract or debt owed maintain good relationship foreign governm ent non government agency include bill approval th e department finance reserve bank south africa seekin g assistance front beneficiary unclaimed fund since allowed operate foreign account detail change benefici ary information upon application claim reflect payment approval secured behalf company authority partner involved propose b e willing assist u transaction share compensation u numberm number colleague receive u numberm number balance u numberm number taxation miscellaneous expense incu rred business number safe secure provided treat ut confidentiality matter whether company cont ract project transfer power secured favor company also area specialization hindrance succes sful execution transaction reposedmy confidence hope disappoint kindly notify detail upon acceptance emailaddress co operation regard mngomeni james dr freeserve anytime half price first number month save anumber mont h numberwebaddress\n",
            "1\n",
            "-----------------------------------------------------------\n",
            "\n",
            "landed andrew\n",
            "0\n",
            "-----------------------------------------------------------\n",
            "\n",
            "formatting security confidential reason reply sent email formatting address email formatting formatting emailaddress formatting formatting formatting mr bel zulu sani ahmed formatting south africa formatting email formatting formatting emailaddress formatting formatting formatting formatting dear sir formatting officer corporate banking department rennies bank formatting south africa department relates affair formatting state lately amount money discovered formatting u suspense abandoned account sum fifteen formatting point three million u dollar account belonged formatting one foreign customer died along entire family formatting november number ghastly plane crash since got formatting information death expecting formatting next kin come claim money cannot formatting release unless somebody applied next kin formatting relation deceased indi c ated banking formatting guideline unfortunately nobody come foward claim formatting money based official departement formatting decided establish cordial business relationship formatting hence contacting want present formatting next kin relation deceased fund formatting remitted account moreover want formatting money go government account unclaimed bill formatting banking law guideline stipulate account abandoned formatting dormant period year deemed closed money contained formatting therein forfeited government treasury account formatting speculated sum transfered formatting government account unclaimed fund formatting december number reason requesting present formatting next kin occa sioned fact formatting deceased customer foreigner formatting\n",
            "1\n",
            "-----------------------------------------------------------\n",
            "\n",
            "think lona already confirmed swearing monday also happy see huma check\n",
            "0\n",
            "-----------------------------------------------------------\n",
            "\n",
            "fyi gary sick latest analysis iran posted blog sick independent source andis well informed june number numberis another iranian revolution someone watched studied iranian revolution number fascination developmentsin iran today eerie reminiscence massive protest filled street oftenmarching dignified ominous silence bloodshed nervous security men gun faceddetermined unarmed crowd sullen mourning parade numberthere catchy chant andritual call shah night rooftop rang shout allahu akbar need change shah dictator description happening irantoday one big difference thirty year ago iran charismatic cleric named ayatollahkhomeini refined sense strategy willingness risk everything cause herepresented side mohammed reza shah throne numberyears commanded one powerful military security regime world thesurface appeared uneven battle gun turban ruler gun waveredand turban grew size confidence old order collapsed today nominal leader opposition force reformed radical mir hossein mousavi isnotably lacking personal charisma side constitutional leader ayatollahichamene widely perceived cautious political animal limited qualification hisreligious post compensates lack charisma manipulation political systemand institution loyal particularly politically minded clergy powerfulsecurity force including revolutionary guard neither men seems fully control force let alone situation thefraudulent election defeat mousavi triggering event energy behind unprecedenteddemonstrations due sense outrage betrayal gross manipulation number bythe regime undying devotion mousavi yesterday mousavi ordered peoplestay home face conflicting pro regime demonstration marched anyway daughter offormer president rafsanjani joined urged mousavi ordered everyone tomarch following day probably going without order ichamene announced divine assessment election outcome even would probablyhave physically possible count number million ballot face mass protestshe ordered investigation result guardian council organization wasresponsible managing election first place one believed either case oneexpected anything importance guardian council khamene ordered peace andreconciliation one paid attention deliberately mention president elect ahmadinejad celebrating victory went offto largely symbolic meeting moscow seems decision loop passiveplayer major actor event calling shot mousavi seems running along crowd leading isprobably required keep protest motion side little evidence suggests important decision madeby ultra conservative leadership revolutionary guard whose political role ballooned overthe past decade perhaps cooperation extremist counterpart clergy utterlyruthless ideologically fueled new york time columnist nick kristoff reminded u several day ago see blog item june number end day saw tiananmen number year ago might right battle often prudentto bet might least short run regime seems miscalculated badly seemed believe sudden coup theannouncement dramatic election result followed show force would intimidate silence theopposition consolidate control perhaps understandable decision beingmade military leader tend see battle manichaean term rather politician asichamene accustomed seeing shade gray event b ackfired amuch larger crisis hand simply arranged ahmadinejad win slimmargin least believable party uncharted territory significant portion iranian population seems haveconcluded social contract ruler accepting islamic rule return respectfulregard opinion governed islamic republic longer valid trust theirrulers ruler whose support declining year face inept management thecountry increasingly replacing popular support repression election seems calledthat tactic question military obvious answer repression would appear tobe moment bet might nobody fully command event decision taken next week fateful coulddetermine future path iranian revolution another lesson iran leader contemplate tiananmen moment tiananmencrackdown occurred almost exactly ten year ago one leader china time zhaoziyang general secretary communist party later fired placed house arrest smuggled memoir appeared revealing depth disagreement within lea dershipabout proceed possible ten year volume describing intense debate one canonly presume underway today highest council islamic republic iran dell day deal june number number new deal everyday\n",
            "0\n",
            "-----------------------------------------------------------\n",
            "\n"
          ]
        }
      ],
      "source": [
        "# Random sampling of data to investigate dataset\n",
        "for i in range(0,10):\n",
        "  v = df.sample()\n",
        "  # print(v.iloc[0])\n",
        "  print(v.iloc[0][\"Text\"])\n",
        "  print(v.iloc[0][\"Class\"])\n",
        "  print(\"-----------------------------------------------------------\\n\")"
      ]
    },
    {
      "cell_type": "code",
      "source": [
        ""
      ],
      "metadata": {
        "id": "Sj9ZtaWXt7d1"
      },
      "execution_count": null,
      "outputs": []
    }
  ],
  "metadata": {
    "interpreter": {
      "hash": "88714c931dc9ee7d21a92e9b68b181aa118eefc9169ccebda9a1e2ed7482c505"
    },
    "kernelspec": {
      "display_name": "Python 3.8.13 ('ai4good': conda)",
      "language": "python",
      "name": "python3"
    },
    "language_info": {
      "codemirror_mode": {
        "name": "ipython",
        "version": 3
      },
      "file_extension": ".py",
      "mimetype": "text/x-python",
      "name": "python",
      "nbconvert_exporter": "python",
      "pygments_lexer": "ipython3",
      "version": "3.8.13"
    },
    "orig_nbformat": 4,
    "colab": {
      "name": "data_preprocessing.ipynb",
      "provenance": []
    }
  },
  "nbformat": 4,
  "nbformat_minor": 0
}