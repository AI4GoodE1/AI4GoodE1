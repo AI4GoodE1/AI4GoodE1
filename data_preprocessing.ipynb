{
  "cells": [
    {
      "cell_type": "code",
      "execution_count": 1,
      "metadata": {
        "id": "shA7AmXKjUsO"
      },
      "outputs": [],
      "source": [
        "#imports\n",
        "import numpy as np\n",
        "import pandas as pd\n",
        "import matplotlib.pyplot as plt\n",
        "import seaborn as sb\n",
        "import io\n",
        "\n",
        "# Libraries needed for NLP\n",
        "import nltk\n",
        "from nltk.corpus import stopwords\n",
        "from nltk.stem import WordNetLemmatizer\n",
        "import re"
      ]
    },
    {
      "cell_type": "code",
      "execution_count": 2,
      "metadata": {
        "id": "5hSKUo06jUsQ"
      },
      "outputs": [],
      "source": [
        "# Get data\n",
        "df = pd.read_csv('https://raw.githubusercontent.com/AI4GoodE1/AI4GoodE1/main/fraud_email_cleaned_no_dups.csv')\n",
        "#df"
      ]
    },
    {
      "cell_type": "code",
      "execution_count": 3,
      "metadata": {
        "colab": {
          "base_uri": "https://localhost:8080/"
        },
        "id": "9RaBYdANjUsR",
        "outputId": "971502b1-cd91-4b29-d4d9-e1a47bb0c3a4"
      },
      "outputs": [
        {
          "output_type": "stream",
          "name": "stdout",
          "text": [
            "[nltk_data] Downloading package stopwords to /root/nltk_data...\n",
            "[nltk_data]   Package stopwords is already up-to-date!\n",
            "[nltk_data] Downloading package punkt to /root/nltk_data...\n",
            "[nltk_data]   Package punkt is already up-to-date!\n",
            "[nltk_data] Downloading package wordnet to /root/nltk_data...\n",
            "[nltk_data]   Package wordnet is already up-to-date!\n",
            "[nltk_data] Downloading package omw-1.4 to /root/nltk_data...\n",
            "[nltk_data]   Package omw-1.4 is already up-to-date!\n"
          ]
        }
      ],
      "source": [
        "# Stopwords\n",
        "nltk.download('stopwords')\n",
        "nltk.download('punkt')\n",
        "stop_words = set(stopwords.words('english'))\n",
        "# Lemmatizer\n",
        "nltk.download('wordnet')\n",
        "nltk.download('omw-1.4')\n",
        "lemmatizer = WordNetLemmatizer()"
      ]
    },
    {
      "cell_type": "code",
      "execution_count": 4,
      "metadata": {
        "colab": {
          "base_uri": "https://localhost:8080/"
        },
        "id": "Kg5Onhz-jUsT",
        "outputId": "806580eb-692d-4fb7-c38e-cb325126be32"
      },
      "outputs": [
        {
          "output_type": "stream",
          "name": "stderr",
          "text": [
            "/usr/local/lib/python3.7/dist-packages/ipykernel_launcher.py:4: FutureWarning: The default value of regex will change from True to False in a future version.\n",
            "  after removing the cwd from sys.path.\n",
            "/usr/local/lib/python3.7/dist-packages/ipykernel_launcher.py:7: FutureWarning: The default value of regex will change from True to False in a future version.\n",
            "  import sys\n",
            "/usr/local/lib/python3.7/dist-packages/ipykernel_launcher.py:10: FutureWarning: The default value of regex will change from True to False in a future version.\n",
            "  # Remove the CWD from sys.path while we load stuff.\n",
            "/usr/local/lib/python3.7/dist-packages/ipykernel_launcher.py:13: FutureWarning: The default value of regex will change from True to False in a future version.\n",
            "  del sys.path[0]\n",
            "/usr/local/lib/python3.7/dist-packages/ipykernel_launcher.py:16: FutureWarning: The default value of regex will change from True to False in a future version.\n",
            "  app.launch_new_instance()\n",
            "/usr/local/lib/python3.7/dist-packages/ipykernel_launcher.py:19: FutureWarning: The default value of regex will change from True to False in a future version.\n",
            "/usr/local/lib/python3.7/dist-packages/ipykernel_launcher.py:22: FutureWarning: The default value of regex will change from True to False in a future version.\n",
            "/usr/local/lib/python3.7/dist-packages/ipykernel_launcher.py:25: FutureWarning: The default value of regex will change from True to False in a future version.\n",
            "/usr/local/lib/python3.7/dist-packages/ipykernel_launcher.py:28: FutureWarning: The default value of regex will change from True to False in a future version.\n",
            "/usr/local/lib/python3.7/dist-packages/ipykernel_launcher.py:29: FutureWarning: The default value of regex will change from True to False in a future version.\n",
            "/usr/local/lib/python3.7/dist-packages/ipykernel_launcher.py:31: FutureWarning: The default value of regex will change from True to False in a future version.\n",
            "/usr/local/lib/python3.7/dist-packages/ipykernel_launcher.py:34: FutureWarning: The default value of regex will change from True to False in a future version.\n"
          ]
        }
      ],
      "source": [
        "# Cleanup\n",
        "\n",
        "# replace email address with 'emailaddress'\n",
        "df['Text'] = df['Text'].str.replace(r'(<?)([A-Za-z0-9.]{1,30})@([A-Za-z0-9.]{1,30}).([a-z]{2,3})(>?)', 'emailaddress')\n",
        "\n",
        "# replace urls with 'webaddress'\n",
        "df['Text'] = df['Text'].str.replace(r\"(https?:)(.?)(([^\\s]+)|$)|(www.)(.?)(([^\\s]+)|$)|(news.)(.*?)(([^\\s]+)|$)\", 'webaddress')\n",
        "\n",
        "# replace 10 digit phone number with 'phone-number'\n",
        "df['Text'] = df['Text'].str.replace(r'^\\(?[\\d]{3}\\)?[\\s-]?[\\d]{3}[\\s-]?[\\d]{4}$', 'phone-number')\n",
        "\n",
        "# replace normal number with 'number'\n",
        "df['Text'] = df['Text'].str.replace(r'\\d+(\\.\\d+)?', 'number')\n",
        "\n",
        "# replace qzsoft strings\n",
        "df['Text'] = df['Text'].str.replace(r'(qzsoft)(\\S+)', ' qzsoft')\n",
        "\n",
        "# replace broken MIME\n",
        "df['Text'] = df['Text'].str.replace(r'([\\S]{250,})', 'brokenmime')\n",
        "\n",
        "# remove whitespace between terms with single space\n",
        "df['Text'] = df['Text'].str.replace(r'\\s+', ' ')\n",
        "\n",
        "# remove leading and trailing whitespace\n",
        "df['Text'] = df['Text'].str.replace(r'^\\s+|\\s*?$', ' ')\n",
        "\n",
        "# # replace html tags with 'format'\n",
        "df['Text'] = df['Text'].str.replace(r\"<(\\\"[^\\\"]*\\\"|'[^']*'|[^'\\\">])*>\", ' formatting ')\n",
        "df['Text'] = df['Text'].str.replace(r\"(&nbsp;)\", ' formatting ')\n",
        "\n",
        "df['Text'] = df['Text'].str.replace(r\"[_]{1,}\", 'blankLines')\n",
        "\n",
        "# remove punctuation\n",
        "df['Text'] = df['Text'].str.replace(r'[^\\w\\d\\s]', ' ')\n",
        "\n",
        "# change words to lower case\n",
        "df['Text'] = df['Text'].str.lower()"
      ]
    },
    {
      "cell_type": "code",
      "execution_count": 5,
      "metadata": {
        "id": "UkGOCg6TjUsU"
      },
      "outputs": [],
      "source": [
        "# Applying English Stopwords\n",
        "df['Text'] = df['Text'].apply(lambda x: ' '.join(term for term in x.split() if term not in stop_words))"
      ]
    },
    {
      "cell_type": "code",
      "execution_count": 6,
      "metadata": {
        "id": "BJeBkD9MjUsV"
      },
      "outputs": [],
      "source": [
        "# Applying Wordnet Lemmatizer\n",
        "df['Text'] = df['Text'].apply(lambda x: ' '.join(lemmatizer.lemmatize(term) for term in x.split()))"
      ]
    },
    {
      "cell_type": "code",
      "execution_count": 7,
      "metadata": {
        "colab": {
          "base_uri": "https://localhost:8080/"
        },
        "id": "xBKRAdyHjUsV",
        "outputId": "44be83fa-7379-412a-fff8-8e5ac014aed3"
      },
      "outputs": [
        {
          "output_type": "stream",
          "name": "stdout",
          "text": [
            "dear jim hope family time enjoy holiday together number brings blessing thanks great work support advice past year looking forward year ahead best hillary\n",
            "0\n",
            "-----------------------------------------------------------\n",
            "\n",
            "ok also inviting yohannes mcc nominee come observe mcc mtg next week meet people bebriefed may develop opinion want deputy let discus\n",
            "0\n",
            "-----------------------------------------------------------\n",
            "\n",
            "coleleechandlerstearnshastingswhitfieldryanedwards\n",
            "0\n",
            "-----------------------------------------------------------\n",
            "\n",
            "know must recieved first letter sent post come follow upto letter first must seek understanding pray god give wisdom understand problem position help surely blessed help mr frank williams number year old also chief accountant gulf bank nig plc transaction think mutual benefit u desire foreign partner transaction stumbled contact businessdirectory head account department gbnp discovered amount money auditing account number financial yearwhich lying number year inquiry discovered money totalling usd number million twenty one million five hundred thousand united state dollar including accumulated interest belonged one mr michael osterkamp germany nationale lived died intestate beneficiary man died plane crash adc airline number successfully secured money assistance colleague money moved bank deposited finance company packed three number metal trunk box photographic material would need particular enable prepare document authenticate consignment belongs next kin mr michael osterkamp enable claim money\n",
            "1\n",
            "-----------------------------------------------------------\n",
            "\n",
            "dear numberc naturally numberc letter come surprise since met numberc permit however numberc mr numbere lawrence abba numberc zimbabwean farmer numbere contacting need foreign partner country become necessary due plan relocate establish private company region numberc present political instability country zimbabwe numberc encourage financial investment environment conducive investment security insured numberc reported international medium numbere got contact personal research desperation decided reach medium numbere give information regard soon reply repose great confidence hence approach due security network place u hope let security personal numberethis problem started zimbabwean government leadership president robert mugabe announced degree may numberst number seize number white owned farm numbere far numberc number numbercnumber white owned farm invaded confiscated numberc well claiming property farmer numbere consequently numberc colleague property seized putting u total confusion numberc frustration hopelessness administration president mugabe country subjected psychological torture security agent country numbere friend still detention numberc although arrangement made release numberc confidence anybody within country numbereduring period numberc reported international medium including cnn numberc many white farmer killed numberc government stopping numberc recently government asked white farmer give farm black farmer risk going prison numbere lived country zimbabwe many year numberc country go numberc trace distant relative numbere therefore numberc decided contact numberc assistance numberc establish company country relocate numbere also numberc must iterate importance citizen country front owner enterprise numberc due fact foreigner numberefor purpose numberc put security deposit monies sale farm farming equipment numberincluding tractor etc number amounted u number numberenumbermillion numberc move money country secret arranged channel unconventional method friend official numbersecurity minting printing company number country numbere presently numberc money oversea country numberc custody private security firm whose name withheld open communication numbere upon receiving consent prepare every document enable receive money behalf numberc pending arrival meet country make arrangement regard establishing company numbereas partner entitled number stake whichever company decide establish arrive country numberei waiting urgently response please treat utmost confidentiality numberebest regard lawrence abba numbere\n",
            "1\n",
            "-----------------------------------------------------------\n",
            "\n",
            "thank try call later\n",
            "0\n",
            "-----------------------------------------------------------\n",
            "\n",
            "dear sir madammy name mr joy ibe retire work end next year write inform intention invest hotel business country request assist carrying feasibility study location type estimation much cost establish three star hotel either outright purchase already existing dilapidated one renovate setting new one entirely sincerely carry survey give feedback soon possible give power attorney build manage hotel behalf pending retirement next year presently sickness result old age stress assured doctor fine back work soon please let know wether willing capable handling expecting reply soon possible thanksmy alternative email address emailaddress sincerely mr joy ibe\n",
            "1\n",
            "-----------------------------------------------------------\n",
            "\n",
            "currently office official travel checking e mail periodically need immediateassistance please call number number number\n",
            "0\n",
            "-----------------------------------------------------------\n",
            "\n",
            "yes okand read mind make sure see\n",
            "0\n",
            "-----------------------------------------------------------\n",
            "\n",
            "balderston kris emailaddressmonday january number number number number pmabedin humaben feder\n",
            "0\n",
            "-----------------------------------------------------------\n",
            "\n"
          ]
        }
      ],
      "source": [
        "# Random sampling of data to investigate dataset\n",
        "for i in range(0,10):\n",
        "  v = df.sample()\n",
        "  # print(v.iloc[0])\n",
        "  print(v.iloc[0][\"Text\"])\n",
        "  print(v.iloc[0][\"Class\"])\n",
        "  print(\"-----------------------------------------------------------\\n\")"
      ]
    },
    {
      "cell_type": "code",
      "source": [
        "# Export cleaned dataset to csv\n",
        "df.to_csv('fraud_email_preprocessed.csv', index = False)"
      ],
      "metadata": {
        "id": "Sj9ZtaWXt7d1"
      },
      "execution_count": 8,
      "outputs": []
    }
  ],
  "metadata": {
    "interpreter": {
      "hash": "88714c931dc9ee7d21a92e9b68b181aa118eefc9169ccebda9a1e2ed7482c505"
    },
    "kernelspec": {
      "display_name": "Python 3.8.13 ('ai4good': conda)",
      "language": "python",
      "name": "python3"
    },
    "language_info": {
      "codemirror_mode": {
        "name": "ipython",
        "version": 3
      },
      "file_extension": ".py",
      "mimetype": "text/x-python",
      "name": "python",
      "nbconvert_exporter": "python",
      "pygments_lexer": "ipython3",
      "version": "3.8.13"
    },
    "orig_nbformat": 4,
    "colab": {
      "name": "data_preprocessing.ipynb",
      "provenance": []
    }
  },
  "nbformat": 4,
  "nbformat_minor": 0
}