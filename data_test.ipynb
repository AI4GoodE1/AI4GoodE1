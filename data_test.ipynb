{
  "cells": [
    {
      "cell_type": "markdown",
      "metadata": {
        "colab_type": "text",
        "id": "view-in-github"
      },
      "source": [
        "<a href=\"https://colab.research.google.com/github/AI4GoodE1/AI4GoodE1/blob/main/data_test.ipynb\" target=\"_parent\"><img src=\"https://colab.research.google.com/assets/colab-badge.svg\" alt=\"Open In Colab\"/></a>"
      ]
    },
    {
      "cell_type": "code",
      "execution_count": 38,
      "metadata": {
        "id": "AZgZhbHFPHbb"
      },
      "outputs": [],
      "source": [
        "#imports\n",
        "import numpy as np\n",
        "import pandas as pd\n",
        "import matplotlib.pyplot as plt\n",
        "import seaborn as sb\n",
        "import io"
      ]
    },
    {
      "cell_type": "code",
      "execution_count": 39,
      "metadata": {
        "id": "J4Dy7hMWb1It"
      },
      "outputs": [],
      "source": [
        "df = pd.read_csv('https://raw.githubusercontent.com/AI4GoodE1/AI4GoodE1/main/fraud_email_.csv')"
      ]
    },
    {
      "cell_type": "code",
      "execution_count": 40,
      "metadata": {
        "colab": {
          "base_uri": "https://localhost:8080/"
        },
        "id": "XyFEGDMAcFqH",
        "outputId": "e9f83580-06fa-4cba-96ea-efea212f55fa"
      },
      "outputs": [
        {
          "name": "stdout",
          "output_type": "stream",
          "text": [
            "7:30 Ukranian Foreign Minister Gryshchenko8 Greek Prime Minister Papandreou\n",
            "0\n",
            "-----------------------------------------------------------\n",
            "\n",
            "FYI--MMM told me she will lead a delegation to Malawi for the marriage on May lof one of the leading women activistsand the President and asked if we knew anyone who'd like to go. Pls let he know. Thx. April 24 engagement party inPhilly\n",
            "0\n",
            "-----------------------------------------------------------\n",
            "\n",
            "Marshall Capricia P <MarshalICP@state.gov>Friday May 28 2010 5:03 PMH■\n",
            "0\n",
            "-----------------------------------------------------------\n",
            "\n",
            "Sullivan Jacob J <SullivanJJ@state.gov>Thursday January 21 2010 7:52 AMHRe: speech\n",
            "0\n",
            "-----------------------------------------------------------\n",
            "\n",
            "Here are more details on the overnight traffic accident.\n",
            "0\n",
            "-----------------------------------------------------------\n",
            "\n",
            "Cheryl and HumaAs HRC requested for this weekend attached is a draft base text for the big speech/FA article. I will be on aplane all day Wednesday heading for Asia to do policy planning talks so it would be great to have her feedback either byphone on Monday or meeting with her on Tuesday — that way I could turn around another draft by Thursday toresponse to her reactons and then Lissa and I could work on turning it into a real speech draft and circulate morewidely. I will also have plenty of time on my trip to work over a version that would be more suitable for Foreign Affairsassuming she is comfortable with the overall frame and the different pieces.Have a good weekend!AM5\n",
            "0\n",
            "-----------------------------------------------------------\n",
            "\n",
            "Ok\n",
            "0\n",
            "-----------------------------------------------------------\n",
            "\n",
            "Please, kindly call me MR NOSA for now, though this is not my complete name. I will give you my full name later.I am in a hide out now in BENIN REPUBLIC, a Country in West African. I have Large sum of money for INVESTMENT.The money is in Millions of U.S. dollars. I cannot move about freely now for reasons i will explain to you later. I need Your help urgently for both SAFE KEEPING and INVESTING this money in your country. You are one of the three email contacts given to me by a Cyber Cafe' operator on my request for a foreign contact. She did not tell me your name or country of origin. Though I did not tellher why I needed the contact of any foreigner.Because of the urgent and confidential nature of thisbusiness, you are advised to keep everything secret for now. if you are interested in doing this business with me, kindly reply immediately on my email Address. After that, i will send you all the verifiable details about the \n",
            "1\n",
            "-----------------------------------------------------------\n",
            "\n",
            "Yes I asked for the same\n",
            "0\n",
            "-----------------------------------------------------------\n",
            "\n",
            "US law. SMe too. He shouldn't retireSent via Cingular Xpress Mail with Slackberri--\n",
            "0\n",
            "-----------------------------------------------------------\n",
            "\n"
          ]
        }
      ],
      "source": [
        "# Random sampling of data to investigate dataset\n",
        "for i in range(0,10):\n",
        "  v = df.sample()\n",
        "  print(v.iloc[0][\"Text\"])\n",
        "  print(v.iloc[0][\"Class\"])\n",
        "  print(\"-----------------------------------------------------------\\n\")\n"
      ]
    },
    {
      "cell_type": "code",
      "execution_count": 41,
      "metadata": {
        "colab": {
          "base_uri": "https://localhost:8080/",
          "height": 81
        },
        "id": "cJ4wP_l2kDzD",
        "outputId": "f79a75e4-446b-47be-f760-f82b4d1a3504"
      },
      "outputs": [
        {
          "data": {
            "text/html": [
              "<div>\n",
              "<style scoped>\n",
              "    .dataframe tbody tr th:only-of-type {\n",
              "        vertical-align: middle;\n",
              "    }\n",
              "\n",
              "    .dataframe tbody tr th {\n",
              "        vertical-align: top;\n",
              "    }\n",
              "\n",
              "    .dataframe thead th {\n",
              "        text-align: right;\n",
              "    }\n",
              "</style>\n",
              "<table border=\"1\" class=\"dataframe\">\n",
              "  <thead>\n",
              "    <tr style=\"text-align: right;\">\n",
              "      <th></th>\n",
              "      <th>Text</th>\n",
              "      <th>Class</th>\n",
              "    </tr>\n",
              "  </thead>\n",
              "  <tbody>\n",
              "    <tr>\n",
              "      <th>5129</th>\n",
              "      <td>NaN</td>\n",
              "      <td>1</td>\n",
              "    </tr>\n",
              "  </tbody>\n",
              "</table>\n",
              "</div>"
            ],
            "text/plain": [
              "     Text  Class\n",
              "5129  NaN      1"
            ]
          },
          "execution_count": 41,
          "metadata": {},
          "output_type": "execute_result"
        }
      ],
      "source": [
        "# Check for NaN values in data\n",
        "df1 = df[df.isna().any(axis=1)]\n",
        "df1"
      ]
    },
    {
      "cell_type": "code",
      "execution_count": 42,
      "metadata": {
        "colab": {
          "base_uri": "https://localhost:8080/",
          "height": 49
        },
        "id": "tDkgrluTkGjq",
        "outputId": "2d443bfe-a477-4b93-8518-e22546160f35"
      },
      "outputs": [
        {
          "data": {
            "text/html": [
              "<div>\n",
              "<style scoped>\n",
              "    .dataframe tbody tr th:only-of-type {\n",
              "        vertical-align: middle;\n",
              "    }\n",
              "\n",
              "    .dataframe tbody tr th {\n",
              "        vertical-align: top;\n",
              "    }\n",
              "\n",
              "    .dataframe thead th {\n",
              "        text-align: right;\n",
              "    }\n",
              "</style>\n",
              "<table border=\"1\" class=\"dataframe\">\n",
              "  <thead>\n",
              "    <tr style=\"text-align: right;\">\n",
              "      <th></th>\n",
              "      <th>Text</th>\n",
              "      <th>Class</th>\n",
              "    </tr>\n",
              "  </thead>\n",
              "  <tbody>\n",
              "  </tbody>\n",
              "</table>\n",
              "</div>"
            ],
            "text/plain": [
              "Empty DataFrame\n",
              "Columns: [Text, Class]\n",
              "Index: []"
            ]
          },
          "execution_count": 42,
          "metadata": {},
          "output_type": "execute_result"
        }
      ],
      "source": [
        "# Only one NaN, so just drop it\n",
        "df = df.drop(index=5129)\n",
        "df2 = df[df.isna().any(axis=1)]\n",
        "df2"
      ]
    },
    {
      "cell_type": "code",
      "execution_count": 43,
      "metadata": {
        "colab": {
          "base_uri": "https://localhost:8080/"
        },
        "id": "pg32p6rAkJs8",
        "outputId": "52fafab5-2024-47c2-e544-4aa601074dd7"
      },
      "outputs": [
        {
          "name": "stdout",
          "output_type": "stream",
          "text": [
            "Total: 11928\n",
            "Unique: 10249\n"
          ]
        }
      ],
      "source": [
        "# Check for duplicates in data\n",
        "print(\"Total: \" + str(len(df)))\n",
        "print(\"Unique: \" + str(df[\"Text\"].nunique()))"
      ]
    },
    {
      "cell_type": "code",
      "execution_count": 44,
      "metadata": {
        "colab": {
          "base_uri": "https://localhost:8080/",
          "height": 1000
        },
        "id": "Ei1vwmvlkgqE",
        "outputId": "f0c55db1-c3d0-4bc0-f917-735b06f2c474"
      },
      "outputs": [],
      "source": [
        "\n",
        "# df_dup = df.duplicated()\n",
        "# df_dup.rename(\"IsDuplicate\")\n",
        "# df_joined = df.join(df_dup.to_frame())\n",
        "# df_joined"
      ]
    },
    {
      "cell_type": "code",
      "execution_count": 45,
      "metadata": {
        "colab": {
          "base_uri": "https://localhost:8080/",
          "height": 1000
        },
        "id": "xg6SzDyRknPM",
        "outputId": "beebf3d6-87f9-4e16-b548-b1b62475c15d"
      },
      "outputs": [],
      "source": [
        "# df_joined_rename = df_joined.rename(columns={0:'isDuplicate'})\n",
        "# df_joined_rename"
      ]
    },
    {
      "cell_type": "code",
      "execution_count": 46,
      "metadata": {},
      "outputs": [
        {
          "name": "stdout",
          "output_type": "stream",
          "text": [
            "Target 10249\n",
            "Before 11928\n",
            "After 10249\n"
          ]
        }
      ],
      "source": [
        "#Remove Duplicates\n",
        "print(\"Target\",df[\"Text\"].nunique())\n",
        "print(\"Before\",len(df))\n",
        "#pd.set_option(\"max_rows\", None)\n",
        "df_unique = df.drop_duplicates(subset = \"Text\", keep='first')\n",
        "print(\"After\",len(df_unique))"
      ]
    },
    {
      "cell_type": "code",
      "execution_count": 47,
      "metadata": {},
      "outputs": [],
      "source": [
        "# Export cleaned dataset to csv\n",
        "df_unique.to_csv('fraud_email_cleaned_no_dups.csv', index = False)"
      ]
    }
  ],
  "metadata": {
    "colab": {
      "include_colab_link": true,
      "name": "data_test.ipynb",
      "provenance": []
    },
    "interpreter": {
      "hash": "88714c931dc9ee7d21a92e9b68b181aa118eefc9169ccebda9a1e2ed7482c505"
    },
    "kernelspec": {
      "display_name": "Python 3.8.13 ('ai4good': conda)",
      "language": "python",
      "name": "python3"
    },
    "language_info": {
      "codemirror_mode": {
        "name": "ipython",
        "version": 3
      },
      "file_extension": ".py",
      "mimetype": "text/x-python",
      "name": "python",
      "nbconvert_exporter": "python",
      "pygments_lexer": "ipython3",
      "version": "3.8.13"
    }
  },
  "nbformat": 4,
  "nbformat_minor": 0
}
