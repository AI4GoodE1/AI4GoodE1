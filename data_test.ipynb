{
  "cells": [
    {
      "cell_type": "markdown",
      "metadata": {
        "colab_type": "text",
        "id": "view-in-github"
      },
      "source": [
        "<a href=\"https://colab.research.google.com/github/AI4GoodE1/AI4GoodE1/blob/main/data_test.ipynb\" target=\"_parent\"><img src=\"https://colab.research.google.com/assets/colab-badge.svg\" alt=\"Open In Colab\"/></a>"
      ]
    },
    {
      "cell_type": "code",
      "execution_count": 3,
      "metadata": {
        "id": "AZgZhbHFPHbb"
      },
      "outputs": [],
      "source": [
        "#imports\n",
        "import numpy as np\n",
        "import pandas as pd\n",
        "import matplotlib.pyplot as plt\n",
        "import seaborn as sb\n",
        "import io"
      ]
    },
    {
      "cell_type": "code",
      "execution_count": 4,
      "metadata": {
        "id": "J4Dy7hMWb1It"
      },
      "outputs": [],
      "source": [
        "df = pd.read_csv('https://raw.githubusercontent.com/AI4GoodE1/AI4GoodE1/main/fraud_email_.csv')"
      ]
    },
    {
      "cell_type": "code",
      "execution_count": 20,
      "metadata": {
        "colab": {
          "base_uri": "https://localhost:8080/"
        },
        "id": "XyFEGDMAcFqH",
        "outputId": "e9f83580-06fa-4cba-96ea-efea212f55fa"
      },
      "outputs": [
        {
          "name": "stdout",
          "output_type": "stream",
          "text": [
            "He is available until about 645 tonight. After that he catches a flight to london. I will add to your grid.\n",
            "0\n",
            "-----------------------------------------------------------\n",
            "\n",
            "My flight takes off at 8 so call before if you have a minute.CDM\n",
            "0\n",
            "-----------------------------------------------------------\n",
            "\n",
            "RELEASE IN PARTB41.4(B)B11.4(D)B6Berlin was terrific. Lots of good exchanges w leaders.Have you heard anything else?\n",
            "0\n",
            "-----------------------------------------------------------\n",
            "\n",
            "RGVhciBTaXIgLyBNYWRhbSwKSSBhbSBNciBNYXRoaWFzIFNlYWgsIGZyb20gSXZvcnkgQ29hc3QgQWJpZGphbiBidXQgcmVzaWRpbmcgaW4gCkRha2FyIFNlbmVnYWwgaW4gQWZyaWNhLiAKSXQgaXMgbXkgZGVzaXJlIHRvIGNvbnRhY3QgeW91IG9uIGhvbmVzdHkgYW5kIHNpbmNlcml0eSB0byBhc3Npc3QgbWUgCmluIHRyYW5zZmVycmluZyB0aGUgc3VtIG9mICQ4LDUwMCwwMDAoRWlnaHQgTWlsbGlvbiBGaXZlIEh1bmRyZWQgVGhvdXNhbmQgClVuaXRlZCBTdGF0ZXMgRG9sbGFycykgaW5oZXJpdGVkIGZyb20gbXkgZmF0aGVyIGxhdGUgRHIuIFNlYWggQWhtZWQsIHRvIHlvdXIgCmNvdW50cnkgZm9yIGludmVzdG1lbnQuIApJIGFtIG1vdGl2YXRlZCBpbiBjb250YWN0aW5nIHlvdSBhbmQgaG9wZSB0byBncmFkdWFsbHkgYnVpbGQgdHJ1c3QsCnJlbGF0aW9uc2hpcCBhbmQgY29uZmlkZW5jZSBpbiB5b3UgYXMgSSBnZXQgdG8ga25vdyB5b3UgYmV0dGVyLiAKU28gcGxlYXNlIEkgd2FudCB0byBrbm93IGlmIHlvdSB3aWxsIGJlIG9mIGFzc2lzdGFuY2UgYnV0IGZpcnN0IEkgd2FudCAKdG8gZ2V0IHRvIGtub3cgeW91IGJldHRlci4gCkkgYW0gd2lsbGluZyB0byBvZmZlciB5b3UgMzUlKG9mIHRoZSB0b3RhbCBmdW5kLCBmb3IgeW91ciBlZmZvcnQgaW5wdXQgCmFmdGVyIHRoZSBzdWNjZXNzZnVsIHRyYW5zZmVyIG9mIHRoaXMgbW9uZXkgYW5kIGludmVzdG1lbnQuIApJbmRpY2F0ZSB5b3VyIGludGVyZXN0IHRvd2FyZHMgYXNzaXN0aW5nIG1lIGJ5IHNlbmRpbmcgeW91ciBwaG9uZSAjYW5kCmFkZHJlc3MgdG8gbWUgc28gdGhhdCBJIGNhbiBjb21tdW5pY2F0ZSB3aXRoIHlvdSBhdCBhbnkgdGltZS4gCkkgd2lsbCBiZSB3YWl0aW5nIGZvciB5b3VyIHJlc3BvbnNlLiBNeSBhbHRoZXJuYXRpdmUgZW1haWw6IAptYXRoaWFzX3NlYWhAeWFob28uZnIgKCBtYXRoaWFzX3NlYWhAaW5NYWlsMjQuY29tCikgcmVwbHkgYXMgc29vbiBhcyAKcG9zc2libGUgZm9yIG1vcmUgZGV0YWlscy4gClRoYW5rcwpNciBNYXRoaWFzIFNlYWgKIA==--qzsoft_directmail_seperator--\n",
            "1\n",
            "-----------------------------------------------------------\n",
            "\n",
            "1. Churkin called Susan back.B11.4(B)1.4(D)2. Feltman just called.B512/17/2025\n",
            "0\n",
            "-----------------------------------------------------------\n",
            "\n",
            "Judith—in btw our mtgs I'll email you questions or suggestions mostly so I don't forget them!Have you met w Doug Hattaway? I think he's very good.A former Amb has a media project that I need to discuss w you.I loved seeing all of your \"boys\"!1\n",
            "0\n",
            "-----------------------------------------------------------\n",
            "\n",
            "Also is the gender entity in there -- the new women's agency Look at my UN remarks last week I have several parags onit\n",
            "0\n",
            "-----------------------------------------------------------\n",
            "\n",
            "FYISchedule so far.jm\n",
            "0\n",
            "-----------------------------------------------------------\n",
            "\n",
            "I solved the mystery on ralph thomson the ceo of international business catalysts who sent you letter and mentionedhis export conference this fall. You met him at the business roundtable lunch lorraine hariton organized on july 16th foryou and bob hormats. Ralph was invited because they include all past ACE winners on the invitation list (he won in 2007)and he runs a small/medium size business which is a group they target for these roundtables. Lorraines office is in touchwith him on who would be appropriate to attend his conference.\n",
            "0\n",
            "-----------------------------------------------------------\n",
            "\n",
            "STATEMENT OF SECRETARY CLINTONThe Passing of Victoria DeLongThis morning I spoke with the family of Victoria DeLong the Cultural Affairs Officer at our Embassy in Port-Au-Princewho lost her life in the earthquake. I expressed my sincerest condolences on behalf of the men and women of the StateDepartment and the American people. This is one tragedy among so many. The United Nations has suffered greviouslosses. And the Hatian people have endured unimaginable heartbreak. For the State Department we have lost one ofour own. Victoria was a veteran Foreign Service Officer who worked tirelessly to build bridges of understanding andrespect between the people of the United State and the people of Haiti. She served her country with distinction andhonor and she will be sorely missed. Victoria's friends and colleagues at the Embassy are working day and night tosupport vital relief and recovery efforts and our thoughts our prayers and our deepest thanks are with them as well.Along with the military personnel the search and rescue teams and all the aid and relief workers now deploying theyrepresent the unwavering commitment of the United States to stand with Haiti in its hour of need and in the hard daysand years to come. My heart is with the DeLong family today and with all those in Haiti and around the world who havelost loved ones and friends in this disaster.###\n",
            "0\n",
            "-----------------------------------------------------------\n",
            "\n"
          ]
        }
      ],
      "source": [
        "# Random sampling of data to investigate dataset\n",
        "for i in range(0,10):\n",
        "  v = df.sample()\n",
        "  print(v.iloc[0][\"Text\"])\n",
        "  print(v.iloc[0][\"Class\"])\n",
        "  print(\"-----------------------------------------------------------\\n\")\n"
      ]
    },
    {
      "cell_type": "code",
      "execution_count": 6,
      "metadata": {
        "colab": {
          "base_uri": "https://localhost:8080/",
          "height": 81
        },
        "id": "cJ4wP_l2kDzD",
        "outputId": "f79a75e4-446b-47be-f760-f82b4d1a3504"
      },
      "outputs": [
        {
          "data": {
            "text/html": [
              "<div>\n",
              "<style scoped>\n",
              "    .dataframe tbody tr th:only-of-type {\n",
              "        vertical-align: middle;\n",
              "    }\n",
              "\n",
              "    .dataframe tbody tr th {\n",
              "        vertical-align: top;\n",
              "    }\n",
              "\n",
              "    .dataframe thead th {\n",
              "        text-align: right;\n",
              "    }\n",
              "</style>\n",
              "<table border=\"1\" class=\"dataframe\">\n",
              "  <thead>\n",
              "    <tr style=\"text-align: right;\">\n",
              "      <th></th>\n",
              "      <th>Text</th>\n",
              "      <th>Class</th>\n",
              "    </tr>\n",
              "  </thead>\n",
              "  <tbody>\n",
              "    <tr>\n",
              "      <th>5129</th>\n",
              "      <td>NaN</td>\n",
              "      <td>1</td>\n",
              "    </tr>\n",
              "  </tbody>\n",
              "</table>\n",
              "</div>"
            ],
            "text/plain": [
              "     Text  Class\n",
              "5129  NaN      1"
            ]
          },
          "execution_count": 6,
          "metadata": {},
          "output_type": "execute_result"
        }
      ],
      "source": [
        "# Check for NaN values in data\n",
        "df1 = df[df.isna().any(axis=1)]\n",
        "df1"
      ]
    },
    {
      "cell_type": "code",
      "execution_count": 7,
      "metadata": {
        "colab": {
          "base_uri": "https://localhost:8080/",
          "height": 49
        },
        "id": "tDkgrluTkGjq",
        "outputId": "2d443bfe-a477-4b93-8518-e22546160f35"
      },
      "outputs": [
        {
          "data": {
            "text/html": [
              "<div>\n",
              "<style scoped>\n",
              "    .dataframe tbody tr th:only-of-type {\n",
              "        vertical-align: middle;\n",
              "    }\n",
              "\n",
              "    .dataframe tbody tr th {\n",
              "        vertical-align: top;\n",
              "    }\n",
              "\n",
              "    .dataframe thead th {\n",
              "        text-align: right;\n",
              "    }\n",
              "</style>\n",
              "<table border=\"1\" class=\"dataframe\">\n",
              "  <thead>\n",
              "    <tr style=\"text-align: right;\">\n",
              "      <th></th>\n",
              "      <th>Text</th>\n",
              "      <th>Class</th>\n",
              "    </tr>\n",
              "  </thead>\n",
              "  <tbody>\n",
              "  </tbody>\n",
              "</table>\n",
              "</div>"
            ],
            "text/plain": [
              "Empty DataFrame\n",
              "Columns: [Text, Class]\n",
              "Index: []"
            ]
          },
          "execution_count": 7,
          "metadata": {},
          "output_type": "execute_result"
        }
      ],
      "source": [
        "# Only one NaN, so just drop it\n",
        "df = df.drop(index=5129)\n",
        "df2 = df[df.isna().any(axis=1)]\n",
        "df2"
      ]
    },
    {
      "cell_type": "code",
      "execution_count": 8,
      "metadata": {
        "colab": {
          "base_uri": "https://localhost:8080/"
        },
        "id": "pg32p6rAkJs8",
        "outputId": "52fafab5-2024-47c2-e544-4aa601074dd7"
      },
      "outputs": [
        {
          "name": "stdout",
          "output_type": "stream",
          "text": [
            "Total: 11928\n",
            "Unique: 10249\n"
          ]
        }
      ],
      "source": [
        "# Check for duplicates in data\n",
        "print(\"Total: \" + str(len(df)))\n",
        "print(\"Unique: \" + str(df[\"Text\"].nunique()))"
      ]
    },
    {
      "cell_type": "code",
      "execution_count": 9,
      "metadata": {
        "colab": {
          "base_uri": "https://localhost:8080/",
          "height": 1000
        },
        "id": "Ei1vwmvlkgqE",
        "outputId": "f0c55db1-c3d0-4bc0-f917-735b06f2c474"
      },
      "outputs": [
        {
          "data": {
            "text/html": [
              "<div>\n",
              "<style scoped>\n",
              "    .dataframe tbody tr th:only-of-type {\n",
              "        vertical-align: middle;\n",
              "    }\n",
              "\n",
              "    .dataframe tbody tr th {\n",
              "        vertical-align: top;\n",
              "    }\n",
              "\n",
              "    .dataframe thead th {\n",
              "        text-align: right;\n",
              "    }\n",
              "</style>\n",
              "<table border=\"1\" class=\"dataframe\">\n",
              "  <thead>\n",
              "    <tr style=\"text-align: right;\">\n",
              "      <th></th>\n",
              "      <th>Text</th>\n",
              "      <th>Class</th>\n",
              "      <th>0</th>\n",
              "    </tr>\n",
              "  </thead>\n",
              "  <tbody>\n",
              "    <tr>\n",
              "      <th>0</th>\n",
              "      <td>Supply Quality China's EXCLUSIVE dimensions at...</td>\n",
              "      <td>1</td>\n",
              "      <td>False</td>\n",
              "    </tr>\n",
              "    <tr>\n",
              "      <th>1</th>\n",
              "      <td>over. SidLet me know. Thx.</td>\n",
              "      <td>0</td>\n",
              "      <td>False</td>\n",
              "    </tr>\n",
              "    <tr>\n",
              "      <th>2</th>\n",
              "      <td>Dear Friend,Greetings to you.I wish to accost ...</td>\n",
              "      <td>1</td>\n",
              "      <td>False</td>\n",
              "    </tr>\n",
              "    <tr>\n",
              "      <th>3</th>\n",
              "      <td>MR. CHEUNG PUIHANG SENG BANK LTD.DES VOEUX RD....</td>\n",
              "      <td>1</td>\n",
              "      <td>False</td>\n",
              "    </tr>\n",
              "    <tr>\n",
              "      <th>4</th>\n",
              "      <td>Not a surprising assessment from Embassy.</td>\n",
              "      <td>0</td>\n",
              "      <td>False</td>\n",
              "    </tr>\n",
              "    <tr>\n",
              "      <th>...</th>\n",
              "      <td>...</td>\n",
              "      <td>...</td>\n",
              "      <td>...</td>\n",
              "    </tr>\n",
              "    <tr>\n",
              "      <th>11924</th>\n",
              "      <td>Travel well. I'll look forward to hearing your...</td>\n",
              "      <td>0</td>\n",
              "      <td>False</td>\n",
              "    </tr>\n",
              "    <tr>\n",
              "      <th>11925</th>\n",
              "      <td>Dear friend, I wish to begin by way of introdu...</td>\n",
              "      <td>1</td>\n",
              "      <td>True</td>\n",
              "    </tr>\n",
              "    <tr>\n",
              "      <th>11926</th>\n",
              "      <td>Follow Up Flag: Follow upFlag Status: FlaggedM...</td>\n",
              "      <td>0</td>\n",
              "      <td>False</td>\n",
              "    </tr>\n",
              "    <tr>\n",
              "      <th>11927</th>\n",
              "      <td>sbwhoeop B6Saturday January 23 2010 4:09 PMRe:...</td>\n",
              "      <td>0</td>\n",
              "      <td>False</td>\n",
              "    </tr>\n",
              "    <tr>\n",
              "      <th>11928</th>\n",
              "      <td>FYI. We are revising call sheet for call to Ka...</td>\n",
              "      <td>0</td>\n",
              "      <td>False</td>\n",
              "    </tr>\n",
              "  </tbody>\n",
              "</table>\n",
              "<p>11928 rows × 3 columns</p>\n",
              "</div>"
            ],
            "text/plain": [
              "                                                    Text  Class      0\n",
              "0      Supply Quality China's EXCLUSIVE dimensions at...      1  False\n",
              "1                             over. SidLet me know. Thx.      0  False\n",
              "2      Dear Friend,Greetings to you.I wish to accost ...      1  False\n",
              "3      MR. CHEUNG PUIHANG SENG BANK LTD.DES VOEUX RD....      1  False\n",
              "4              Not a surprising assessment from Embassy.      0  False\n",
              "...                                                  ...    ...    ...\n",
              "11924  Travel well. I'll look forward to hearing your...      0  False\n",
              "11925  Dear friend, I wish to begin by way of introdu...      1   True\n",
              "11926  Follow Up Flag: Follow upFlag Status: FlaggedM...      0  False\n",
              "11927  sbwhoeop B6Saturday January 23 2010 4:09 PMRe:...      0  False\n",
              "11928  FYI. We are revising call sheet for call to Ka...      0  False\n",
              "\n",
              "[11928 rows x 3 columns]"
            ]
          },
          "execution_count": 9,
          "metadata": {},
          "output_type": "execute_result"
        }
      ],
      "source": [
        "\n",
        "df_dup = df.duplicated()\n",
        "df_dup.rename(\"IsDuplicate\")\n",
        "df_joined = df.join(df_dup.to_frame())\n",
        "df_joined"
      ]
    },
    {
      "cell_type": "code",
      "execution_count": 10,
      "metadata": {
        "colab": {
          "base_uri": "https://localhost:8080/",
          "height": 1000
        },
        "id": "xg6SzDyRknPM",
        "outputId": "beebf3d6-87f9-4e16-b548-b1b62475c15d"
      },
      "outputs": [
        {
          "data": {
            "text/html": [
              "<div>\n",
              "<style scoped>\n",
              "    .dataframe tbody tr th:only-of-type {\n",
              "        vertical-align: middle;\n",
              "    }\n",
              "\n",
              "    .dataframe tbody tr th {\n",
              "        vertical-align: top;\n",
              "    }\n",
              "\n",
              "    .dataframe thead th {\n",
              "        text-align: right;\n",
              "    }\n",
              "</style>\n",
              "<table border=\"1\" class=\"dataframe\">\n",
              "  <thead>\n",
              "    <tr style=\"text-align: right;\">\n",
              "      <th></th>\n",
              "      <th>Text</th>\n",
              "      <th>Class</th>\n",
              "      <th>0</th>\n",
              "    </tr>\n",
              "  </thead>\n",
              "  <tbody>\n",
              "    <tr>\n",
              "      <th>0</th>\n",
              "      <td>Supply Quality China's EXCLUSIVE dimensions at...</td>\n",
              "      <td>1</td>\n",
              "      <td>False</td>\n",
              "    </tr>\n",
              "    <tr>\n",
              "      <th>1</th>\n",
              "      <td>over. SidLet me know. Thx.</td>\n",
              "      <td>0</td>\n",
              "      <td>False</td>\n",
              "    </tr>\n",
              "    <tr>\n",
              "      <th>2</th>\n",
              "      <td>Dear Friend,Greetings to you.I wish to accost ...</td>\n",
              "      <td>1</td>\n",
              "      <td>False</td>\n",
              "    </tr>\n",
              "    <tr>\n",
              "      <th>3</th>\n",
              "      <td>MR. CHEUNG PUIHANG SENG BANK LTD.DES VOEUX RD....</td>\n",
              "      <td>1</td>\n",
              "      <td>False</td>\n",
              "    </tr>\n",
              "    <tr>\n",
              "      <th>4</th>\n",
              "      <td>Not a surprising assessment from Embassy.</td>\n",
              "      <td>0</td>\n",
              "      <td>False</td>\n",
              "    </tr>\n",
              "    <tr>\n",
              "      <th>...</th>\n",
              "      <td>...</td>\n",
              "      <td>...</td>\n",
              "      <td>...</td>\n",
              "    </tr>\n",
              "    <tr>\n",
              "      <th>11924</th>\n",
              "      <td>Travel well. I'll look forward to hearing your...</td>\n",
              "      <td>0</td>\n",
              "      <td>False</td>\n",
              "    </tr>\n",
              "    <tr>\n",
              "      <th>11925</th>\n",
              "      <td>Dear friend, I wish to begin by way of introdu...</td>\n",
              "      <td>1</td>\n",
              "      <td>True</td>\n",
              "    </tr>\n",
              "    <tr>\n",
              "      <th>11926</th>\n",
              "      <td>Follow Up Flag: Follow upFlag Status: FlaggedM...</td>\n",
              "      <td>0</td>\n",
              "      <td>False</td>\n",
              "    </tr>\n",
              "    <tr>\n",
              "      <th>11927</th>\n",
              "      <td>sbwhoeop B6Saturday January 23 2010 4:09 PMRe:...</td>\n",
              "      <td>0</td>\n",
              "      <td>False</td>\n",
              "    </tr>\n",
              "    <tr>\n",
              "      <th>11928</th>\n",
              "      <td>FYI. We are revising call sheet for call to Ka...</td>\n",
              "      <td>0</td>\n",
              "      <td>False</td>\n",
              "    </tr>\n",
              "  </tbody>\n",
              "</table>\n",
              "<p>11928 rows × 3 columns</p>\n",
              "</div>"
            ],
            "text/plain": [
              "                                                    Text  Class      0\n",
              "0      Supply Quality China's EXCLUSIVE dimensions at...      1  False\n",
              "1                             over. SidLet me know. Thx.      0  False\n",
              "2      Dear Friend,Greetings to you.I wish to accost ...      1  False\n",
              "3      MR. CHEUNG PUIHANG SENG BANK LTD.DES VOEUX RD....      1  False\n",
              "4              Not a surprising assessment from Embassy.      0  False\n",
              "...                                                  ...    ...    ...\n",
              "11924  Travel well. I'll look forward to hearing your...      0  False\n",
              "11925  Dear friend, I wish to begin by way of introdu...      1   True\n",
              "11926  Follow Up Flag: Follow upFlag Status: FlaggedM...      0  False\n",
              "11927  sbwhoeop B6Saturday January 23 2010 4:09 PMRe:...      0  False\n",
              "11928  FYI. We are revising call sheet for call to Ka...      0  False\n",
              "\n",
              "[11928 rows x 3 columns]"
            ]
          },
          "execution_count": 10,
          "metadata": {},
          "output_type": "execute_result"
        }
      ],
      "source": [
        "df_joined_rename = df_joined.rename(columns={0:'isDuplicate'})\n",
        "df_joined"
      ]
    }
  ],
  "metadata": {
    "colab": {
      "include_colab_link": true,
      "name": "data_test.ipynb",
      "provenance": []
    },
    "interpreter": {
      "hash": "88714c931dc9ee7d21a92e9b68b181aa118eefc9169ccebda9a1e2ed7482c505"
    },
    "kernelspec": {
      "display_name": "Python 3.8.13 ('ai4good': conda)",
      "language": "python",
      "name": "python3"
    },
    "language_info": {
      "codemirror_mode": {
        "name": "ipython",
        "version": 3
      },
      "file_extension": ".py",
      "mimetype": "text/x-python",
      "name": "python",
      "nbconvert_exporter": "python",
      "pygments_lexer": "ipython3",
      "version": "3.8.13"
    }
  },
  "nbformat": 4,
  "nbformat_minor": 0
}
