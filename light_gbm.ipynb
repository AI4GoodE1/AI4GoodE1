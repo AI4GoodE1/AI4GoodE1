{
 "cells": [
  {
   "cell_type": "code",
   "execution_count": null,
   "metadata": {},
   "outputs": [],
   "source": [
    "#imports\n",
    "import numpy as np\n",
    "import pandas as pd\n",
    "import lightgbm as lgb\n"
   ]
  },
  {
   "cell_type": "code",
   "execution_count": 24,
   "metadata": {},
   "outputs": [
    {
     "data": {
      "text/html": [
       "<div>\n",
       "<style scoped>\n",
       "    .dataframe tbody tr th:only-of-type {\n",
       "        vertical-align: middle;\n",
       "    }\n",
       "\n",
       "    .dataframe tbody tr th {\n",
       "        vertical-align: top;\n",
       "    }\n",
       "\n",
       "    .dataframe thead th {\n",
       "        text-align: right;\n",
       "    }\n",
       "</style>\n",
       "<table border=\"1\" class=\"dataframe\">\n",
       "  <thead>\n",
       "    <tr style=\"text-align: right;\">\n",
       "      <th></th>\n",
       "      <th>Text</th>\n",
       "      <th>Class</th>\n",
       "    </tr>\n",
       "  </thead>\n",
       "  <tbody>\n",
       "    <tr>\n",
       "      <th>0</th>\n",
       "      <td>supply quality china s exclusive dimensions at...</td>\n",
       "      <td>1</td>\n",
       "    </tr>\n",
       "    <tr>\n",
       "      <th>1</th>\n",
       "      <td>over  sidlet me know  thx</td>\n",
       "      <td>0</td>\n",
       "    </tr>\n",
       "    <tr>\n",
       "      <th>2</th>\n",
       "      <td>dear friend greetings to you i wish to accost ...</td>\n",
       "      <td>1</td>\n",
       "    </tr>\n",
       "    <tr>\n",
       "      <th>3</th>\n",
       "      <td>mr  cheung puihang seng bank ltd des voeux rd ...</td>\n",
       "      <td>1</td>\n",
       "    </tr>\n",
       "    <tr>\n",
       "      <th>4</th>\n",
       "      <td>not a surprising assessment from embassy</td>\n",
       "      <td>0</td>\n",
       "    </tr>\n",
       "    <tr>\n",
       "      <th>...</th>\n",
       "      <td>...</td>\n",
       "      <td>...</td>\n",
       "    </tr>\n",
       "    <tr>\n",
       "      <th>10244</th>\n",
       "      <td>i called and was transferred to room but got n...</td>\n",
       "      <td>0</td>\n",
       "    </tr>\n",
       "    <tr>\n",
       "      <th>10245</th>\n",
       "      <td>travel well  i ll look forward to hearing your...</td>\n",
       "      <td>0</td>\n",
       "    </tr>\n",
       "    <tr>\n",
       "      <th>10246</th>\n",
       "      <td>follow up flag  follow upflag status  flaggedm...</td>\n",
       "      <td>0</td>\n",
       "    </tr>\n",
       "    <tr>\n",
       "      <th>10247</th>\n",
       "      <td>sbwhoeop bnumbersaturday january number number...</td>\n",
       "      <td>0</td>\n",
       "    </tr>\n",
       "    <tr>\n",
       "      <th>10248</th>\n",
       "      <td>fyi  we are revising call sheet for call to ka...</td>\n",
       "      <td>0</td>\n",
       "    </tr>\n",
       "  </tbody>\n",
       "</table>\n",
       "<p>10249 rows × 2 columns</p>\n",
       "</div>"
      ],
      "text/plain": [
       "                                                    Text  Class\n",
       "0      supply quality china s exclusive dimensions at...      1\n",
       "1                            over  sidlet me know  thx        0\n",
       "2      dear friend greetings to you i wish to accost ...      1\n",
       "3      mr  cheung puihang seng bank ltd des voeux rd ...      1\n",
       "4             not a surprising assessment from embassy        0\n",
       "...                                                  ...    ...\n",
       "10244  i called and was transferred to room but got n...      0\n",
       "10245  travel well  i ll look forward to hearing your...      0\n",
       "10246  follow up flag  follow upflag status  flaggedm...      0\n",
       "10247  sbwhoeop bnumbersaturday january number number...      0\n",
       "10248  fyi  we are revising call sheet for call to ka...      0\n",
       "\n",
       "[10249 rows x 2 columns]"
      ]
     },
     "execution_count": 24,
     "metadata": {},
     "output_type": "execute_result"
    }
   ],
   "source": [
    "# Get data\n",
    "df = pd.read_csv('fraud_email_preprocessed.csv')\n",
    "df\n"
   ]
  },
  {
   "cell_type": "code",
   "execution_count": 25,
   "metadata": {},
   "outputs": [
    {
     "name": "stderr",
     "output_type": "stream",
     "text": [
      "[nltk_data] Downloading package punkt to /Users/Lidia/nltk_data...\n",
      "[nltk_data]   Package punkt is already up-to-date!\n"
     ]
    }
   ],
   "source": [
    "df_final = df['Text']\n",
    "from nltk.tokenize import word_tokenize\n",
    "import nltk\n",
    "nltk.download('punkt')\n",
    "\n",
    "bow = []\n",
    "for message in df_final:\n",
    "    words = word_tokenize(message)\n",
    "    for w in words:\n",
    "        bow.append(w)"
   ]
  },
  {
   "cell_type": "code",
   "execution_count": 26,
   "metadata": {},
   "outputs": [
    {
     "name": "stdout",
     "output_type": "stream",
     "text": [
      "841893856\n"
     ]
    }
   ],
   "source": [
    "# handle TF|IDF\n",
    "from sklearn.feature_extraction.text import TfidfVectorizer\n",
    "tfidf_model = TfidfVectorizer()\n",
    "tfidf_vec=tfidf_model.fit_transform(df_final)\n",
    "tfidf_data=pd.DataFrame(tfidf_vec.toarray())\n",
    "\n",
    "print(tfidf_data.size)"
   ]
  },
  {
   "cell_type": "code",
   "execution_count": 27,
   "metadata": {},
   "outputs": [],
   "source": [
    "from sklearn.decomposition import TruncatedSVD \n",
    "\n",
    "svd = TruncatedSVD(n_components=350, algorithm='randomized')\n",
    "df_svd = svd.fit_transform(tfidf_data)"
   ]
  },
  {
   "cell_type": "code",
   "execution_count": 28,
   "metadata": {},
   "outputs": [
    {
     "name": "stderr",
     "output_type": "stream",
     "text": [
      "/var/folders/b3/6j7dyswj5tg9ztf70f_5v8l00000gn/T/ipykernel_71491/3725565269.py:7: SettingWithCopyWarning: \n",
      "A value is trying to be set on a copy of a slice from a DataFrame.\n",
      "Try using .loc[row_indexer,col_indexer] = value instead\n",
      "\n",
      "See the caveats in the documentation: https://pandas.pydata.org/pandas-docs/stable/user_guide/indexing.html#returning-a-view-versus-a-copy\n",
      "  df_train['Class'] = target\n"
     ]
    }
   ],
   "source": [
    "df_new = pd.DataFrame(df_svd)\n",
    "\n",
    "df_train = df_new.iloc[:4457]\n",
    "df_test = df_new.iloc[4457:]\n",
    "\n",
    "target = df['Class']\n",
    "df_train['Class'] = target\n",
    "\n",
    "Y = df_train['Class']\n",
    "X = df_train.drop('Class',axis=1)"
   ]
  },
  {
   "cell_type": "code",
   "execution_count": 30,
   "metadata": {},
   "outputs": [],
   "source": [
    "# Splitting the data into train and test\n",
    "from sklearn import model_selection\n",
    "X_train,X_test,y_train,y_test = model_selection.train_test_split(X,Y,test_size=.35, random_state=42)"
   ]
  },
  {
   "cell_type": "code",
   "execution_count": 31,
   "metadata": {},
   "outputs": [
    {
     "name": "stdout",
     "output_type": "stream",
     "text": [
      "Max Depth 1\n",
      "F1 score is:  0.946\n",
      "____________________________________\n",
      "Max Depth 2\n",
      "F1 score is:  0.975\n",
      "____________________________________\n",
      "Max Depth 3\n",
      "F1 score is:  0.975\n",
      "____________________________________\n",
      "Max Depth 4\n",
      "F1 score is:  0.975\n",
      "____________________________________\n",
      "Max Depth 5\n",
      "F1 score is:  0.978\n",
      "____________________________________\n",
      "Max Depth 6\n",
      "F1 score is:  0.978\n",
      "____________________________________\n",
      "Max Depth 7\n",
      "F1 score is:  0.977\n",
      "____________________________________\n",
      "Max Depth 8\n",
      "F1 score is:  0.979\n",
      "____________________________________\n",
      "Max Depth 9\n",
      "F1 score is:  0.979\n",
      "____________________________________\n",
      "Max Depth 10\n",
      "F1 score is:  0.978\n",
      "____________________________________\n",
      "Max Depth 11\n",
      "F1 score is:  0.978\n",
      "____________________________________\n",
      "Max Depth 12\n",
      "F1 score is:  0.976\n",
      "____________________________________\n",
      "Max Depth 13\n",
      "F1 score is:  0.979\n",
      "____________________________________\n",
      "Max Depth 14\n",
      "F1 score is:  0.978\n",
      "____________________________________\n",
      "Max Depth 15\n",
      "F1 score is:  0.977\n",
      "____________________________________\n",
      "Max Depth 16\n",
      "F1 score is:  0.978\n",
      "____________________________________\n",
      "Max Depth 17\n",
      "F1 score is:  0.979\n",
      "____________________________________\n",
      "Max Depth 18\n",
      "F1 score is:  0.976\n",
      "____________________________________\n",
      "Max Depth 19\n",
      "F1 score is:  0.978\n",
      "____________________________________\n"
     ]
    }
   ],
   "source": [
    "# Predicting and calculating f1 score\n",
    "from sklearn.metrics import f1_score\n",
    "\n",
    "def train_and_test(model, model_name):\n",
    "    model.fit(X_train, y_train)\n",
    "    pred = model.predict(X_test)\n",
    "    f2 = round(f1_score(pred, y_test),3)\n",
    "    print(f'F1 score is: ',f2)\n",
    "    \n",
    "for depth in (1,2,3,4,5,6,7,8,9,10,11,12,13,14,15,16,17,18,19):\n",
    "    lgbmodel = lgb.LGBMClassifier(max_depth=depth, n_estimators=200,alpha=0.1,num_leaves=74)\n",
    "    print(f\"Max Depth {depth}\")\n",
    "    train_and_test(lgbmodel, \"Light GBM\")\n",
    "    print(\"____________________________________\")"
   ]
  },
  {
   "cell_type": "code",
   "execution_count": 32,
   "metadata": {},
   "outputs": [],
   "source": [
    "# Using this class to make my print statement look bold\n",
    "class color:\n",
    "    BOLD = '\\033[1m'"
   ]
  },
  {
   "cell_type": "code",
   "execution_count": 33,
   "metadata": {},
   "outputs": [
    {
     "name": "stdout",
     "output_type": "stream",
     "text": [
      "\u001b[1mConfusion Matrix:\n",
      " [[873   5]\n",
      " [ 24 658]]\n",
      "-----------------------------------------------------------------------\n",
      "\u001b[1mAccuracy Score: 0.9814102564102564\n",
      "-----------------------------------------------------------------------\n",
      "\u001b[1mF1 score: 0.978\n",
      "-----------------------------------------------------------------------\n",
      "Classification Report:\n",
      "\u001b[1m\n",
      "               precision    recall  f1-score   support\n",
      "\n",
      "           0       0.97      0.99      0.98       878\n",
      "           1       0.99      0.96      0.98       682\n",
      "\n",
      "    accuracy                           0.98      1560\n",
      "   macro avg       0.98      0.98      0.98      1560\n",
      "weighted avg       0.98      0.98      0.98      1560\n",
      "\n",
      "-----------------------------------------------------------------------\n"
     ]
    }
   ],
   "source": [
    "from sklearn.metrics import accuracy_score,confusion_matrix,classification_report\n",
    "\n",
    "y_pred=lgbmodel.predict(X_test)\n",
    "print(color.BOLD +'Confusion Matrix:\\n', confusion_matrix(y_test,y_pred))\n",
    "print('-----------------------------------------------------------------------')\n",
    "print(color.BOLD +'Accuracy Score:', accuracy_score(y_test,y_pred))\n",
    "print('-----------------------------------------------------------------------')\n",
    "\n",
    "#Predicting and calculating f1 score\n",
    "from sklearn.metrics import f1_score\n",
    "f1 = f1_score(y_pred, y_test)\n",
    "f1_round = round(f1,3)\n",
    "\n",
    "print(color.BOLD + 'F1 score:',f1_round)\n",
    "print('-----------------------------------------------------------------------')\n",
    "print('Classification Report:')\n",
    "print(color.BOLD +'\\n',classification_report(y_test,y_pred))\n",
    "print('-----------------------------------------------------------------------')"
   ]
  },
  {
   "cell_type": "code",
   "execution_count": 34,
   "metadata": {},
   "outputs": [
    {
     "name": "stdout",
     "output_type": "stream",
     "text": [
      "Training Accuracy : 0.999\n",
      "Test Accuracy : 0.981\n"
     ]
    }
   ],
   "source": [
    "print('Training Accuracy : %.3f' %lgbmodel.score(X_train, y_train))\n",
    "print('Test Accuracy : %.3f' %lgbmodel.score(X_test, y_test))"
   ]
  },
  {
   "cell_type": "code",
   "execution_count": 36,
   "metadata": {},
   "outputs": [
    {
     "name": "stdout",
     "output_type": "stream",
     "text": [
      "0.9795573116720886\n"
     ]
    }
   ],
   "source": [
    "from sklearn.metrics import roc_curve\n",
    "\n",
    "# roc curve for models\n",
    "fpr, tpr, thresh = roc_curve(y_test, y_pred, pos_label=1)\n",
    "\n",
    "# roc curve for tpr = fpr \n",
    "random_probs = [0 for i in range(len(y_test))]\n",
    "p_fpr, p_tpr, _ = roc_curve(y_test, random_probs, pos_label=1)\n",
    "\n",
    "from sklearn.metrics import roc_auc_score\n",
    "\n",
    "# auc score\n",
    "auc_score = roc_auc_score(y_test, y_pred)\n",
    "\n",
    "print(auc_score)"
   ]
  },
  {
   "cell_type": "code",
   "execution_count": 39,
   "metadata": {},
   "outputs": [
    {
     "data": {
      "image/png": "[encoded data removed]",
      "text/plain": [
       "<Figure size 960x800 with 1 Axes>"
      ]
     },
     "metadata": {},
     "output_type": "display_data"
    }
   ],
   "source": [
    "import seaborn as sns\n",
    "sns.set_style(\"whitegrid\")\n",
    "\n",
    "# Changing image size\n",
    "from matplotlib.pyplot import figure\n",
    "import matplotlib.pyplot as plt\n",
    "\n",
    "figure(figsize=(12, 10), dpi=80)\n",
    "\n",
    "# Plot roc curves\n",
    "plt.plot(fpr, tpr, linestyle='--',color='brown', label='Light GBM Classifier')\n",
    "plt.plot(p_fpr, p_tpr, linestyle='--', color='blue')\n",
    "\n",
    "# Title\n",
    "plt.title('ROC curve')\n",
    "\n",
    "# X-label\n",
    "plt.xlabel('False Positive Rate')\n",
    "\n",
    "# Y-label\n",
    "plt.ylabel('True Positive rate')\n",
    "\n",
    "plt.legend(bbox_to_anchor=(1.05, 1), loc=2, borderaxespad=0.)\n",
    "plt.show()"
   ]
  }
 ],
 "metadata": {
  "interpreter": {
   "hash": "b54ca0c138d3ceb32188f10e022e673ced8909cd060c5dfebef75e4426d53d14"
  },
  "kernelspec": {
   "display_name": "Python 3.8.12 ('base')",
   "language": "python",
   "name": "python3"
  },
  "language_info": {
   "codemirror_mode": {
    "name": "ipython",
    "version": 3
   },
   "file_extension": ".py",
   "mimetype": "text/x-python",
   "name": "python",
   "nbconvert_exporter": "python",
   "pygments_lexer": "ipython3",
   "version": "3.8.12"
  },
  "orig_nbformat": 4
 },
 "nbformat": 4,
 "nbformat_minor": 2
}
