{
  "nbformat": 4,
  "nbformat_minor": 0,
  "metadata": {
    "colab": {
      "name": "distilBERTmodelEval.ipynb",
      "provenance": [],
      "mount_file_id": "1xm7sN5rNcp8X3qzJL9oANUhf2zjS7sO_",
      "authorship_tag": "ABX9TyOZy3jBQMOIv21Z8NxQxqce",
      "include_colab_link": true
    },
    "kernelspec": {
      "name": "python3",
      "display_name": "Python 3"
    },
    "language_info": {
      "name": "python"
    },
    "accelerator": "GPU"
  },
  "cells": [
    {
      "cell_type": "markdown",
      "metadata": {
        "id": "view-in-github",
        "colab_type": "text"
      },
      "source": [
        "<a href=\"https://colab.research.google.com/github/AI4GoodE1/AI4GoodE1/blob/main/distilBERTmodelEval.ipynb\" target=\"_parent\"><img src=\"https://colab.research.google.com/assets/colab-badge.svg\" alt=\"Open In Colab\"/></a>"
      ]
    },
    {
      "cell_type": "code",
      "execution_count": 1,
      "metadata": {
        "colab": {
          "base_uri": "https://localhost:8080/"
        },
        "id": "VbfRXHCmOk9y",
        "outputId": "50004bd5-c3e7-4bc7-ca28-a411c2486d84"
      },
      "outputs": [
        {
          "output_type": "stream",
          "name": "stdout",
          "text": [
            "Looking in indexes: https://pypi.org/simple, https://us-python.pkg.dev/colab-wheels/public/simple/\n",
            "Requirement already satisfied: transformers in /usr/local/lib/python3.7/dist-packages (4.19.2)\n",
            "Requirement already satisfied: huggingface-hub<1.0,>=0.1.0 in /usr/local/lib/python3.7/dist-packages (from transformers) (0.7.0)\n",
            "Requirement already satisfied: tokenizers!=0.11.3,<0.13,>=0.11.1 in /usr/local/lib/python3.7/dist-packages (from transformers) (0.12.1)\n",
            "Requirement already satisfied: tqdm>=4.27 in /usr/local/lib/python3.7/dist-packages (from transformers) (4.64.0)\n",
            "Requirement already satisfied: requests in /usr/local/lib/python3.7/dist-packages (from transformers) (2.23.0)\n",
            "Requirement already satisfied: pyyaml>=5.1 in /usr/local/lib/python3.7/dist-packages (from transformers) (6.0)\n",
            "Requirement already satisfied: numpy>=1.17 in /usr/local/lib/python3.7/dist-packages (from transformers) (1.21.6)\n",
            "Requirement already satisfied: packaging>=20.0 in /usr/local/lib/python3.7/dist-packages (from transformers) (21.3)\n",
            "Requirement already satisfied: regex!=2019.12.17 in /usr/local/lib/python3.7/dist-packages (from transformers) (2019.12.20)\n",
            "Requirement already satisfied: importlib-metadata in /usr/local/lib/python3.7/dist-packages (from transformers) (4.11.4)\n",
            "Requirement already satisfied: filelock in /usr/local/lib/python3.7/dist-packages (from transformers) (3.7.0)\n",
            "Requirement already satisfied: typing-extensions>=3.7.4.3 in /usr/local/lib/python3.7/dist-packages (from huggingface-hub<1.0,>=0.1.0->transformers) (4.2.0)\n",
            "Requirement already satisfied: pyparsing!=3.0.5,>=2.0.2 in /usr/local/lib/python3.7/dist-packages (from packaging>=20.0->transformers) (3.0.9)\n",
            "Requirement already satisfied: zipp>=0.5 in /usr/local/lib/python3.7/dist-packages (from importlib-metadata->transformers) (3.8.0)\n",
            "Requirement already satisfied: idna<3,>=2.5 in /usr/local/lib/python3.7/dist-packages (from requests->transformers) (2.10)\n",
            "Requirement already satisfied: chardet<4,>=3.0.2 in /usr/local/lib/python3.7/dist-packages (from requests->transformers) (3.0.4)\n",
            "Requirement already satisfied: urllib3!=1.25.0,!=1.25.1,<1.26,>=1.21.1 in /usr/local/lib/python3.7/dist-packages (from requests->transformers) (1.24.3)\n",
            "Requirement already satisfied: certifi>=2017.4.17 in /usr/local/lib/python3.7/dist-packages (from requests->transformers) (2022.5.18.1)\n"
          ]
        }
      ],
      "source": [
        "!pip install transformers\n",
        "\n",
        "#imports\n",
        "import numpy as np\n",
        "import pandas as pd\n",
        "# import torch\n",
        "import tensorflow as tf\n",
        "from sklearn.model_selection import train_test_split\n",
        "\n",
        "#transformers import\n",
        "from transformers import DistilBertTokenizerFast, DistilBertModel\n",
        "from transformers import TFDistilBertForSequenceClassification, TFTrainer, TFTrainingArguments\n",
        "from sklearn.metrics import confusion_matrix"
      ]
    },
    {
      "cell_type": "code",
      "source": [
        "trained_model = TFDistilBertForSequenceClassification.from_pretrained(\"/content/drive/Shareddrives/AI4GoodE1 - Scam Detection Project/trained_distilbert_model\")\n",
        "#trained_model = tf.keras.models.load_model(\"/content/drive/Shareddrives/AI4GoodE1 - Scam Detection Project/trained_distilbert_model/config.json\")\n"
      ],
      "metadata": {
        "colab": {
          "base_uri": "https://localhost:8080/"
        },
        "id": "93lRVfpsPEUI",
        "outputId": "d9a015c5-0825-4597-f957-31c8e4da6990"
      },
      "execution_count": 2,
      "outputs": [
        {
          "output_type": "stream",
          "name": "stderr",
          "text": [
            "Some layers from the model checkpoint at /content/drive/Shareddrives/AI4GoodE1 - Scam Detection Project/trained_distilbert_model were not used when initializing TFDistilBertForSequenceClassification: ['dropout_39']\n",
            "- This IS expected if you are initializing TFDistilBertForSequenceClassification from the checkpoint of a model trained on another task or with another architecture (e.g. initializing a BertForSequenceClassification model from a BertForPreTraining model).\n",
            "- This IS NOT expected if you are initializing TFDistilBertForSequenceClassification from the checkpoint of a model that you expect to be exactly identical (initializing a BertForSequenceClassification model from a BertForSequenceClassification model).\n",
            "Some layers of TFDistilBertForSequenceClassification were not initialized from the model checkpoint at /content/drive/Shareddrives/AI4GoodE1 - Scam Detection Project/trained_distilbert_model and are newly initialized: ['dropout_19']\n",
            "You should probably TRAIN this model on a down-stream task to be able to use it for predictions and inference.\n"
          ]
        }
      ]
    },
    {
      "cell_type": "code",
      "source": [
        "tokenizer = DistilBertTokenizerFast.from_pretrained('distilbert-base-uncased')"
      ],
      "metadata": {
        "id": "9147aGzQUvTB"
      },
      "execution_count": 3,
      "outputs": []
    },
    {
      "cell_type": "code",
      "source": [
        "test_email1 = \"Hi team, let’s use my webex for our meeting at 3:15 again. Here is the link: https://rbcteams.webex.com/meet/test.test Thanks\"\n",
        "test_email1 = tokenizer(test_email1, truncation=True, padding=True, return_tensors=\"tf\")\n",
        "print(test_email1)\n",
        "output = trained_model(test_email1)\n",
        "print(output.loss)\n",
        "print(f\"trained: {output.logits}\")"
      ],
      "metadata": {
        "colab": {
          "base_uri": "https://localhost:8080/"
        },
        "id": "QypBA7m2U_5P",
        "outputId": "5ede0b39-6cc8-486e-ab09-7a391402a381"
      },
      "execution_count": 4,
      "outputs": [
        {
          "output_type": "stream",
          "name": "stdout",
          "text": [
            "{'input_ids': <tf.Tensor: shape=(1, 46), dtype=int32, numpy=\n",
            "array([[  101,  7632,  2136,  1010,  2292,  1521,  1055,  2224,  2026,\n",
            "         4773, 10288,  2005,  2256,  3116,  2012,  1017,  1024,  2321,\n",
            "         2153,  1012,  2182,  2003,  1996,  4957,  1024, 16770,  1024,\n",
            "         1013,  1013, 21144,  6593,  5243,  5244,  1012,  4773, 10288,\n",
            "         1012,  4012,  1013,  3113,  1013,  3231,  1012,  3231,  4283,\n",
            "          102]], dtype=int32)>, 'attention_mask': <tf.Tensor: shape=(1, 46), dtype=int32, numpy=\n",
            "array([[1, 1, 1, 1, 1, 1, 1, 1, 1, 1, 1, 1, 1, 1, 1, 1, 1, 1, 1, 1, 1, 1,\n",
            "        1, 1, 1, 1, 1, 1, 1, 1, 1, 1, 1, 1, 1, 1, 1, 1, 1, 1, 1, 1, 1, 1,\n",
            "        1, 1]], dtype=int32)>}\n",
            "None\n",
            "trained: [[ 3.7335205 -3.8806746]]\n"
          ]
        }
      ]
    },
    {
      "cell_type": "code",
      "source": [
        "# Get data\n",
        "df = pd.read_csv('https://raw.githubusercontent.com/AI4GoodE1/AI4GoodE1/main/fraud_email_preprocessed.csv')\n",
        "X = list(df['Text'])\n",
        "y = list(df['Class'])\n",
        "X_Train, X_Test, y_Train, y_Test = train_test_split(X,y,test_size=0.3,random_state=0)\n",
        "train_encodings = tokenizer(X_Train, truncation=True, padding=True) #, return_tensors=\"tf\")\n",
        "test_encodings = tokenizer(X_Test, truncation=True, padding=True) #, return_tensors=\"tf\")\n",
        "\n",
        "train_dataset = tf.data.Dataset.from_tensor_slices((\n",
        "    dict(train_encodings),\n",
        "    y_Train\n",
        "))\n",
        "\n",
        "test_dataset = tf.data.Dataset.from_tensor_slices((\n",
        "    dict(test_encodings),\n",
        "    y_Test\n",
        "))"
      ],
      "metadata": {
        "id": "LJkuFo0ZXryC"
      },
      "execution_count": 5,
      "outputs": []
    },
    {
      "cell_type": "code",
      "source": [
        "# setting most of these features to one further reduces runtime\n",
        "training_args = TFTrainingArguments(\n",
        "    output_dir='./results',          # output directory\n",
        "    num_train_epochs=3,              # total number of training epochs\n",
        "    per_device_train_batch_size=4,   # batch size per device during training\n",
        "    per_device_eval_batch_size=8,    # batch size for evaluation\n",
        "    warmup_steps=0,                # number of warmup steps for learning rate scheduler\n",
        "    weight_decay=0.01,               # strength of weight decay\n",
        "    logging_dir='./logs',            # directory for storing logs\n",
        "    logging_steps=10,\n",
        "    eval_steps = 10\n",
        ")\n",
        "\n",
        "with training_args.strategy.scope():\n",
        "    model = trained_model\n",
        "\n",
        "trainer = TFTrainer(\n",
        "    model=model,                         # the instantiated 🤗 Transformers model to be trained\n",
        "    args=training_args,                  # training arguments, defined above\n",
        "    train_dataset=train_dataset,         # training dataset\n",
        "    eval_dataset=test_dataset            # evaluation dataset\n",
        ")"
      ],
      "metadata": {
        "colab": {
          "base_uri": "https://localhost:8080/"
        },
        "id": "wx77MHBuc2Vv",
        "outputId": "a8d5f7fc-63a4-4b23-f791-9943a3927b5c"
      },
      "execution_count": 6,
      "outputs": [
        {
          "output_type": "stream",
          "name": "stderr",
          "text": [
            "/usr/local/lib/python3.7/dist-packages/transformers/trainer_tf.py:120: FutureWarning: The class `TFTrainer` is deprecated and will be removed in version 5 of Transformers. We recommend using native Keras instead, by calling methods like `fit()` and `predict()` directly on the model object. Detailed examples of the Keras style can be found in our examples at https://github.com/huggingface/transformers/tree/main/examples/tensorflow\n",
            "  FutureWarning,\n"
          ]
        }
      ]
    },
    {
      "cell_type": "code",
      "source": [
        "output=trainer.predict(test_dataset)[1]"
      ],
      "metadata": {
        "id": "6mn7QTn1dutk"
      },
      "execution_count": 8,
      "outputs": []
    },
    {
      "cell_type": "code",
      "source": [
        "confusionMatrixResult=confusion_matrix(y_Test,output)\n",
        "tn, fp, fn, tp = confusionMatrixResult.ravel()\n",
        "print(\"Confusion Matrix results:\")\n",
        "print(confusionMatrixResult)\n",
        "print(f\"Number of Correctly Predicted Fraud Emails: {tp}\")\n",
        "print(f\"Number of Falsely Predicted Fraud Emails: {fp}\")\n",
        "print(f\"Number of Correctly Predicted Legit Emails: {tn}\")\n",
        "print(f\"Number of Falsely Predicted Fraud Emails: {fn}\")"
      ],
      "metadata": {
        "colab": {
          "base_uri": "https://localhost:8080/"
        },
        "id": "-ESkN8RVY9rd",
        "outputId": "a5600e50-928b-4d33-b254-53656ac29be9"
      },
      "execution_count": 9,
      "outputs": [
        {
          "output_type": "stream",
          "name": "stdout",
          "text": [
            "Confusion Matrix results:\n",
            "[[1775    0]\n",
            " [   0 1300]]\n",
            "Number of Correctly Predicted Fraud Emails: 1300\n",
            "Number of Falsely Predicted Fraud Emails: 0\n",
            "Number of Correctly Predicted Legit Emails: 1775\n",
            "Number of Falsely Predicted Fraud Emails: 0\n"
          ]
        }
      ]
    }
  ]
}