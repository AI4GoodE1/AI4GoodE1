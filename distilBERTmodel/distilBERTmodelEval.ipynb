{
  "nbformat": 4,
  "nbformat_minor": 0,
  "metadata": {
    "colab": {
      "name": "distilBERTmodelEval.ipynb",
      "provenance": [],
      "mount_file_id": "https://github.com/AI4GoodE1/AI4GoodE1/blob/main/distilBERTmodel/distilBERTmodelEval.ipynb",
      "authorship_tag": "ABX9TyNAS1qJ1sOzXaIcM+oEUN5M",
      "include_colab_link": true
    },
    "kernelspec": {
      "name": "python3",
      "display_name": "Python 3"
    },
    "language_info": {
      "name": "python"
    },
    "accelerator": "GPU"
  },
  "cells": [
    {
      "cell_type": "markdown",
      "metadata": {
        "id": "view-in-github",
        "colab_type": "text"
      },
      "source": [
        "<a href=\"https://colab.research.google.com/github/AI4GoodE1/AI4GoodE1/blob/main/distilBERTmodel/distilBERTmodelEval.ipynb\" target=\"_parent\"><img src=\"https://colab.research.google.com/assets/colab-badge.svg\" alt=\"Open In Colab\"/></a>"
      ]
    },
    {
      "cell_type": "code",
      "execution_count": 1,
      "metadata": {
        "colab": {
          "base_uri": "https://localhost:8080/"
        },
        "id": "VbfRXHCmOk9y",
        "outputId": "e6cbc907-f12d-4ca3-8d31-f076431c40b6"
      },
      "outputs": [
        {
          "output_type": "stream",
          "name": "stdout",
          "text": [
            "Looking in indexes: https://pypi.org/simple, https://us-python.pkg.dev/colab-wheels/public/simple/\n",
            "Requirement already satisfied: transformers in /usr/local/lib/python3.7/dist-packages (4.19.2)\n",
            "Requirement already satisfied: filelock in /usr/local/lib/python3.7/dist-packages (from transformers) (3.7.0)\n",
            "Requirement already satisfied: importlib-metadata in /usr/local/lib/python3.7/dist-packages (from transformers) (4.11.4)\n",
            "Requirement already satisfied: regex!=2019.12.17 in /usr/local/lib/python3.7/dist-packages (from transformers) (2019.12.20)\n",
            "Requirement already satisfied: numpy>=1.17 in /usr/local/lib/python3.7/dist-packages (from transformers) (1.21.6)\n",
            "Requirement already satisfied: tqdm>=4.27 in /usr/local/lib/python3.7/dist-packages (from transformers) (4.64.0)\n",
            "Requirement already satisfied: packaging>=20.0 in /usr/local/lib/python3.7/dist-packages (from transformers) (21.3)\n",
            "Requirement already satisfied: huggingface-hub<1.0,>=0.1.0 in /usr/local/lib/python3.7/dist-packages (from transformers) (0.7.0)\n",
            "Requirement already satisfied: requests in /usr/local/lib/python3.7/dist-packages (from transformers) (2.23.0)\n",
            "Requirement already satisfied: pyyaml>=5.1 in /usr/local/lib/python3.7/dist-packages (from transformers) (6.0)\n",
            "Requirement already satisfied: tokenizers!=0.11.3,<0.13,>=0.11.1 in /usr/local/lib/python3.7/dist-packages (from transformers) (0.12.1)\n",
            "Requirement already satisfied: typing-extensions>=3.7.4.3 in /usr/local/lib/python3.7/dist-packages (from huggingface-hub<1.0,>=0.1.0->transformers) (4.2.0)\n",
            "Requirement already satisfied: pyparsing!=3.0.5,>=2.0.2 in /usr/local/lib/python3.7/dist-packages (from packaging>=20.0->transformers) (3.0.9)\n",
            "Requirement already satisfied: zipp>=0.5 in /usr/local/lib/python3.7/dist-packages (from importlib-metadata->transformers) (3.8.0)\n",
            "Requirement already satisfied: certifi>=2017.4.17 in /usr/local/lib/python3.7/dist-packages (from requests->transformers) (2022.5.18.1)\n",
            "Requirement already satisfied: idna<3,>=2.5 in /usr/local/lib/python3.7/dist-packages (from requests->transformers) (2.10)\n",
            "Requirement already satisfied: chardet<4,>=3.0.2 in /usr/local/lib/python3.7/dist-packages (from requests->transformers) (3.0.4)\n",
            "Requirement already satisfied: urllib3!=1.25.0,!=1.25.1,<1.26,>=1.21.1 in /usr/local/lib/python3.7/dist-packages (from requests->transformers) (1.24.3)\n"
          ]
        }
      ],
      "source": [
        "!pip install transformers\n",
        "\n",
        "#imports\n",
        "import numpy as np\n",
        "import pandas as pd\n",
        "# import torch\n",
        "import tensorflow as tf\n",
        "from sklearn.model_selection import train_test_split\n",
        "\n",
        "#transformers import\n",
        "from transformers import DistilBertTokenizerFast, DistilBertModel\n",
        "from transformers import TFDistilBertForSequenceClassification, TFTrainer, TFTrainingArguments\n",
        "from sklearn.metrics import confusion_matrix"
      ]
    },
    {
      "cell_type": "code",
      "source": [
        "model_trained = TFDistilBertForSequenceClassification.from_pretrained(\"/content/drive/Shareddrives/AI4GoodE1 - Scam Detection Project/trained_distilbert_model\")\n",
        "#model_trained = tf.keras.models.load_model(\"/content/drive/Shareddrives/AI4GoodE1 - Scam Detection Project/trained_distilbert_model/config.json\")\n"
      ],
      "metadata": {
        "colab": {
          "base_uri": "https://localhost:8080/"
        },
        "id": "93lRVfpsPEUI",
        "outputId": "29a9e9bb-7020-406d-e53e-2ce7ba56ab4f"
      },
      "execution_count": 2,
      "outputs": [
        {
          "output_type": "stream",
          "name": "stderr",
          "text": [
            "Some layers from the model checkpoint at /content/drive/Shareddrives/AI4GoodE1 - Scam Detection Project/trained_distilbert_model were not used when initializing TFDistilBertForSequenceClassification: ['dropout_39']\n",
            "- This IS expected if you are initializing TFDistilBertForSequenceClassification from the checkpoint of a model trained on another task or with another architecture (e.g. initializing a BertForSequenceClassification model from a BertForPreTraining model).\n",
            "- This IS NOT expected if you are initializing TFDistilBertForSequenceClassification from the checkpoint of a model that you expect to be exactly identical (initializing a BertForSequenceClassification model from a BertForSequenceClassification model).\n",
            "Some layers of TFDistilBertForSequenceClassification were not initialized from the model checkpoint at /content/drive/Shareddrives/AI4GoodE1 - Scam Detection Project/trained_distilbert_model and are newly initialized: ['dropout_19']\n",
            "You should probably TRAIN this model on a down-stream task to be able to use it for predictions and inference.\n"
          ]
        }
      ]
    },
    {
      "cell_type": "code",
      "source": [
        "tokenizer = DistilBertTokenizerFast.from_pretrained('distilbert-base-uncased')"
      ],
      "metadata": {
        "id": "9147aGzQUvTB"
      },
      "execution_count": 3,
      "outputs": []
    },
    {
      "cell_type": "code",
      "source": [
        "# test_email1 = \"Hi team, let’s use my webex for our meeting at 3:15 again. Here is the link: https://rbcteams.webex.com/meet/test.test Thanks\"\n",
        "# test_email1 = tokenizer(test_email1, truncation=True, padding=True, return_tensors=\"tf\")\n",
        "# print(test_email1)\n",
        "# output = model_trained(test_email1)\n",
        "# print(output.loss)\n",
        "# print(f\"trained: {output.logits}\")"
      ],
      "metadata": {
        "id": "QypBA7m2U_5P"
      },
      "execution_count": 4,
      "outputs": []
    },
    {
      "cell_type": "code",
      "source": [
        "# Get data\n",
        "df = pd.read_csv('https://raw.githubusercontent.com/AI4GoodE1/AI4GoodE1/main/fraud_email_preprocessed.csv')\n",
        "X = list(df['Text'])\n",
        "y = list(df['Class'])\n",
        "X_Train, X_Test, y_Train, y_Test = train_test_split(X,y,test_size=0.3,random_state=0)\n",
        "# train_encodings = tokenizer(X_Train, truncation=True, padding=True) #, return_tensors=\"tf\")\n",
        "# test_encodings = tokenizer(X_Test, truncation=True, padding=True) #, return_tensors=\"tf\")\n",
        "\n",
        "# train_dataset = tf.data.Dataset.from_tensor_slices((\n",
        "#     dict(train_encodings),\n",
        "#     y_Train\n",
        "# ))\n",
        "\n",
        "# test_dataset = tf.data.Dataset.from_tensor_slices((\n",
        "#     dict(test_encodings),\n",
        "#     y_Test\n",
        "# ))"
      ],
      "metadata": {
        "id": "LJkuFo0ZXryC"
      },
      "execution_count": 5,
      "outputs": []
    },
    {
      "cell_type": "code",
      "source": [
        "# # setting most of these features to one further reduces runtime\n",
        "# training_args = TFTrainingArguments(\n",
        "#     output_dir='./results',          # output directory\n",
        "#     num_train_epochs=3,              # total number of training epochs\n",
        "#     per_device_train_batch_size=4,   # batch size per device during training\n",
        "#     per_device_eval_batch_size=8,    # batch size for evaluation\n",
        "#     warmup_steps=0,                # number of warmup steps for learning rate scheduler\n",
        "#     weight_decay=0.01,               # strength of weight decay\n",
        "#     logging_dir='./logs',            # directory for storing logs\n",
        "#     logging_steps=10,\n",
        "#     eval_steps = 10\n",
        "# )\n",
        "\n",
        "# with training_args.strategy.scope():\n",
        "#     model = model_trained\n",
        "\n",
        "# trainer = TFTrainer(\n",
        "#     model=model,                         # the instantiated 🤗 Transformers model to be trained\n",
        "#     args=training_args,                  # training arguments, defined above\n",
        "#     train_dataset=train_dataset,         # training dataset\n",
        "#     eval_dataset=test_dataset            # evaluation dataset\n",
        "# )"
      ],
      "metadata": {
        "id": "wx77MHBuc2Vv"
      },
      "execution_count": 6,
      "outputs": []
    },
    {
      "cell_type": "code",
      "source": [
        "# output=trainer.predict(test_dataset)[1]"
      ],
      "metadata": {
        "id": "6mn7QTn1dutk"
      },
      "execution_count": 7,
      "outputs": []
    },
    {
      "cell_type": "code",
      "source": [
        "# confusionMatrixResult=confusion_matrix(y_Test,output)\n",
        "# tn, fp, fn, tp = confusionMatrixResult.ravel()\n",
        "# print(\"Confusion Matrix results:\")\n",
        "# print(confusionMatrixResult)\n",
        "# print(f\"Number of Correctly Predicted Fraud Emails: {tp}\")\n",
        "# print(f\"Number of Falsely Predicted Fraud Emails: {fp}\")\n",
        "# print(f\"Number of Correctly Predicted Legit Emails: {tn}\")\n",
        "# print(f\"Number of Falsely Predicted Fraud Emails: {fn}\")"
      ],
      "metadata": {
        "id": "-ESkN8RVY9rd"
      },
      "execution_count": 8,
      "outputs": []
    },
    {
      "cell_type": "code",
      "source": [
        "model_untrained = TFDistilBertForSequenceClassification.from_pretrained(\"distilbert-base-uncased\")\n",
        "\n",
        "# training_args = TFTrainingArguments(\n",
        "#     output_dir='./results',          # output directory\n",
        "#     num_train_epochs=3,              # total number of training epochs\n",
        "#     per_device_train_batch_size=4,   # batch size per device during training\n",
        "#     per_device_eval_batch_size=8,    # batch size for evaluation\n",
        "#     warmup_steps=0,                # number of warmup steps for learning rate scheduler\n",
        "#     weight_decay=0.01,               # strength of weight decay\n",
        "#     logging_dir='./logs',            # directory for storing logs\n",
        "#     logging_steps=10,\n",
        "#     eval_steps = 10\n",
        "# )\n",
        "\n",
        "# with training_args.strategy.scope():\n",
        "#     model = model_untrained\n",
        "\n",
        "# untrained_trainer = TFTrainer(\n",
        "#     model=model,                         # the instantiated 🤗 Transformers model to be trained\n",
        "#     args=training_args,                  # training arguments, defined above\n",
        "#     train_dataset=train_dataset,         # training dataset\n",
        "#     eval_dataset=test_dataset            # evaluation dataset\n",
        "# )\n",
        "\n",
        "\n",
        "# untrained_output = untrained_trainer.predict(test_dataset)[1]\n",
        "\n",
        "# untrained_confusionMatrixResult = confusion_matrix(y_Test,untrained_output)\n",
        "# utn, ufp, ufn, utp = untrained_confusionMatrixResult.ravel()\n",
        "# print(\"Untrained Model Confusion Matrix results:\")\n",
        "# print(untrained_confusionMatrixResult)\n",
        "# print(f\"Number of Correctly Predicted Fraud Emails: {utp}\")\n",
        "# print(f\"Number of Falsely Predicted Fraud Emails: {ufp}\")\n",
        "# print(f\"Number of Correctly Predicted Legit Emails: {utn}\")\n",
        "# print(f\"Number of Falsely Predicted Fraud Emails: {ufn}\")"
      ],
      "metadata": {
        "colab": {
          "base_uri": "https://localhost:8080/"
        },
        "id": "kPUexc5l8c9P",
        "outputId": "2df99d04-e9f6-42c8-8d9e-d404e8d820ef"
      },
      "execution_count": 9,
      "outputs": [
        {
          "output_type": "stream",
          "name": "stderr",
          "text": [
            "Some layers from the model checkpoint at distilbert-base-uncased were not used when initializing TFDistilBertForSequenceClassification: ['activation_13', 'vocab_projector', 'vocab_layer_norm', 'vocab_transform']\n",
            "- This IS expected if you are initializing TFDistilBertForSequenceClassification from the checkpoint of a model trained on another task or with another architecture (e.g. initializing a BertForSequenceClassification model from a BertForPreTraining model).\n",
            "- This IS NOT expected if you are initializing TFDistilBertForSequenceClassification from the checkpoint of a model that you expect to be exactly identical (initializing a BertForSequenceClassification model from a BertForSequenceClassification model).\n",
            "Some layers of TFDistilBertForSequenceClassification were not initialized from the model checkpoint at distilbert-base-uncased and are newly initialized: ['dropout_39', 'pre_classifier', 'classifier']\n",
            "You should probably TRAIN this model on a down-stream task to be able to use it for predictions and inference.\n"
          ]
        }
      ]
    },
    {
      "cell_type": "code",
      "source": [
        "# print(untrained_output==y_Test)\n",
        "# print(np.array_equiv(untrained_output, y_Test))"
      ],
      "metadata": {
        "id": "7vQxsbS6VmHN"
      },
      "execution_count": 10,
      "outputs": []
    },
    {
      "cell_type": "code",
      "source": [
        "# test_batch_size = int(len(y_Test)/2000)\n",
        "# test_email1 = \"Hi team, let’s use my webex for our meeting at 3:15 again. Here is the link: https://rbcteams.webex.com/meet/test.test Thanks\"\n",
        "# test_email1 = tokenizer(test_email1, truncation=True, padding=True, return_tensors=\"tf\")\n",
        "# print(type(test_email1))\n",
        "\n",
        "# output = model_untrained(test_email1)\n",
        "# prediction = np.argmax(output.logits)\n",
        "# print(f\"untrained: {output.logits}\")\n",
        "# print(output.logits.numpy())\n",
        "# print(f\"class indicated by max pred val: {prediction}\")\n",
        "\n",
        "# print(type(convert_test_encodings[0]))\n",
        "\n",
        "# print(test_encodings[0].ids)\n",
        "\n",
        "untrained_pred_array = []\n",
        "for x in range(len(X_Test)):\n",
        "  test_tokens = tokenizer(X_Test[x], truncation=True, padding=True, return_tensors=\"tf\")\n",
        "  output = model_untrained(test_tokens)\n",
        "  prediction = np.argmax(output.logits)\n",
        "  untrained_pred_array.append(prediction)\n",
        "  # print(f\"untrained: {output.logits}\")\n",
        "  # print(f\"class indicated by max pred val: {prediction}\")\n",
        "print(\"done processing dataset with untrained model\")"
      ],
      "metadata": {
        "colab": {
          "base_uri": "https://localhost:8080/"
        },
        "id": "-2QzmvKAWShz",
        "outputId": "a3ca9094-a8cb-4650-e5be-1441bdf701b3"
      },
      "execution_count": 11,
      "outputs": [
        {
          "output_type": "stream",
          "name": "stdout",
          "text": [
            "done processing dataset with untrained model\n"
          ]
        }
      ]
    },
    {
      "cell_type": "code",
      "source": [
        "print(\"Evaluating Untrained Model:\")\n",
        "print(f\"Does the total number of predicted emails equal the original amount in the dataset? {len(untrained_pred_array)==len(y_Test)}\")\n",
        "print(f\"Is the untrained pred array the same as the test data: {np.array_equiv(untrained_pred_array, y_Test)}\")\n",
        "\n",
        "true_pos = 0\n",
        "false_pos = 0\n",
        "true_neg = 0\n",
        "false_neg = 0\n",
        "\n",
        "for i in range(len(y_Test)):\n",
        "  if y_Test[i] == untrained_pred_array[i]:\n",
        "    if untrained_pred_array[i] == 0:\n",
        "      true_neg += 1\n",
        "    else:\n",
        "      true_pos += 1\n",
        "  else:\n",
        "    if untrained_pred_array[i] == 0:\n",
        "      false_neg += 1\n",
        "    else:\n",
        "      false_pos += 1\n",
        "print(\"done counting true/false pos/neg vals\")\n",
        "\n",
        "sum_check = true_pos + false_pos + true_neg + false_neg\n",
        "print(f\"Does the total number of counted emails equal the original amount in the dataset? {sum_check==len(y_Test)}\")\n",
        "\n",
        "print(f\"Untrained Model Confusion Matrix results (out of {sum_check} emails):\")\n",
        "print(f\"Number of Correctly Predicted Fraud Emails: {true_pos}\")\n",
        "print(f\"Number of Falsely Predicted Fraud Emails: {false_pos}\")\n",
        "print(f\"Number of Correctly Predicted Legit Emails: {true_neg}\")\n",
        "print(f\"Number of Falsely Predicted Legit Emails: {false_neg}\")\n",
        "\n",
        "accuracy_check = ((true_pos + true_neg) / sum_check) * 100\n",
        "print(f\"Untrained model accurracy: {accuracy_check}%\")"
      ],
      "metadata": {
        "colab": {
          "base_uri": "https://localhost:8080/"
        },
        "id": "qIZ-nOhjERNb",
        "outputId": "4cd53d5e-8c78-4892-a9f6-56f66f721bcb"
      },
      "execution_count": 12,
      "outputs": [
        {
          "output_type": "stream",
          "name": "stdout",
          "text": [
            "Evaluating Untrained Model:\n",
            "Does the total number of predicted emails equal the original amount in the dataset? True\n",
            "Is the untrained pred array the same as the test data: False\n",
            "done counting true/false pos/neg vals\n",
            "Does the total number of counted emails equal the original amount in the dataset? True\n",
            "Untrained Model Confusion Matrix results (out of 3075 emails):\n",
            "Number of Correctly Predicted Fraud Emails: 8\n",
            "Number of Falsely Predicted Fraud Emails: 30\n",
            "Number of Correctly Predicted Legit Emails: 1745\n",
            "Number of Falsely Predicted Legit Emails: 1292\n",
            "Untrained model accurracy: 57.00813008130081%\n"
          ]
        }
      ]
    },
    {
      "cell_type": "code",
      "source": [
        "trained_pred_array = []\n",
        "for x in range(len(X_Test)):\n",
        "  test_tokens = tokenizer(X_Test[x], truncation=True, padding=True, return_tensors=\"tf\")\n",
        "  output = model_trained(test_tokens)\n",
        "  prediction = np.argmax(output.logits)\n",
        "  trained_pred_array.append(prediction)\n",
        "  # print(f\"untrained: {output.logits}\")\n",
        "  # print(f\"class indicated by max pred val: {prediction}\")\n",
        "print(\"done processing dataset with trained model\")"
      ],
      "metadata": {
        "colab": {
          "base_uri": "https://localhost:8080/"
        },
        "id": "QRz-u3fyL4cv",
        "outputId": "ef01602d-a89c-4294-f17c-aa25b5121fdb"
      },
      "execution_count": 13,
      "outputs": [
        {
          "output_type": "stream",
          "name": "stdout",
          "text": [
            "done processing dataset with trained model\n"
          ]
        }
      ]
    },
    {
      "cell_type": "code",
      "source": [
        "print(\"Evaluating Trained Model:\")\n",
        "print(f\"Does the total number of predicted emails equal the original amount in the dataset? {len(trained_pred_array)==len(y_Test)}\")\n",
        "print(f\"Is the untrained pred array the same as the test data: {np.array_equiv(trained_pred_array, y_Test)}\")\n",
        "\n",
        "true_pos = 0\n",
        "false_pos = 0\n",
        "true_neg = 0\n",
        "false_neg = 0\n",
        "\n",
        "for i in range(len(y_Test)):\n",
        "  if y_Test[i] == trained_pred_array[i]:\n",
        "    if trained_pred_array[i] == 0:\n",
        "      true_neg += 1\n",
        "    else:\n",
        "      true_pos += 1\n",
        "  else:\n",
        "    if trained_pred_array[i] == 0:\n",
        "      false_neg += 1\n",
        "    else:\n",
        "      false_pos += 1\n",
        "print(\"done counting true/false pos/neg vals\")\n",
        "\n",
        "sum_check = true_pos + false_pos + true_neg + false_neg\n",
        "print(f\"Does the total number of counted emails equal the original amount in the dataset? {sum_check==len(y_Test)}\")\n",
        "\n",
        "print(f\"Trained Model Confusion Matrix results (out of {sum_check} emails):\")\n",
        "print(f\"Number of Correctly Predicted Fraud Emails: {true_pos}\")\n",
        "print(f\"Number of Falsely Predicted Fraud Emails: {false_pos}\")\n",
        "print(f\"Number of Correctly Predicted Legit Emails: {true_neg}\")\n",
        "print(f\"Number of Falsely Predicted Legit Emails: {false_neg}\")\n",
        "\n",
        "accuracy_check = ((true_pos + true_neg) / sum_check) * 100\n",
        "print(f\"Trained model accurracy: {accuracy_check}%\")"
      ],
      "metadata": {
        "colab": {
          "base_uri": "https://localhost:8080/"
        },
        "id": "lxJIOf1MN-tA",
        "outputId": "a7efd57b-16e0-414d-ae1f-ff93c13aab15"
      },
      "execution_count": 14,
      "outputs": [
        {
          "output_type": "stream",
          "name": "stdout",
          "text": [
            "Evaluating Trained Model:\n",
            "Does the total number of predicted emails equal the original amount in the dataset? True\n",
            "Is the untrained pred array the same as the test data: False\n",
            "done counting true/false pos/neg vals\n",
            "Does the total number of counted emails equal the original amount in the dataset? True\n",
            "Trained Model Confusion Matrix results (out of 3075 emails):\n",
            "Number of Correctly Predicted Fraud Emails: 1299\n",
            "Number of Falsely Predicted Fraud Emails: 8\n",
            "Number of Correctly Predicted Legit Emails: 1767\n",
            "Number of Falsely Predicted Legit Emails: 1\n",
            "Trained model accurracy: 99.70731707317073%\n"
          ]
        }
      ]
    }
  ]
}