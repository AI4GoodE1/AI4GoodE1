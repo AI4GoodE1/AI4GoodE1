{
 "cells": [
  {
   "cell_type": "code",
   "execution_count": 2,
   "metadata": {},
   "outputs": [],
   "source": [
    "#imports\n",
    "import numpy as np\n",
    "import pandas as pd\n",
    "# Libraries needed for NLP\n",
    "import nltk\n",
    "from nltk.corpus import stopwords\n",
    "from nltk.stem import WordNetLemmatizer\n",
    "import re\n"
   ]
  },
  {
   "cell_type": "code",
   "execution_count": 3,
   "metadata": {},
   "outputs": [],
   "source": [
    "email_df = df = pd.read_csv('fraud_email_cleaned_no_dups.csv')\n",
    "sms_df = pd.read_csv('dataset/sms_cleaned_no_dups.csv')"
   ]
  },
  {
   "cell_type": "code",
   "execution_count": 4,
   "metadata": {},
   "outputs": [
    {
     "name": "stdout",
     "output_type": "stream",
     "text": [
      "email: 10249\n",
      "sms: 5171\n"
     ]
    }
   ],
   "source": [
    "#check len\n",
    "print(\"email:\",len(email_df))\n",
    "print(\"sms:\",len(sms_df))"
   ]
  },
  {
   "cell_type": "code",
   "execution_count": 5,
   "metadata": {},
   "outputs": [
    {
     "data": {
      "text/plain": [
       "15420"
      ]
     },
     "execution_count": 5,
     "metadata": {},
     "output_type": "execute_result"
    }
   ],
   "source": [
    "merged_df = pd.merge(email_df,sms_df, how='outer')\n",
    "len(merged_df)"
   ]
  },
  {
   "cell_type": "code",
   "execution_count": 6,
   "metadata": {},
   "outputs": [
    {
     "data": {
      "text/html": [
       "<div>\n",
       "<style scoped>\n",
       "    .dataframe tbody tr th:only-of-type {\n",
       "        vertical-align: middle;\n",
       "    }\n",
       "\n",
       "    .dataframe tbody tr th {\n",
       "        vertical-align: top;\n",
       "    }\n",
       "\n",
       "    .dataframe thead th {\n",
       "        text-align: right;\n",
       "    }\n",
       "</style>\n",
       "<table border=\"1\" class=\"dataframe\">\n",
       "  <thead>\n",
       "    <tr style=\"text-align: right;\">\n",
       "      <th></th>\n",
       "      <th>Text</th>\n",
       "      <th>Class</th>\n",
       "    </tr>\n",
       "  </thead>\n",
       "  <tbody>\n",
       "  </tbody>\n",
       "</table>\n",
       "</div>"
      ],
      "text/plain": [
       "Empty DataFrame\n",
       "Columns: [Text, Class]\n",
       "Index: []"
      ]
     },
     "execution_count": 6,
     "metadata": {},
     "output_type": "execute_result"
    }
   ],
   "source": [
    "# Check for NaN values in data\n",
    "df1 = merged_df[merged_df.isna().any(axis=1)]\n",
    "df1"
   ]
  },
  {
   "cell_type": "code",
   "execution_count": 7,
   "metadata": {},
   "outputs": [
    {
     "name": "stdout",
     "output_type": "stream",
     "text": [
      "Total: 15420\n",
      "Unique: 15420\n"
     ]
    }
   ],
   "source": [
    "# Check for duplicates in data\n",
    "print(\"Total: \" + str(len(merged_df)))\n",
    "print(\"Unique: \" + str(merged_df[\"Text\"].nunique()))"
   ]
  },
  {
   "cell_type": "code",
   "execution_count": 8,
   "metadata": {},
   "outputs": [],
   "source": [
    "# Export cleaned dataset to csv\n",
    "merged_df.to_csv('dataset/merged_dataset_cleaned.csv', index = False)"
   ]
  },
  {
   "cell_type": "markdown",
   "metadata": {},
   "source": [
    "Pre-process"
   ]
  },
  {
   "cell_type": "code",
   "execution_count": 9,
   "metadata": {},
   "outputs": [
    {
     "name": "stderr",
     "output_type": "stream",
     "text": [
      "[nltk_data] Downloading package stopwords to\n",
      "[nltk_data]     C:\\Users\\shane\\AppData\\Roaming\\nltk_data...\n",
      "[nltk_data]   Package stopwords is already up-to-date!\n",
      "[nltk_data] Downloading package punkt to\n",
      "[nltk_data]     C:\\Users\\shane\\AppData\\Roaming\\nltk_data...\n",
      "[nltk_data]   Package punkt is already up-to-date!\n",
      "[nltk_data] Downloading package wordnet to\n",
      "[nltk_data]     C:\\Users\\shane\\AppData\\Roaming\\nltk_data...\n",
      "[nltk_data]   Package wordnet is already up-to-date!\n",
      "[nltk_data] Downloading package omw-1.4 to\n",
      "[nltk_data]     C:\\Users\\shane\\AppData\\Roaming\\nltk_data...\n",
      "[nltk_data]   Package omw-1.4 is already up-to-date!\n",
      "C:\\Users\\shane\\AppData\\Local\\Temp\\ipykernel_31728\\297871604.py:11: FutureWarning: The default value of regex will change from True to False in a future version.\n",
      "  df['Text'] = df['Text'].str.replace(r'(<?)([A-Za-z0-9.]{1,30})@([A-Za-z0-9.]{1,30}).([a-z]{2,3})(>?)', 'emailaddress')\n",
      "C:\\Users\\shane\\AppData\\Local\\Temp\\ipykernel_31728\\297871604.py:14: FutureWarning: The default value of regex will change from True to False in a future version.\n",
      "  df['Text'] = df['Text'].str.replace(r\"(https?:)(.?)(([^\\s]+)|$)|(www.)(.?)(([^\\s]+)|$)|(news.)(.*?)(([^\\s]+)|$)\", 'webaddress')\n",
      "C:\\Users\\shane\\AppData\\Local\\Temp\\ipykernel_31728\\297871604.py:17: FutureWarning: The default value of regex will change from True to False in a future version.\n",
      "  df['Text'] = df['Text'].str.replace(r'^\\(?[\\d]{3}\\)?[\\s-]?[\\d]{3}[\\s-]?[\\d]{4}$', 'phone-number')\n",
      "C:\\Users\\shane\\AppData\\Local\\Temp\\ipykernel_31728\\297871604.py:20: FutureWarning: The default value of regex will change from True to False in a future version.\n",
      "  df['Text'] = df['Text'].str.replace(r'\\d+(\\.\\d+)?', 'number')\n",
      "C:\\Users\\shane\\AppData\\Local\\Temp\\ipykernel_31728\\297871604.py:23: FutureWarning: The default value of regex will change from True to False in a future version.\n",
      "  df['Text'] = df['Text'].str.replace(r'(qzsoft)(\\S+)', ' qzsoft')\n",
      "C:\\Users\\shane\\AppData\\Local\\Temp\\ipykernel_31728\\297871604.py:26: FutureWarning: The default value of regex will change from True to False in a future version.\n",
      "  df['Text'] = df['Text'].str.replace(r'([\\S]{250,})', 'brokenmime')\n",
      "C:\\Users\\shane\\AppData\\Local\\Temp\\ipykernel_31728\\297871604.py:29: FutureWarning: The default value of regex will change from True to False in a future version.\n",
      "  df['Text'] = df['Text'].str.replace(r'\\s+', ' ')\n",
      "C:\\Users\\shane\\AppData\\Local\\Temp\\ipykernel_31728\\297871604.py:32: FutureWarning: The default value of regex will change from True to False in a future version.\n",
      "  df['Text'] = df['Text'].str.replace(r'^\\s+|\\s*?$', ' ')\n",
      "C:\\Users\\shane\\AppData\\Local\\Temp\\ipykernel_31728\\297871604.py:35: FutureWarning: The default value of regex will change from True to False in a future version.\n",
      "  df['Text'] = df['Text'].str.replace(r\"<(\\\"[^\\\"]*\\\"|'[^']*'|[^'\\\">])*>\", ' formatting ')\n",
      "C:\\Users\\shane\\AppData\\Local\\Temp\\ipykernel_31728\\297871604.py:36: FutureWarning: The default value of regex will change from True to False in a future version.\n",
      "  df['Text'] = df['Text'].str.replace(r\"(&nbsp;)\", ' formatting ')\n",
      "C:\\Users\\shane\\AppData\\Local\\Temp\\ipykernel_31728\\297871604.py:38: FutureWarning: The default value of regex will change from True to False in a future version.\n",
      "  df['Text'] = df['Text'].str.replace(r\"[_]{1,}\", 'blankLines')\n",
      "C:\\Users\\shane\\AppData\\Local\\Temp\\ipykernel_31728\\297871604.py:41: FutureWarning: The default value of regex will change from True to False in a future version.\n",
      "  df['Text'] = df['Text'].str.replace(r'[^\\w\\d\\s]', ' ')\n"
     ]
    }
   ],
   "source": [
    "# Stopwords\n",
    "nltk.download('stopwords')\n",
    "nltk.download('punkt')\n",
    "stop_words = set(stopwords.words('english'))\n",
    "# Lemmatizer\n",
    "nltk.download('wordnet')\n",
    "nltk.download('omw-1.4')\n",
    "lemmatizer = WordNetLemmatizer()# Cleanup\n",
    "\n",
    "# replace email address with 'emailaddress'\n",
    "df['Text'] = df['Text'].str.replace(r'(<?)([A-Za-z0-9.]{1,30})@([A-Za-z0-9.]{1,30}).([a-z]{2,3})(>?)', 'emailaddress')\n",
    "\n",
    "# replace urls with 'webaddress'\n",
    "df['Text'] = df['Text'].str.replace(r\"(https?:)(.?)(([^\\s]+)|$)|(www.)(.?)(([^\\s]+)|$)|(news.)(.*?)(([^\\s]+)|$)\", 'webaddress')\n",
    "\n",
    "# replace 10 digit phone number with 'phone-number'\n",
    "df['Text'] = df['Text'].str.replace(r'^\\(?[\\d]{3}\\)?[\\s-]?[\\d]{3}[\\s-]?[\\d]{4}$', 'phone-number')\n",
    "\n",
    "# replace normal number with 'number'\n",
    "df['Text'] = df['Text'].str.replace(r'\\d+(\\.\\d+)?', 'number')\n",
    "\n",
    "# replace qzsoft strings\n",
    "df['Text'] = df['Text'].str.replace(r'(qzsoft)(\\S+)', ' qzsoft')\n",
    "\n",
    "# replace broken MIME\n",
    "df['Text'] = df['Text'].str.replace(r'([\\S]{250,})', 'brokenmime')\n",
    "\n",
    "# remove whitespace between terms with single space\n",
    "df['Text'] = df['Text'].str.replace(r'\\s+', ' ')\n",
    "\n",
    "# remove leading and trailing whitespace\n",
    "df['Text'] = df['Text'].str.replace(r'^\\s+|\\s*?$', ' ')\n",
    "\n",
    "# # replace html tags with 'format'\n",
    "df['Text'] = df['Text'].str.replace(r\"<(\\\"[^\\\"]*\\\"|'[^']*'|[^'\\\">])*>\", ' formatting ')\n",
    "df['Text'] = df['Text'].str.replace(r\"(&nbsp;)\", ' formatting ')\n",
    "\n",
    "df['Text'] = df['Text'].str.replace(r\"[_]{1,}\", 'blankLines')\n",
    "\n",
    "# remove punctuation\n",
    "df['Text'] = df['Text'].str.replace(r'[^\\w\\d\\s]', ' ')\n",
    "\n",
    "# change words to lower case\n",
    "df['Text'] = df['Text'].str.lower()"
   ]
  },
  {
   "cell_type": "code",
   "execution_count": null,
   "metadata": {},
   "outputs": [],
   "source": [
    "# Applying English Stopwords\n",
    "df['Text'] = df['Text'].apply(lambda x: ' '.join(term for term in x.split() if term not in stop_words))\n",
    "# Applying Wordnet Lemmatizer\n",
    "df['Text'] = df['Text'].apply(lambda x: ' '.join(lemmatizer.lemmatize(term) for term in x.split()))"
   ]
  },
  {
   "cell_type": "code",
   "execution_count": 10,
   "metadata": {},
   "outputs": [
    {
     "name": "stdout",
     "output_type": "stream",
     "text": [
      "ransfer of   number number number usd eight million five hundred thousand dollars i  want to transfer to overseas the sum of   number numberusd  eight million f ive hundred thousand united states dollars  from a prime bank in africa  i  would like to ask you to quietly look for a reliable and honest person who  will be capable and fit to provide either an existing bank account or to se t up a new bank a c immediately to receive this money  even an empty a c c an serve as far as it can receive money  i am dr ahmed shalaa  an accountan t and personal confidant to mr robert rice who died together with his wife  in a plane crash on the october numberst number on their way to attendwedding in  boston  he is an american  a physician andindustrialist  he died without ha ving anybeneficiary to his assets including his account here in burkina fas o which he opened as his personal savings for the purpose of expansion and  developement of his company before his untimely death in number  the amount i nvolved is   number numberusd  eight million five hundred thousand united st ates dollars   no other person knows about this account  i am contacting yo u for us to transfer this funds to your account as the beneficiary  i want  to transfer the whole  number number number  eight million five hundred thousand us d  into a safe account abroad  but i don t know any foreigner  i am only c ontacting you as a foreigner because this money can not be approved to a lo cal person here  without valid international foreign passport  but can only  be approved to any foreigner with valid international passport or drivers  license and foreign a c because the money is in us dollars and the former o wner of the a c mr robert rice is aforeigner too  and as such the money can  only be approved into a foreign a c  i need your full co operation to make  this work fine because the management is ready to approve this payment to  any foreigner who has correct information of this account  which i will giv e to you  upon your positive response and once i am convinced that you are  capable and will meet up with the inheritance procedures  at the conclusion  of this business  you will be given number  of the total amount number  will be fo r me  while number  will be for expenses both parties might have incurred during  the process of transferring  you should observe utmost confidentiality and  secrecy in this transaction  and rest assured that this transaction would  be most profitable for both of us because i will require your assistance to  invest my share in your country  sincerely dr ahmed shalaa blanklineswith windows live hotmail  you can personalize your inbox with your favorit e color webaddress \n",
      "1\n",
      "-----------------------------------------------------------\n",
      "\n",
      "from the desk of dr ali ibrahim bill and exchange manager african development bank  adb annex ouagadougou  burkina faso in west africa private confidential number e mail drblanklines aliblanklinesemailaddress sir i am the manager of bill and exchange at the foreign remittance department of african development bank adb   i am writing following the impressive information about you through one of my friends who runs a consultancy firm in my country  he assured me of your capability and reliability to champion this businees opportunity in my department we discovered an abandoned sum of   numberm us dollars   thirty million us dollars    in an account that belongs to one of our foreign customer who died along with his entire family in november number in a plane crash since we got information about his death  we have been expecting his next of kin to come over and claim his money because we cannot release it unless somebody applies for it as next of kin or relation to the deceased as indicated in our banking guidelines but unfortunately we learnt that all his supposed next of kin or relation died alongside with him at the plane crash leaving nobody behind for the claim  it is therefore upon this discovery that i and other officials in my department now decided to make this businness proposal to you and release the money to you as the next of kin or relation to the deceased for safety and subsequent disbursement since nobody is coming for it and we dont want this money to go into the bank treasury as unclaimed bill the banking law and guideline here stipulates that if such money remained unclamed after six years  the money will be transfered into the bank treasury as unclaimed fund the request of foreigner as next of kin in this business is occasioned by the fact that the customer was a foreigner and a burkinabe cannot stand as next of kin to a foreigner we agree that number   of this money will be for you as foreign partner  inrespect to the provision of a foreign account  number   will be set aside for expenses incured during the business and number   would be for  me and my colleagues  there after i and my colleagues will visit your country for disbursement accoding to the percentages indicated therefore to enable the immediate trnansfer of this fund to you as arranged  you must apply first to the bank as relations or next of kin of the deceased indicating your bank name  your bank account number  your private telephone and fax number for easy and effective communication and location where in the money will be remitted  upon receipt of your reply  i will send to you by fax or email the text of the application  i will not fail to bring to your notice that this transaction is hitch free and that you should not entertain any atom of fear as all required arrangements have been made for the transfer  you should contact me immediately as soon as you receive this letter trusting to hear from you immediately yours faithfully dr ali ibrahim bill and exchange manager african development bank adb  blanklinesexpress yourself instantly with msn messenger  download today it s free  webaddress \n",
      "1\n",
      "-----------------------------------------------------------\n",
      "\n",
      "cheryl and i discussed how to do an effective strategy session  monday early afternoon is the first clear shot we have atgetting the right group of people in the room together for an extended period of time we propose to start the discussion from the following premise  we ve addressed in one fashion or another to onedegree of satisfaction or another most of the major items we set out at the beginning of last near  we ve moved theneedle but we haven t changed the game  now the question is what are the major milestones over the next number numbermonths  what should we be aiming at  and especially what are some potential game changers   moves that wouldshift the global landscape in meaningful and long lasting ways everything will be on the table   regional issues transnational issues etc  everyone should read the book of look aheadpapers  identify things they think we should pursue  and add ideas   especially creative and far reaching ideas   on topof what s contained in them we propose the following roster jimjackbillamsderekcdmjakerichkurtjudithharoldlet us know what you think jake \n",
      "0\n",
      "-----------------------------------------------------------\n",
      "\n",
      "sbwhoeopmonday november number number number number pmhfyi  when you have a chance re  what wm  hague told you relevant undercurrent toeu debate  sidfrsorn the timesnovember number numberi suggest a night at the theatre mr camerona sop to the party s europhobes has left the conservative leader defending the indefensible  he should beashameddavid aaronovitchon friday morning david cameron called upon david miliband to apologise  on friday evening i went to see a play  theplay was our class by the polish playwright tadeusz slobodzianek in a series of short  chapters  slobodzianek followed a group of classmates in a small polish village from number to number like the village the class was half catholic and half jewish  in number as the germans replaced the russians as theoccupiers almost all the jews of the area were murdered in a single day  slobodzianek shows what led up to themassacre and what happened afterwards  it is unbearable though the village is not named in the play it is based on real events that took place at jedwabne on july number number  aspoland s institute of national memory concluded in number on that day number number jewish men were forced to parade around thetown singing songs and were then led to a barn on the outskirts where one by one they were killed with knives axesand cleavers and then thrown in a pit  then number or more women and children were led from the town square to the barnand locked inside  kerosene was poured over the roof and walls and set alight  the screams could be heard from twokilometres away  no one survived in number it was finally acknowledged what many people had known all along  the murderers hadn t been germans butlocal poles as depicted in our class  alexander kwasniewski then the polish president apologised to the dead jewsand their survivors at a ceremony in jedwabne  in my own name and in the name of those poles whose conscience isshattered by that crime  history matters  few believe that as much as the law and justice party of michel kaminski who leads the tory backedgroup in the european parliament  the party s leaders have demanded apologies from the russians for the massacre ofnumber polish officers at katyn in number and their references to terrible polish historical suffering have constituted a bigpart of their political appeal but despite his historical sensitivity mr kaminski the mep for the jedwabne area did not support the number apology  heopposed it vigorously associating himself with the  committee to defend the  good name of jedwabne   among itsleading members were the local priest edward orlowski who   asked by journalists whether he would be attending theceremony at which the president apologised   said   these are all lies  it is not my business  germans are responsibleso why should we apologise  mr kaminski developed a slightly different rationale  as he told an interviewer for a far right webaddress our poland themurders   which he abhorred   were the work of a few outcasts and that he would only apologise if someone  from thejewish side  apologised for how  the jews  behaved during the soviet occupation from number to number  last month mrkaminski  who had denied giving the interview  confirmed this position   if you are asking the polish nation to apologisefor the crime made in jedwabne  he said  you would require the whole jewish nation to apologise for what some jewishcommunists did in eastern poland  it is this argument that so incenses me as it would anyone i think who had sat through our class  the idea of collectivejewish bolshevism was a major anti semitic trope before the war  it was a major element of self justification after it mr kaminski denied the apology denied the need for it equated the massacre to  jewish actions  and allied himself withthose who denied the massacre altogether fulfilling the historian pierre vidal naquet s observation about patterns ofmassacre denial   it never happened it happened but was justified they did it to themselves they did it to us   mrkaminski s view was described as disgraceful by mr miiiband  having read an enormous amount on jedwabne in the lastfew weeks i think mr miliband is completely right   it is disgraceful  and as he might well demand of mr cameron   ishould apologise  but more than that i find myself amazed by how mr cameron ever came to be in the position of demanding that a foreignsecretary descended from polish jews should apologise for possibly offending the sensibilities of a foreign politician whovehemently opposed there being an apology for the massacre of polish jews  i think of all the things that mr cameron hasgot right in his leadership of the  conservatve party and my mental jaw drops at the sheer wrongness of it now tory columnists bioggers and activists are devoting their time to nitpicking sophistry about the nature of collectiveguilt and to attacking non existent  smears  that they say have been attached to the unlovely person of mr kaminski why it is true as embattled conservatives have argued that many of the grand european coalitions contain people whosehistory is problematic  there are odds and sods in the big conservative grouping the epp and in the socialist group  butthese personalities are far outweighed by the parties of the ivierkels and sarkozys  the polish member of the epp forexample is the ruling free market non nationalist conservative party of donald tusk   almost certainly the party that mrcameron would join if he were a pole  the new tory grouping the european conservatives and reformists by contrastis all about odds and sods whom a continental cameron would certainly shun bar one organisation   the britishconservatives so why get yourself into a position where you have to explain that the latvian ss wasn t so bad really and that mrkaminski has an understandable position on collective guilt  and the answer seems to be that mr cameron promised hiseurophobes in his leadership campaign back in number that he would leave the  federalist  epp and that the logicaloutcome of this move has been the weird alliance that he now finds himself defending was it all necessary  no  was it in britain s interests  absolutely not  is it in the interests of progressive conservatism you must be joking  so has this happened because mr cameron doesn t really care enough about europe to thinkthrough the consequences of his own lightly given promises or because he s just as much a euro nutter as those sectsthe hannanites the cashists and the redwoodians this is the kind of advice i loathe but i ll say it anyway  go to see our class mr c  this is one hole you don t want tokeep digging  \n",
      "0\n",
      "-----------------------------------------------------------\n",
      "\n",
      " formatting  formatting  formatting  formatting  formatting  formatting  formatting  formatting  formatting  formatting hi  formatting  formatting vdiagra for less  a  href numberd webaddress going on apparently they are securing the bound man to  the formatting indeed  a complete corruption of history  formatting  formatting  formatting  formatting        blanklinesnextpartblanklinesnumberblanklinesnumberblanklinesnumbercnumberfnumberfnumberanumberefnumber   \n",
      "1\n",
      "-----------------------------------------------------------\n",
      "\n",
      "i suspect they want him in johnstown but i will double check  \n",
      "0\n",
      "-----------------------------------------------------------\n",
      "\n",
      " numberddear sir  numberd  numberdwith due respect  trust and humility  i write you this numberdproposal believing that it will receive the most numberddesired attention from you even as we have not had any numberdprevious correspondence  although  i am constrained by numberdinsufficient information about you  but i will express numberdin full the main objectives of this proposal   numberd  numberdi am mr chris anderson personal aide and in law to the numberdformer president of the liberian mr  charles taylor  numberdwho resigned his post due to pressure from the numberdinternational community in order to maintain peace in numberdwest african region  his excellency who is currently numberdbehind bars at a u n  backed court in hague numberdnetherlands  facing number counts of war crimes during the numberdcountry s number number civil war  liberian government in numberdconjunction with sierra leone government has agreed on numberdjune number  number for security reason to hand him over to numberdu n war crime special court in hague  netherlands  numberd  numberdhis excellency who was arrested on a boarder between numberdnigeria and cameroun of which he instructed me to numberdescape with all his vital documents so that he could numberdface a u n  backed tribunal for war crime charges numberdwhich he is now currently facing  but before this new numberdunfolding events  though our original plan was after numberdsuccessful crossing to cameroun un noticed  i will numberdproceed to accra ghana totake the task of arranging numberdfor the immediate evacuation of the money in whish he numberddeposited in the custody of security finance company numberdbefore it will be discovered by international numberdcommunity or liberian government see the website for numberdmore details numberd numberdwebaddress  numberdhis excellency  while in jail has mandated me to numberdsecure the co operation of a trust worthy and reliable numberdfirm or individual as fund managers to whom he will numberdentrust certain amount of money to be managed within numberdthe period while he is in jail  on the terms as shall numberdbe agreed by both parties  the new government in numberdliberia lead by mrs  ellen johnson sir leaf has numberdinitiated moves to probe mr  taylor numbers governance while numberdin office with a view of recovering his assets and numberddeposits and repatriating such to the country as was numberdthe case with the late head of state of the federal numberdrepublic of nigeria  gen  sanni abacha as advised by numberdthe international community on liberian government  numberd  numberdon the wake of hostilities in liberia and the break numberdout of war between the rebels and the allied forces  numberdthe liberian government being under an arms embargo by numberdthe u n could not import arms officially  so mr  numberdtaylor resolved to illegal arms deal from the west numberdafrican region of ghana  which was transacted by cash numberdmonies  within this period  he succeeded in depositing numberda total sumof usd numberm only  in cash money derived numberdfrom the arms dealing custody of security finance numberdcompany in accra ghana  which is the trust company numberdfrom where the arms deal was financed  numberd  numberdwe intends to execute a deed of conveyance of this numberddeposit to a capable and trust worthy firm or numberdindividual who will immediately effect a change of numberdbeneficiary on the deposit and release it from the numberdcustody of security finance company by way of numberdterminating the deposit contract to avoid any trace numberdand repatriation of the deposit by the new government numberdin liberia  numberd  numberdterms of the transaction shall be discussed and numberdagreement entered into when you indicate your ability numberdto handle and manage funds of this magnitude under a numberdstrict confidential understanding   numberdplease treat as most confidential due to the sensitive numberdinformation given in here strictly to you  numberd  numberdyours sincerely numberdchris anderson numberdpersonal aide to the former liberian president numberd \n",
      "1\n",
      "-----------------------------------------------------------\n",
      "\n",
      "already working on it with eric s  jeremy b  and nss  \n",
      "0\n",
      "-----------------------------------------------------------\n",
      "\n",
      "please do not be apprehensive by this mail as i humbly seek your patience understanding and cooperation in regard to my below plight  once again  donotbe apprehensive considering its magnitude and the fact that we have notmeet before i am contacting you in confidence believing that you will not turn down myhumble request of you  which i intend for our mutual benefit i am mr  harrison bello  an accountant with fountain trust finance house  iamthe account manager of mr  fredrick coleman  an australian  who used to be acivil contractor in nigeria  in number  mr  fredrick coleman was involved in acar accident along sagamu express road and unfortunately his live  sincethen ihave made several enquiries through his country s embassy to locate anyof his extended relatives without successful  hence  i am contacting you to assist in retrieving the money and propertyleftbehind by my client before they get confiscated or declared unserviceable bythis firm mr  fredrick coleman s an account is valued number million dollars thecompany has issued me a notice to provide his next of kin or have theaccountconfiscated within the three months  since i have been unsuccessful inlocatinghis relatives for over number years now  i am therefore seeking your consent topresent you as the next of kin to the mr  coleman so that the proceeds ofthisaccount can be paid to you i intend to use part of this money for investment and charity outreachwhile weshall use part of it for our effort  for your assistance you will beentitledto number  and i number   while number  shall be used to reimburse expenses that mightbe incurred during the process  i have all necessary data to facilitate success all i require is your honest co operation and support to enable us see thisdeal through i guarantee you that this will be executed under a legitimate arrangementwill prevent anybreach of the law please  if its okay with you  get back to me at this email emailaddress  to enable us discuss further best regards harrison emailaddress \n",
      "1\n",
      "-----------------------------------------------------------\n",
      "\n",
      "ok thx  \n",
      "0\n",
      "-----------------------------------------------------------\n",
      "\n"
     ]
    }
   ],
   "source": [
    "# Random sampling of data to investigate dataset\n",
    "for i in range(0,10):\n",
    "  v = df.sample()\n",
    "  # print(v.iloc[0])\n",
    "  print(v.iloc[0][\"Text\"])\n",
    "  print(v.iloc[0][\"Class\"])\n",
    "  print(\"-----------------------------------------------------------\\n\")"
   ]
  },
  {
   "cell_type": "code",
   "execution_count": 11,
   "metadata": {},
   "outputs": [],
   "source": [
    "#Export\n",
    "# Export cleaned dataset to csv\n",
    "df.to_csv('dataset/merged_dataset_preprocessed.csv', index = False)"
   ]
  }
 ],
 "metadata": {
  "interpreter": {
   "hash": "bb43443fa454556f18816e979c43a6320d4342298f866d13f108c6970b0d4f17"
  },
  "kernelspec": {
   "display_name": "Python 3.9.12 ('AI4Goodlab')",
   "language": "python",
   "name": "python3"
  },
  "language_info": {
   "codemirror_mode": {
    "name": "ipython",
    "version": 3
   },
   "file_extension": ".py",
   "mimetype": "text/x-python",
   "name": "python",
   "nbconvert_exporter": "python",
   "pygments_lexer": "ipython3",
   "version": "3.9.12"
  },
  "orig_nbformat": 4
 },
 "nbformat": 4,
 "nbformat_minor": 2
}
